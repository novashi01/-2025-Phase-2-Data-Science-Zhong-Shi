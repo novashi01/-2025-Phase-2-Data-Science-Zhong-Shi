{
 "cells": [
  {
   "cell_type": "markdown",
   "id": "cbf6206a",
   "metadata": {},
   "source": [
    "# MSA 2025 Phase 2 - Part 2: Minimum Temperature Prediction from Weather Data"
   ]
  },
  {
   "cell_type": "markdown",
   "id": "3b46716d",
   "metadata": {},
   "source": [
    "## 1. Load and check the dataset"
   ]
  },
  {
   "cell_type": "code",
   "execution_count": 1,
   "id": "11a8294f",
   "metadata": {
    "language_info": {
     "name": "polyglot-notebook"
    },
    "polyglot_notebook": {
     "kernelName": "csharp"
    }
   },
   "outputs": [],
   "source": [
    "import pandas as pd\n",
    "import numpy as np\n",
    "import matplotlib.pyplot as plt\n",
    "import seaborn as sns\n"
   ]
  },
  {
   "cell_type": "code",
   "execution_count": null,
   "id": "e945db07",
   "metadata": {
    "language_info": {
     "name": "polyglot-notebook"
    },
    "polyglot_notebook": {
     "kernelName": "csharp"
    }
   },
   "outputs": [
    {
     "name": "stderr",
     "output_type": "stream",
     "text": [
      "/tmp/ipykernel_7773/271255126.py:3: DtypeWarning: Columns (7,8,18,25) have mixed types. Specify dtype option on import or set low_memory=False.\n",
      "  df = pd.read_csv(filepath)\n"
     ]
    },
    {
     "data": {
      "application/vnd.microsoft.datawrangler.viewer.v0+json": {
       "columns": [
        {
         "name": "index",
         "rawType": "int64",
         "type": "integer"
        },
        {
         "name": "STA",
         "rawType": "int64",
         "type": "integer"
        },
        {
         "name": "Date",
         "rawType": "object",
         "type": "string"
        },
        {
         "name": "Precip",
         "rawType": "object",
         "type": "string"
        },
        {
         "name": "WindGustSpd",
         "rawType": "float64",
         "type": "float"
        },
        {
         "name": "MaxTemp",
         "rawType": "float64",
         "type": "float"
        },
        {
         "name": "MinTemp",
         "rawType": "float64",
         "type": "float"
        },
        {
         "name": "MeanTemp",
         "rawType": "float64",
         "type": "float"
        },
        {
         "name": "Snowfall",
         "rawType": "object",
         "type": "unknown"
        },
        {
         "name": "PoorWeather",
         "rawType": "object",
         "type": "unknown"
        },
        {
         "name": "YR",
         "rawType": "int64",
         "type": "integer"
        },
        {
         "name": "MO",
         "rawType": "int64",
         "type": "integer"
        },
        {
         "name": "DA",
         "rawType": "int64",
         "type": "integer"
        },
        {
         "name": "PRCP",
         "rawType": "object",
         "type": "string"
        },
        {
         "name": "DR",
         "rawType": "float64",
         "type": "float"
        },
        {
         "name": "SPD",
         "rawType": "float64",
         "type": "float"
        },
        {
         "name": "MAX",
         "rawType": "float64",
         "type": "float"
        },
        {
         "name": "MIN",
         "rawType": "float64",
         "type": "float"
        },
        {
         "name": "MEA",
         "rawType": "float64",
         "type": "float"
        },
        {
         "name": "SNF",
         "rawType": "object",
         "type": "unknown"
        },
        {
         "name": "SND",
         "rawType": "float64",
         "type": "float"
        },
        {
         "name": "FT",
         "rawType": "float64",
         "type": "float"
        },
        {
         "name": "FB",
         "rawType": "float64",
         "type": "float"
        },
        {
         "name": "FTI",
         "rawType": "float64",
         "type": "float"
        },
        {
         "name": "ITH",
         "rawType": "float64",
         "type": "float"
        },
        {
         "name": "PGT",
         "rawType": "float64",
         "type": "float"
        },
        {
         "name": "TSHDSBRSGF",
         "rawType": "object",
         "type": "unknown"
        },
        {
         "name": "SD3",
         "rawType": "float64",
         "type": "float"
        },
        {
         "name": "RHX",
         "rawType": "float64",
         "type": "float"
        },
        {
         "name": "RHN",
         "rawType": "float64",
         "type": "float"
        },
        {
         "name": "RVG",
         "rawType": "float64",
         "type": "float"
        },
        {
         "name": "WTE",
         "rawType": "float64",
         "type": "float"
        }
       ],
       "ref": "a8ec4326-b5f6-4a6e-91b8-739dcc45626f",
       "rows": [
        [
         "0",
         "10001",
         "1942-7-1",
         "1.016",
         null,
         "25.55555556",
         "22.22222222",
         "23.88888889",
         "0.0",
         null,
         "42",
         "7",
         "1",
         "0.04",
         null,
         null,
         "78.0",
         "72.0",
         "75.0",
         "0.0",
         null,
         null,
         null,
         null,
         null,
         null,
         null,
         null,
         null,
         null,
         null,
         null
        ],
        [
         "1",
         "10001",
         "1942-7-2",
         "0",
         null,
         "28.88888889",
         "21.66666667",
         "25.55555556",
         "0.0",
         null,
         "42",
         "7",
         "2",
         "0",
         null,
         null,
         "84.0",
         "71.0",
         "78.0",
         "0.0",
         null,
         null,
         null,
         null,
         null,
         null,
         null,
         null,
         null,
         null,
         null,
         null
        ],
        [
         "2",
         "10001",
         "1942-7-3",
         "2.54",
         null,
         "26.11111111",
         "22.22222222",
         "24.44444444",
         "0.0",
         null,
         "42",
         "7",
         "3",
         "0.1",
         null,
         null,
         "79.0",
         "72.0",
         "76.0",
         "0.0",
         null,
         null,
         null,
         null,
         null,
         null,
         null,
         null,
         null,
         null,
         null,
         null
        ],
        [
         "3",
         "10001",
         "1942-7-4",
         "2.54",
         null,
         "26.66666667",
         "22.22222222",
         "24.44444444",
         "0.0",
         null,
         "42",
         "7",
         "4",
         "0.1",
         null,
         null,
         "80.0",
         "72.0",
         "76.0",
         "0.0",
         null,
         null,
         null,
         null,
         null,
         null,
         null,
         null,
         null,
         null,
         null,
         null
        ],
        [
         "4",
         "10001",
         "1942-7-5",
         "0",
         null,
         "26.66666667",
         "21.66666667",
         "24.44444444",
         "0.0",
         null,
         "42",
         "7",
         "5",
         "0",
         null,
         null,
         "80.0",
         "71.0",
         "76.0",
         "0.0",
         null,
         null,
         null,
         null,
         null,
         null,
         null,
         null,
         null,
         null,
         null,
         null
        ]
       ],
       "shape": {
        "columns": 31,
        "rows": 5
       }
      },
      "text/html": [
       "<div>\n",
       "<style scoped>\n",
       "    .dataframe tbody tr th:only-of-type {\n",
       "        vertical-align: middle;\n",
       "    }\n",
       "\n",
       "    .dataframe tbody tr th {\n",
       "        vertical-align: top;\n",
       "    }\n",
       "\n",
       "    .dataframe thead th {\n",
       "        text-align: right;\n",
       "    }\n",
       "</style>\n",
       "<table border=\"1\" class=\"dataframe\">\n",
       "  <thead>\n",
       "    <tr style=\"text-align: right;\">\n",
       "      <th></th>\n",
       "      <th>STA</th>\n",
       "      <th>Date</th>\n",
       "      <th>Precip</th>\n",
       "      <th>WindGustSpd</th>\n",
       "      <th>MaxTemp</th>\n",
       "      <th>MinTemp</th>\n",
       "      <th>MeanTemp</th>\n",
       "      <th>Snowfall</th>\n",
       "      <th>PoorWeather</th>\n",
       "      <th>YR</th>\n",
       "      <th>...</th>\n",
       "      <th>FB</th>\n",
       "      <th>FTI</th>\n",
       "      <th>ITH</th>\n",
       "      <th>PGT</th>\n",
       "      <th>TSHDSBRSGF</th>\n",
       "      <th>SD3</th>\n",
       "      <th>RHX</th>\n",
       "      <th>RHN</th>\n",
       "      <th>RVG</th>\n",
       "      <th>WTE</th>\n",
       "    </tr>\n",
       "  </thead>\n",
       "  <tbody>\n",
       "    <tr>\n",
       "      <th>0</th>\n",
       "      <td>10001</td>\n",
       "      <td>1942-7-1</td>\n",
       "      <td>1.016</td>\n",
       "      <td>NaN</td>\n",
       "      <td>25.555556</td>\n",
       "      <td>22.222222</td>\n",
       "      <td>23.888889</td>\n",
       "      <td>0.0</td>\n",
       "      <td>NaN</td>\n",
       "      <td>42</td>\n",
       "      <td>...</td>\n",
       "      <td>NaN</td>\n",
       "      <td>NaN</td>\n",
       "      <td>NaN</td>\n",
       "      <td>NaN</td>\n",
       "      <td>NaN</td>\n",
       "      <td>NaN</td>\n",
       "      <td>NaN</td>\n",
       "      <td>NaN</td>\n",
       "      <td>NaN</td>\n",
       "      <td>NaN</td>\n",
       "    </tr>\n",
       "    <tr>\n",
       "      <th>1</th>\n",
       "      <td>10001</td>\n",
       "      <td>1942-7-2</td>\n",
       "      <td>0</td>\n",
       "      <td>NaN</td>\n",
       "      <td>28.888889</td>\n",
       "      <td>21.666667</td>\n",
       "      <td>25.555556</td>\n",
       "      <td>0.0</td>\n",
       "      <td>NaN</td>\n",
       "      <td>42</td>\n",
       "      <td>...</td>\n",
       "      <td>NaN</td>\n",
       "      <td>NaN</td>\n",
       "      <td>NaN</td>\n",
       "      <td>NaN</td>\n",
       "      <td>NaN</td>\n",
       "      <td>NaN</td>\n",
       "      <td>NaN</td>\n",
       "      <td>NaN</td>\n",
       "      <td>NaN</td>\n",
       "      <td>NaN</td>\n",
       "    </tr>\n",
       "    <tr>\n",
       "      <th>2</th>\n",
       "      <td>10001</td>\n",
       "      <td>1942-7-3</td>\n",
       "      <td>2.54</td>\n",
       "      <td>NaN</td>\n",
       "      <td>26.111111</td>\n",
       "      <td>22.222222</td>\n",
       "      <td>24.444444</td>\n",
       "      <td>0.0</td>\n",
       "      <td>NaN</td>\n",
       "      <td>42</td>\n",
       "      <td>...</td>\n",
       "      <td>NaN</td>\n",
       "      <td>NaN</td>\n",
       "      <td>NaN</td>\n",
       "      <td>NaN</td>\n",
       "      <td>NaN</td>\n",
       "      <td>NaN</td>\n",
       "      <td>NaN</td>\n",
       "      <td>NaN</td>\n",
       "      <td>NaN</td>\n",
       "      <td>NaN</td>\n",
       "    </tr>\n",
       "    <tr>\n",
       "      <th>3</th>\n",
       "      <td>10001</td>\n",
       "      <td>1942-7-4</td>\n",
       "      <td>2.54</td>\n",
       "      <td>NaN</td>\n",
       "      <td>26.666667</td>\n",
       "      <td>22.222222</td>\n",
       "      <td>24.444444</td>\n",
       "      <td>0.0</td>\n",
       "      <td>NaN</td>\n",
       "      <td>42</td>\n",
       "      <td>...</td>\n",
       "      <td>NaN</td>\n",
       "      <td>NaN</td>\n",
       "      <td>NaN</td>\n",
       "      <td>NaN</td>\n",
       "      <td>NaN</td>\n",
       "      <td>NaN</td>\n",
       "      <td>NaN</td>\n",
       "      <td>NaN</td>\n",
       "      <td>NaN</td>\n",
       "      <td>NaN</td>\n",
       "    </tr>\n",
       "    <tr>\n",
       "      <th>4</th>\n",
       "      <td>10001</td>\n",
       "      <td>1942-7-5</td>\n",
       "      <td>0</td>\n",
       "      <td>NaN</td>\n",
       "      <td>26.666667</td>\n",
       "      <td>21.666667</td>\n",
       "      <td>24.444444</td>\n",
       "      <td>0.0</td>\n",
       "      <td>NaN</td>\n",
       "      <td>42</td>\n",
       "      <td>...</td>\n",
       "      <td>NaN</td>\n",
       "      <td>NaN</td>\n",
       "      <td>NaN</td>\n",
       "      <td>NaN</td>\n",
       "      <td>NaN</td>\n",
       "      <td>NaN</td>\n",
       "      <td>NaN</td>\n",
       "      <td>NaN</td>\n",
       "      <td>NaN</td>\n",
       "      <td>NaN</td>\n",
       "    </tr>\n",
       "  </tbody>\n",
       "</table>\n",
       "<p>5 rows × 31 columns</p>\n",
       "</div>"
      ],
      "text/plain": [
       "     STA      Date Precip  WindGustSpd    MaxTemp    MinTemp   MeanTemp  \\\n",
       "0  10001  1942-7-1  1.016          NaN  25.555556  22.222222  23.888889   \n",
       "1  10001  1942-7-2      0          NaN  28.888889  21.666667  25.555556   \n",
       "2  10001  1942-7-3   2.54          NaN  26.111111  22.222222  24.444444   \n",
       "3  10001  1942-7-4   2.54          NaN  26.666667  22.222222  24.444444   \n",
       "4  10001  1942-7-5      0          NaN  26.666667  21.666667  24.444444   \n",
       "\n",
       "  Snowfall PoorWeather  YR  ...  FB  FTI ITH  PGT  TSHDSBRSGF  SD3  RHX  RHN  \\\n",
       "0      0.0         NaN  42  ... NaN  NaN NaN  NaN         NaN  NaN  NaN  NaN   \n",
       "1      0.0         NaN  42  ... NaN  NaN NaN  NaN         NaN  NaN  NaN  NaN   \n",
       "2      0.0         NaN  42  ... NaN  NaN NaN  NaN         NaN  NaN  NaN  NaN   \n",
       "3      0.0         NaN  42  ... NaN  NaN NaN  NaN         NaN  NaN  NaN  NaN   \n",
       "4      0.0         NaN  42  ... NaN  NaN NaN  NaN         NaN  NaN  NaN  NaN   \n",
       "\n",
       "  RVG  WTE  \n",
       "0 NaN  NaN  \n",
       "1 NaN  NaN  \n",
       "2 NaN  NaN  \n",
       "3 NaN  NaN  \n",
       "4 NaN  NaN  \n",
       "\n",
       "[5 rows x 31 columns]"
      ]
     },
     "execution_count": 22,
     "metadata": {},
     "output_type": "execute_result"
    }
   ],
   "source": [
    "# Load the dataset\n",
    "filepath = '/workspaces/2025-Phase-2/data-science/2. Machine Learning Project/Summary of Weather.csv'\n",
    "df = pd.read_csv(filepath)\n",
    "# Display the first few rows of the dataset\n",
    "df.head()\n"
   ]
  },
  {
   "cell_type": "code",
   "execution_count": null,
   "id": "e5aa19c3",
   "metadata": {
    "language_info": {
     "name": "polyglot-notebook"
    },
    "polyglot_notebook": {
     "kernelName": "csharp"
    }
   },
   "outputs": [
    {
     "name": "stdout",
     "output_type": "stream",
     "text": [
      "<class 'pandas.core.frame.DataFrame'>\n",
      "RangeIndex: 119040 entries, 0 to 119039\n",
      "Data columns (total 31 columns):\n",
      " #   Column       Non-Null Count   Dtype  \n",
      "---  ------       --------------   -----  \n",
      " 0   STA          119040 non-null  int64  \n",
      " 1   Date         119040 non-null  object \n",
      " 2   Precip       119040 non-null  object \n",
      " 3   WindGustSpd  532 non-null     float64\n",
      " 4   MaxTemp      119040 non-null  float64\n",
      " 5   MinTemp      119040 non-null  float64\n",
      " 6   MeanTemp     119040 non-null  float64\n",
      " 7   Snowfall     117877 non-null  object \n",
      " 8   PoorWeather  34237 non-null   object \n",
      " 9   YR           119040 non-null  int64  \n",
      " 10  MO           119040 non-null  int64  \n",
      " 11  DA           119040 non-null  int64  \n",
      " 12  PRCP         117108 non-null  object \n",
      " 13  DR           533 non-null     float64\n",
      " 14  SPD          532 non-null     float64\n",
      " 15  MAX          118566 non-null  float64\n",
      " 16  MIN          118572 non-null  float64\n",
      " 17  MEA          118542 non-null  float64\n",
      " 18  SNF          117877 non-null  object \n",
      " 19  SND          5563 non-null    float64\n",
      " 20  FT           0 non-null       float64\n",
      " 21  FB           0 non-null       float64\n",
      " 22  FTI          0 non-null       float64\n",
      " 23  ITH          0 non-null       float64\n",
      " 24  PGT          525 non-null     float64\n",
      " 25  TSHDSBRSGF   34237 non-null   object \n",
      " 26  SD3          0 non-null       float64\n",
      " 27  RHX          0 non-null       float64\n",
      " 28  RHN          0 non-null       float64\n",
      " 29  RVG          0 non-null       float64\n",
      " 30  WTE          0 non-null       float64\n",
      "dtypes: float64(20), int64(4), object(7)\n",
      "memory usage: 28.2+ MB\n"
     ]
    },
    {
     "data": {
      "application/vnd.microsoft.datawrangler.viewer.v0+json": {
       "columns": [
        {
         "name": "index",
         "rawType": "object",
         "type": "string"
        },
        {
         "name": "0",
         "rawType": "int64",
         "type": "integer"
        }
       ],
       "ref": "ea2c4e8e-4e61-447a-9173-765e43743d25",
       "rows": [
        [
         "STA",
         "0"
        ],
        [
         "Date",
         "0"
        ],
        [
         "Precip",
         "0"
        ],
        [
         "WindGustSpd",
         "118508"
        ],
        [
         "MaxTemp",
         "0"
        ],
        [
         "MinTemp",
         "0"
        ],
        [
         "MeanTemp",
         "0"
        ],
        [
         "Snowfall",
         "1163"
        ],
        [
         "PoorWeather",
         "84803"
        ],
        [
         "YR",
         "0"
        ],
        [
         "MO",
         "0"
        ],
        [
         "DA",
         "0"
        ],
        [
         "PRCP",
         "1932"
        ],
        [
         "DR",
         "118507"
        ],
        [
         "SPD",
         "118508"
        ],
        [
         "MAX",
         "474"
        ],
        [
         "MIN",
         "468"
        ],
        [
         "MEA",
         "498"
        ],
        [
         "SNF",
         "1163"
        ],
        [
         "SND",
         "113477"
        ],
        [
         "FT",
         "119040"
        ],
        [
         "FB",
         "119040"
        ],
        [
         "FTI",
         "119040"
        ],
        [
         "ITH",
         "119040"
        ],
        [
         "PGT",
         "118515"
        ],
        [
         "TSHDSBRSGF",
         "84803"
        ],
        [
         "SD3",
         "119040"
        ],
        [
         "RHX",
         "119040"
        ],
        [
         "RHN",
         "119040"
        ],
        [
         "RVG",
         "119040"
        ],
        [
         "WTE",
         "119040"
        ]
       ],
       "shape": {
        "columns": 1,
        "rows": 31
       }
      },
      "text/plain": [
       "STA                 0\n",
       "Date                0\n",
       "Precip              0\n",
       "WindGustSpd    118508\n",
       "MaxTemp             0\n",
       "MinTemp             0\n",
       "MeanTemp            0\n",
       "Snowfall         1163\n",
       "PoorWeather     84803\n",
       "YR                  0\n",
       "MO                  0\n",
       "DA                  0\n",
       "PRCP             1932\n",
       "DR             118507\n",
       "SPD            118508\n",
       "MAX               474\n",
       "MIN               468\n",
       "MEA               498\n",
       "SNF              1163\n",
       "SND            113477\n",
       "FT             119040\n",
       "FB             119040\n",
       "FTI            119040\n",
       "ITH            119040\n",
       "PGT            118515\n",
       "TSHDSBRSGF      84803\n",
       "SD3            119040\n",
       "RHX            119040\n",
       "RHN            119040\n",
       "RVG            119040\n",
       "WTE            119040\n",
       "dtype: int64"
      ]
     },
     "execution_count": 23,
     "metadata": {},
     "output_type": "execute_result"
    }
   ],
   "source": [
    "df.info()\n",
    "# Check for missing values\n",
    "df.isnull().sum()"
   ]
  },
  {
   "cell_type": "code",
   "execution_count": null,
   "id": "53a70034",
   "metadata": {
    "language_info": {
     "name": "polyglot-notebook"
    },
    "polyglot_notebook": {
     "kernelName": "csharp"
    }
   },
   "outputs": [
    {
     "name": "stdout",
     "output_type": "stream",
     "text": [
      "                 STA  WindGustSpd        MaxTemp        MinTemp  \\\n",
      "count  119040.000000   532.000000  119040.000000  119040.000000   \n",
      "mean    29659.435795    37.774534      27.045111      17.789511   \n",
      "std     20953.209402    10.297808       8.717817       8.334572   \n",
      "min     10001.000000    18.520000     -33.333333     -38.333333   \n",
      "25%     11801.000000    29.632000      25.555556      15.000000   \n",
      "50%     22508.000000    37.040000      29.444444      21.111111   \n",
      "75%     33501.000000    43.059000      31.666667      23.333333   \n",
      "max     82506.000000    75.932000      50.000000      34.444444   \n",
      "\n",
      "            MeanTemp             YR             MO             DA          DR  \\\n",
      "count  119040.000000  119040.000000  119040.000000  119040.000000  533.000000   \n",
      "mean       22.411631      43.805284       6.726016      15.797530   26.998124   \n",
      "std         8.297982       1.136718       3.425561       8.794541   15.221732   \n",
      "min       -35.555556      40.000000       1.000000       1.000000    2.000000   \n",
      "25%        20.555556      43.000000       4.000000       8.000000   11.000000   \n",
      "50%        25.555556      44.000000       7.000000      16.000000   32.000000   \n",
      "75%        27.222222      45.000000      10.000000      23.000000   34.000000   \n",
      "max        40.000000      45.000000      12.000000      31.000000   78.000000   \n",
      "\n",
      "              SPD  ...   FT   FB  FTI  ITH         PGT  SD3  RHX  RHN  RVG  \\\n",
      "count  532.000000  ...  0.0  0.0  0.0  0.0  525.000000  0.0  0.0  0.0  0.0   \n",
      "mean    20.396617  ...  NaN  NaN  NaN  NaN   12.085333  NaN  NaN  NaN  NaN   \n",
      "std      5.560371  ...  NaN  NaN  NaN  NaN    5.731328  NaN  NaN  NaN  NaN   \n",
      "min     10.000000  ...  NaN  NaN  NaN  NaN    0.000000  NaN  NaN  NaN  NaN   \n",
      "25%     16.000000  ...  NaN  NaN  NaN  NaN    8.500000  NaN  NaN  NaN  NaN   \n",
      "50%     20.000000  ...  NaN  NaN  NaN  NaN   11.600000  NaN  NaN  NaN  NaN   \n",
      "75%     23.250000  ...  NaN  NaN  NaN  NaN   15.000000  NaN  NaN  NaN  NaN   \n",
      "max     41.000000  ...  NaN  NaN  NaN  NaN   23.900000  NaN  NaN  NaN  NaN   \n",
      "\n",
      "       WTE  \n",
      "count  0.0  \n",
      "mean   NaN  \n",
      "std    NaN  \n",
      "min    NaN  \n",
      "25%    NaN  \n",
      "50%    NaN  \n",
      "75%    NaN  \n",
      "max    NaN  \n",
      "\n",
      "[8 rows x 24 columns]\n"
     ]
    },
    {
     "data": {
      "image/png": "[encoded data removed]",
      "text/plain": [
       "<Figure size 1000x600 with 1 Axes>"
      ]
     },
     "metadata": {},
     "output_type": "display_data"
    }
   ],
   "source": [
    "print(df.describe())\n",
    "# Visualize the distribution of temperature\n",
    "plt.figure(figsize=(10, 6))\n",
    "sns.histplot(df['MinTemp'], bins=30, kde=True)\n",
    "plt.title('Distribution of Minimum Temperature')\n",
    "plt.xlabel('Temperature (°C)')\n",
    "plt.ylabel('Frequency')\n",
    "plt.show()"
   ]
  },
  {
   "cell_type": "markdown",
   "id": "24632408",
   "metadata": {},
   "source": [
    "## 2. Clean the dataset, drop variables"
   ]
  },
  {
   "cell_type": "code",
   "execution_count": null,
   "id": "e679c86c",
   "metadata": {
    "language_info": {
     "name": "polyglot-notebook"
    },
    "polyglot_notebook": {
     "kernelName": "csharp"
    }
   },
   "outputs": [],
   "source": [
    "# Define a threshold for dropping columns based on missing values\n",
    "# Drop columns that are more than 99% empty\n",
    "threshold = len(df) * 0.01\n",
    "df.dropna(axis='columns', thresh=threshold, inplace=True)"
   ]
  },
  {
   "cell_type": "code",
   "execution_count": null,
   "id": "20f4e70a",
   "metadata": {
    "language_info": {
     "name": "polyglot-notebook"
    },
    "polyglot_notebook": {
     "kernelName": "csharp"
    }
   },
   "outputs": [
    {
     "name": "stdout",
     "output_type": "stream",
     "text": [
      "<class 'pandas.core.frame.DataFrame'>\n",
      "RangeIndex: 119040 entries, 0 to 119039\n",
      "Data columns (total 18 columns):\n",
      " #   Column       Non-Null Count   Dtype  \n",
      "---  ------       --------------   -----  \n",
      " 0   STA          119040 non-null  int64  \n",
      " 1   Date         119040 non-null  object \n",
      " 2   Precip       119040 non-null  object \n",
      " 3   MaxTemp      119040 non-null  float64\n",
      " 4   MinTemp      119040 non-null  float64\n",
      " 5   MeanTemp     119040 non-null  float64\n",
      " 6   Snowfall     117877 non-null  object \n",
      " 7   PoorWeather  34237 non-null   object \n",
      " 8   YR           119040 non-null  int64  \n",
      " 9   MO           119040 non-null  int64  \n",
      " 10  DA           119040 non-null  int64  \n",
      " 11  PRCP         117108 non-null  object \n",
      " 12  MAX          118566 non-null  float64\n",
      " 13  MIN          118572 non-null  float64\n",
      " 14  MEA          118542 non-null  float64\n",
      " 15  SNF          117877 non-null  object \n",
      " 16  SND          5563 non-null    float64\n",
      " 17  TSHDSBRSGF   34237 non-null   object \n",
      "dtypes: float64(7), int64(4), object(7)\n",
      "memory usage: 16.3+ MB\n"
     ]
    }
   ],
   "source": [
    "df.info()"
   ]
  },
  {
   "cell_type": "code",
   "execution_count": null,
   "id": "4de08e64",
   "metadata": {
    "language_info": {
     "name": "polyglot-notebook"
    },
    "polyglot_notebook": {
     "kernelName": "csharp"
    }
   },
   "outputs": [
    {
     "name": "stdout",
     "output_type": "stream",
     "text": [
      "Dropped 'MeanTemp' column.\n"
     ]
    }
   ],
   "source": [
    "# Drop the 'MeanTemp' column to prevent data leakage\n",
    "if 'MeanTemp' in df.columns:\n",
    "    df.drop('MeanTemp', axis=1, inplace=True)\n",
    "    print(\"Dropped 'MeanTemp' column.\")"
   ]
  },
  {
   "cell_type": "code",
   "execution_count": null,
   "id": "f9eb5970",
   "metadata": {
    "language_info": {
     "name": "polyglot-notebook"
    },
    "polyglot_notebook": {
     "kernelName": "csharp"
    }
   },
   "outputs": [
    {
     "name": "stdout",
     "output_type": "stream",
     "text": [
      "Converted 'Date' column to datetime format.\n",
      "\n",
      "Creating cyclical features directly from 'Date' column...\n",
      "Cyclical features created: 'month_sin', 'month_cos', 'day_of_year_sin', 'day_of_year_cos'.\n",
      "Dropped the original 'Date', 'YR', 'MO', 'DA' columns.\n",
      "\n",
      "Final DataFrame after preprocessing:\n",
      "     STA Precip    MaxTemp    MinTemp Snowfall PoorWeather  PRCP   MAX   MIN  \\\n",
      "0  10001  1.016  25.555556  22.222222      0.0         NaN  0.04  78.0  72.0   \n",
      "1  10001      0  28.888889  21.666667      0.0         NaN     0  84.0  71.0   \n",
      "2  10001   2.54  26.111111  22.222222      0.0         NaN   0.1  79.0  72.0   \n",
      "3  10001   2.54  26.666667  22.222222      0.0         NaN   0.1  80.0  72.0   \n",
      "4  10001      0  26.666667  21.666667      0.0         NaN     0  80.0  71.0   \n",
      "\n",
      "    MEA  SNF  SND TSHDSBRSGF  month_sin  month_cos  day_of_year_sin  \\\n",
      "0  75.0  0.0  NaN        NaN       -0.5  -0.866025         0.010751   \n",
      "1  78.0  0.0  NaN        NaN       -0.5  -0.866025        -0.006451   \n",
      "2  76.0  0.0  NaN        NaN       -0.5  -0.866025        -0.023651   \n",
      "3  76.0  0.0  NaN        NaN       -0.5  -0.866025        -0.040844   \n",
      "4  76.0  0.0  NaN        NaN       -0.5  -0.866025        -0.058026   \n",
      "\n",
      "   day_of_year_cos  \n",
      "0        -0.999942  \n",
      "1        -0.999979  \n",
      "2        -0.999720  \n",
      "3        -0.999166  \n",
      "4        -0.998315  \n"
     ]
    }
   ],
   "source": [
    "# Convert the 'Date' column to datetime format\n",
    "df['Date'] = pd.to_datetime(df['Date'], format='%Y-%m-%d')\n",
    "print(\"Converted 'Date' column to datetime format.\")\n",
    "\n",
    "print(\"\\nCreating cyclical features directly from 'Date' column...\")\n",
    "# Extract cyclical features from the 'Date' column\n",
    "month = df['Date'].dt.month\n",
    "day_of_year = df['Date'].dt.dayofyear\n",
    "\n",
    "# Create cyclical features for month and day of the year\n",
    "df['month_sin'] = np.sin(2 * np.pi * month / 12)\n",
    "df['month_cos'] = np.cos(2 * np.pi * month / 12)\n",
    "df['day_of_year_sin'] = np.sin(2 * np.pi * day_of_year / 365.25)\n",
    "df['day_of_year_cos'] = np.cos(2 * np.pi * day_of_year / 365.25)\n",
    "\n",
    "print(\"Cyclical features created: 'month_sin', 'month_cos', 'day_of_year_sin', 'day_of_year_cos'.\")\n",
    "\n",
    "# Drop the original 'Date', 'YR', 'MO', 'DA' columns\n",
    "df.drop(['Date', 'YR', 'MO', 'DA'], axis=1, inplace=True)\n",
    "print(\"Dropped the original 'Date', 'YR', 'MO', 'DA' columns.\")\n",
    "\n",
    "print(\"\\nFinal DataFrame after preprocessing:\")\n",
    "print(df.head())\n",
    "\n",
    "\n"
   ]
  },
  {
   "cell_type": "code",
   "execution_count": null,
   "id": "c7fa5cd7",
   "metadata": {
    "language_info": {
     "name": "polyglot-notebook"
    },
    "polyglot_notebook": {
     "kernelName": "csharp"
    }
   },
   "outputs": [
    {
     "data": {
      "application/vnd.microsoft.datawrangler.viewer.v0+json": {
       "columns": [
        {
         "name": "index",
         "rawType": "int64",
         "type": "integer"
        },
        {
         "name": "STA",
         "rawType": "int64",
         "type": "integer"
        },
        {
         "name": "Precip",
         "rawType": "object",
         "type": "string"
        },
        {
         "name": "MaxTemp",
         "rawType": "float64",
         "type": "float"
        },
        {
         "name": "MinTemp",
         "rawType": "float64",
         "type": "float"
        },
        {
         "name": "Snowfall",
         "rawType": "object",
         "type": "unknown"
        },
        {
         "name": "PoorWeather",
         "rawType": "object",
         "type": "unknown"
        },
        {
         "name": "PRCP",
         "rawType": "object",
         "type": "string"
        },
        {
         "name": "MAX",
         "rawType": "float64",
         "type": "float"
        },
        {
         "name": "MIN",
         "rawType": "float64",
         "type": "float"
        },
        {
         "name": "MEA",
         "rawType": "float64",
         "type": "float"
        },
        {
         "name": "SNF",
         "rawType": "object",
         "type": "unknown"
        },
        {
         "name": "SND",
         "rawType": "float64",
         "type": "float"
        },
        {
         "name": "TSHDSBRSGF",
         "rawType": "object",
         "type": "unknown"
        },
        {
         "name": "month_sin",
         "rawType": "float64",
         "type": "float"
        },
        {
         "name": "month_cos",
         "rawType": "float64",
         "type": "float"
        },
        {
         "name": "day_of_year_sin",
         "rawType": "float64",
         "type": "float"
        },
        {
         "name": "day_of_year_cos",
         "rawType": "float64",
         "type": "float"
        }
       ],
       "ref": "ecbf4cc2-634d-4e0c-9ab3-386335d38cc5",
       "rows": [
        [
         "0",
         "10001",
         "1.016",
         "25.55555556",
         "22.22222222",
         "0.0",
         null,
         "0.04",
         "78.0",
         "72.0",
         "75.0",
         "0.0",
         null,
         null,
         "-0.4999999999999997",
         "-0.8660254037844388",
         "0.01075130776352193",
         "-0.9999422030204416"
        ],
        [
         "1",
         "10001",
         "0",
         "28.88888889",
         "21.66666667",
         "0.0",
         null,
         "0",
         "84.0",
         "71.0",
         "78.0",
         "0.0",
         null,
         null,
         "-0.4999999999999997",
         "-0.8660254037844388",
         "-0.00645086419810515",
         "-0.9999791929590823"
        ],
        [
         "2",
         "10001",
         "2.54",
         "26.11111111",
         "22.22222222",
         "0.0",
         null,
         "0.1",
         "79.0",
         "72.0",
         "76.0",
         "0.0",
         null,
         null,
         "-0.4999999999999997",
         "-0.8660254037844388",
         "-0.023651127245231586",
         "-0.9997202729664083"
        ],
        [
         "3",
         "10001",
         "2.54",
         "26.66666667",
         "22.22222222",
         "0.0",
         null,
         "0.1",
         "80.0",
         "72.0",
         "76.0",
         "0.0",
         null,
         null,
         "-0.4999999999999997",
         "-0.8660254037844388",
         "-0.04084439154329611",
         "-0.9991655196610109"
        ],
        [
         "4",
         "10001",
         "0",
         "26.66666667",
         "21.66666667",
         "0.0",
         null,
         "0",
         "80.0",
         "71.0",
         "76.0",
         "0.0",
         null,
         null,
         "-0.4999999999999997",
         "-0.8660254037844388",
         "-0.05802556932878035",
         "-0.9983150972033183"
        ]
       ],
       "shape": {
        "columns": 17,
        "rows": 5
       }
      },
      "text/html": [
       "<div>\n",
       "<style scoped>\n",
       "    .dataframe tbody tr th:only-of-type {\n",
       "        vertical-align: middle;\n",
       "    }\n",
       "\n",
       "    .dataframe tbody tr th {\n",
       "        vertical-align: top;\n",
       "    }\n",
       "\n",
       "    .dataframe thead th {\n",
       "        text-align: right;\n",
       "    }\n",
       "</style>\n",
       "<table border=\"1\" class=\"dataframe\">\n",
       "  <thead>\n",
       "    <tr style=\"text-align: right;\">\n",
       "      <th></th>\n",
       "      <th>STA</th>\n",
       "      <th>Precip</th>\n",
       "      <th>MaxTemp</th>\n",
       "      <th>MinTemp</th>\n",
       "      <th>Snowfall</th>\n",
       "      <th>PoorWeather</th>\n",
       "      <th>PRCP</th>\n",
       "      <th>MAX</th>\n",
       "      <th>MIN</th>\n",
       "      <th>MEA</th>\n",
       "      <th>SNF</th>\n",
       "      <th>SND</th>\n",
       "      <th>TSHDSBRSGF</th>\n",
       "      <th>month_sin</th>\n",
       "      <th>month_cos</th>\n",
       "      <th>day_of_year_sin</th>\n",
       "      <th>day_of_year_cos</th>\n",
       "    </tr>\n",
       "  </thead>\n",
       "  <tbody>\n",
       "    <tr>\n",
       "      <th>0</th>\n",
       "      <td>10001</td>\n",
       "      <td>1.016</td>\n",
       "      <td>25.555556</td>\n",
       "      <td>22.222222</td>\n",
       "      <td>0.0</td>\n",
       "      <td>NaN</td>\n",
       "      <td>0.04</td>\n",
       "      <td>78.0</td>\n",
       "      <td>72.0</td>\n",
       "      <td>75.0</td>\n",
       "      <td>0.0</td>\n",
       "      <td>NaN</td>\n",
       "      <td>NaN</td>\n",
       "      <td>-0.5</td>\n",
       "      <td>-0.866025</td>\n",
       "      <td>0.010751</td>\n",
       "      <td>-0.999942</td>\n",
       "    </tr>\n",
       "    <tr>\n",
       "      <th>1</th>\n",
       "      <td>10001</td>\n",
       "      <td>0</td>\n",
       "      <td>28.888889</td>\n",
       "      <td>21.666667</td>\n",
       "      <td>0.0</td>\n",
       "      <td>NaN</td>\n",
       "      <td>0</td>\n",
       "      <td>84.0</td>\n",
       "      <td>71.0</td>\n",
       "      <td>78.0</td>\n",
       "      <td>0.0</td>\n",
       "      <td>NaN</td>\n",
       "      <td>NaN</td>\n",
       "      <td>-0.5</td>\n",
       "      <td>-0.866025</td>\n",
       "      <td>-0.006451</td>\n",
       "      <td>-0.999979</td>\n",
       "    </tr>\n",
       "    <tr>\n",
       "      <th>2</th>\n",
       "      <td>10001</td>\n",
       "      <td>2.54</td>\n",
       "      <td>26.111111</td>\n",
       "      <td>22.222222</td>\n",
       "      <td>0.0</td>\n",
       "      <td>NaN</td>\n",
       "      <td>0.1</td>\n",
       "      <td>79.0</td>\n",
       "      <td>72.0</td>\n",
       "      <td>76.0</td>\n",
       "      <td>0.0</td>\n",
       "      <td>NaN</td>\n",
       "      <td>NaN</td>\n",
       "      <td>-0.5</td>\n",
       "      <td>-0.866025</td>\n",
       "      <td>-0.023651</td>\n",
       "      <td>-0.999720</td>\n",
       "    </tr>\n",
       "    <tr>\n",
       "      <th>3</th>\n",
       "      <td>10001</td>\n",
       "      <td>2.54</td>\n",
       "      <td>26.666667</td>\n",
       "      <td>22.222222</td>\n",
       "      <td>0.0</td>\n",
       "      <td>NaN</td>\n",
       "      <td>0.1</td>\n",
       "      <td>80.0</td>\n",
       "      <td>72.0</td>\n",
       "      <td>76.0</td>\n",
       "      <td>0.0</td>\n",
       "      <td>NaN</td>\n",
       "      <td>NaN</td>\n",
       "      <td>-0.5</td>\n",
       "      <td>-0.866025</td>\n",
       "      <td>-0.040844</td>\n",
       "      <td>-0.999166</td>\n",
       "    </tr>\n",
       "    <tr>\n",
       "      <th>4</th>\n",
       "      <td>10001</td>\n",
       "      <td>0</td>\n",
       "      <td>26.666667</td>\n",
       "      <td>21.666667</td>\n",
       "      <td>0.0</td>\n",
       "      <td>NaN</td>\n",
       "      <td>0</td>\n",
       "      <td>80.0</td>\n",
       "      <td>71.0</td>\n",
       "      <td>76.0</td>\n",
       "      <td>0.0</td>\n",
       "      <td>NaN</td>\n",
       "      <td>NaN</td>\n",
       "      <td>-0.5</td>\n",
       "      <td>-0.866025</td>\n",
       "      <td>-0.058026</td>\n",
       "      <td>-0.998315</td>\n",
       "    </tr>\n",
       "  </tbody>\n",
       "</table>\n",
       "</div>"
      ],
      "text/plain": [
       "     STA Precip    MaxTemp    MinTemp Snowfall PoorWeather  PRCP   MAX   MIN  \\\n",
       "0  10001  1.016  25.555556  22.222222      0.0         NaN  0.04  78.0  72.0   \n",
       "1  10001      0  28.888889  21.666667      0.0         NaN     0  84.0  71.0   \n",
       "2  10001   2.54  26.111111  22.222222      0.0         NaN   0.1  79.0  72.0   \n",
       "3  10001   2.54  26.666667  22.222222      0.0         NaN   0.1  80.0  72.0   \n",
       "4  10001      0  26.666667  21.666667      0.0         NaN     0  80.0  71.0   \n",
       "\n",
       "    MEA  SNF  SND TSHDSBRSGF  month_sin  month_cos  day_of_year_sin  \\\n",
       "0  75.0  0.0  NaN        NaN       -0.5  -0.866025         0.010751   \n",
       "1  78.0  0.0  NaN        NaN       -0.5  -0.866025        -0.006451   \n",
       "2  76.0  0.0  NaN        NaN       -0.5  -0.866025        -0.023651   \n",
       "3  76.0  0.0  NaN        NaN       -0.5  -0.866025        -0.040844   \n",
       "4  76.0  0.0  NaN        NaN       -0.5  -0.866025        -0.058026   \n",
       "\n",
       "   day_of_year_cos  \n",
       "0        -0.999942  \n",
       "1        -0.999979  \n",
       "2        -0.999720  \n",
       "3        -0.999166  \n",
       "4        -0.998315  "
      ]
     },
     "execution_count": 29,
     "metadata": {},
     "output_type": "execute_result"
    }
   ],
   "source": [
    "df.head()"
   ]
  },
  {
   "cell_type": "code",
   "execution_count": null,
   "id": "2e6c7e23",
   "metadata": {
    "language_info": {
     "name": "polyglot-notebook"
    },
    "polyglot_notebook": {
     "kernelName": "csharp"
    }
   },
   "outputs": [
    {
     "name": "stdout",
     "output_type": "stream",
     "text": [
      "Number of NaNs created during conversion:\n",
      "Precip       0\n",
      "PRCP      1932\n",
      "dtype: int64\n",
      "\n",
      "Filled newly created NaNs with 0.\n"
     ]
    },
    {
     "name": "stderr",
     "output_type": "stream",
     "text": [
      "/tmp/ipykernel_7773/324863508.py:11: FutureWarning: A value is trying to be set on a copy of a DataFrame or Series through chained assignment using an inplace method.\n",
      "The behavior will change in pandas 3.0. This inplace method will never work because the intermediate object on which we are setting values always behaves as a copy.\n",
      "\n",
      "For example, when doing 'df[col].method(value, inplace=True)', try using 'df.method({col: value}, inplace=True)' or df[col] = df[col].method(value) instead, to perform the operation inplace on the original object.\n",
      "\n",
      "\n",
      "  df['Precip'].fillna(0, inplace=True)\n",
      "/tmp/ipykernel_7773/324863508.py:12: FutureWarning: A value is trying to be set on a copy of a DataFrame or Series through chained assignment using an inplace method.\n",
      "The behavior will change in pandas 3.0. This inplace method will never work because the intermediate object on which we are setting values always behaves as a copy.\n",
      "\n",
      "For example, when doing 'df[col].method(value, inplace=True)', try using 'df.method({col: value}, inplace=True)' or df[col] = df[col].method(value) instead, to perform the operation inplace on the original object.\n",
      "\n",
      "\n",
      "  df['PRCP'].fillna(0, inplace=True)\n"
     ]
    }
   ],
   "source": [
    "# Convert 'Precip' column to numeric, replacing 'T' with 0.01\n",
    "df['Precip'] = df['Precip'].replace('T', 0.01)\n",
    "df['Precip'] = pd.to_numeric(df['Precip'], errors='coerce')\n",
    "\n",
    "df['PRCP'] = df['PRCP'].replace('T', 0.01)\n",
    "df['PRCP'] = pd.to_numeric(df['PRCP'], errors='coerce')\n",
    "\n",
    "print(\"Number of NaNs created during conversion:\")\n",
    "print(df[['Precip', 'PRCP']].isnull().sum())\n",
    "\n",
    "# Fill newly created NaNs with 0\n",
    "df['Precip'].fillna(0, inplace=True)\n",
    "df['PRCP'].fillna(0, inplace=True)\n",
    "print(\"\\nFilled newly created NaNs with 0.\")"
   ]
  },
  {
   "cell_type": "code",
   "execution_count": null,
   "id": "e5ce7632",
   "metadata": {
    "language_info": {
     "name": "polyglot-notebook"
    },
    "polyglot_notebook": {
     "kernelName": "csharp"
    }
   },
   "outputs": [
    {
     "name": "stdout",
     "output_type": "stream",
     "text": [
      "\n",
      "--- Correlation Matrix (after cleaning) ---\n",
      "         Precip     PRCP\n",
      "Precip  1.00000  0.99997\n",
      "PRCP    0.99997  1.00000\n"
     ]
    }
   ],
   "source": [
    "# Display 'Precip', 'PRCP' correlation matrix after cleaning\n",
    "print(\"\\n--- Correlation Matrix (after cleaning) ---\")\n",
    "print(df[['Precip', 'PRCP']].corr())"
   ]
  },
  {
   "cell_type": "code",
   "execution_count": null,
   "id": "862b7a6c",
   "metadata": {
    "language_info": {
     "name": "polyglot-notebook"
    },
    "polyglot_notebook": {
     "kernelName": "csharp"
    }
   },
   "outputs": [
    {
     "name": "stdout",
     "output_type": "stream",
     "text": [
      "Dropped the 'Precip' column to avoid redundancy with 'PRCP'.\n"
     ]
    }
   ],
   "source": [
    "# Check if 'Precip' column exists and drop it if it does\n",
    "if 'Precip' in df.columns:\n",
    "    df.drop('Precip', axis=1, inplace=True)\n",
    "    print(\"Dropped the 'Precip' column to avoid redundancy with 'PRCP'.\")"
   ]
  },
  {
   "cell_type": "code",
   "execution_count": null,
   "id": "defcc64f",
   "metadata": {
    "language_info": {
     "name": "polyglot-notebook"
    },
    "polyglot_notebook": {
     "kernelName": "csharp"
    }
   },
   "outputs": [
    {
     "name": "stderr",
     "output_type": "stream",
     "text": [
      "/tmp/ipykernel_7773/2038076072.py:1: FutureWarning: A value is trying to be set on a copy of a DataFrame or Series through chained assignment using an inplace method.\n",
      "The behavior will change in pandas 3.0. This inplace method will never work because the intermediate object on which we are setting values always behaves as a copy.\n",
      "\n",
      "For example, when doing 'df[col].method(value, inplace=True)', try using 'df.method({col: value}, inplace=True)' or df[col] = df[col].method(value) instead, to perform the operation inplace on the original object.\n",
      "\n",
      "\n",
      "  df['Snowfall'].fillna(0, inplace=True)\n",
      "/tmp/ipykernel_7773/2038076072.py:4: FutureWarning: A value is trying to be set on a copy of a DataFrame or Series through chained assignment using an inplace method.\n",
      "The behavior will change in pandas 3.0. This inplace method will never work because the intermediate object on which we are setting values always behaves as a copy.\n",
      "\n",
      "For example, when doing 'df[col].method(value, inplace=True)', try using 'df.method({col: value}, inplace=True)' or df[col] = df[col].method(value) instead, to perform the operation inplace on the original object.\n",
      "\n",
      "\n",
      "  df['SNF'].fillna(0, inplace=True)\n",
      "/tmp/ipykernel_7773/2038076072.py:7: FutureWarning: A value is trying to be set on a copy of a DataFrame or Series through chained assignment using an inplace method.\n",
      "The behavior will change in pandas 3.0. This inplace method will never work because the intermediate object on which we are setting values always behaves as a copy.\n",
      "\n",
      "For example, when doing 'df[col].method(value, inplace=True)', try using 'df.method({col: value}, inplace=True)' or df[col] = df[col].method(value) instead, to perform the operation inplace on the original object.\n",
      "\n",
      "\n",
      "  df['SND'].fillna(0, inplace=True)\n"
     ]
    },
    {
     "data": {
      "application/vnd.microsoft.datawrangler.viewer.v0+json": {
       "columns": [
        {
         "name": "index",
         "rawType": "object",
         "type": "string"
        },
        {
         "name": "Snowfall",
         "rawType": "float64",
         "type": "float"
        },
        {
         "name": "SNF",
         "rawType": "float64",
         "type": "float"
        }
       ],
       "ref": "50459e53-6f21-46a2-b389-be195795995b",
       "rows": [
        [
         "Snowfall",
         "1.0",
         "0.9999999999999978"
        ],
        [
         "SNF",
         "0.9999999999999978",
         "1.0"
        ]
       ],
       "shape": {
        "columns": 2,
        "rows": 2
       }
      },
      "text/html": [
       "<div>\n",
       "<style scoped>\n",
       "    .dataframe tbody tr th:only-of-type {\n",
       "        vertical-align: middle;\n",
       "    }\n",
       "\n",
       "    .dataframe tbody tr th {\n",
       "        vertical-align: top;\n",
       "    }\n",
       "\n",
       "    .dataframe thead th {\n",
       "        text-align: right;\n",
       "    }\n",
       "</style>\n",
       "<table border=\"1\" class=\"dataframe\">\n",
       "  <thead>\n",
       "    <tr style=\"text-align: right;\">\n",
       "      <th></th>\n",
       "      <th>Snowfall</th>\n",
       "      <th>SNF</th>\n",
       "    </tr>\n",
       "  </thead>\n",
       "  <tbody>\n",
       "    <tr>\n",
       "      <th>Snowfall</th>\n",
       "      <td>1.0</td>\n",
       "      <td>1.0</td>\n",
       "    </tr>\n",
       "    <tr>\n",
       "      <th>SNF</th>\n",
       "      <td>1.0</td>\n",
       "      <td>1.0</td>\n",
       "    </tr>\n",
       "  </tbody>\n",
       "</table>\n",
       "</div>"
      ],
      "text/plain": [
       "          Snowfall  SNF\n",
       "Snowfall       1.0  1.0\n",
       "SNF            1.0  1.0"
      ]
     },
     "execution_count": 39,
     "metadata": {},
     "output_type": "execute_result"
    }
   ],
   "source": [
    "# Convert 'Snowfall', 'SNF', and 'SND' columns to numeric, replacing 'null' with 0\n",
    "df['Snowfall'].fillna(0, inplace=True)\n",
    "df['Snowfall'] = pd.to_numeric(df['Snowfall'], errors='coerce')\n",
    "\n",
    "df['SNF'].fillna(0, inplace=True)\n",
    "df['SNF'] = pd.to_numeric(df['SNF'], errors='coerce')\n",
    "\n",
    "df['SND'].fillna(0, inplace=True)\n",
    "df['SND'] = pd.to_numeric(df['SND'], errors='coerce')\n",
    "\n",
    "# Check for correlation between 'Snowfall' and 'SNF'\n",
    "df[['Snowfall', 'SNF']].corr()\n"
   ]
  },
  {
   "cell_type": "code",
   "execution_count": null,
   "id": "0f13f8e4",
   "metadata": {
    "language_info": {
     "name": "polyglot-notebook"
    },
    "polyglot_notebook": {
     "kernelName": "csharp"
    }
   },
   "outputs": [],
   "source": [
    "df.drop('Snowfall', axis=1, inplace=True)"
   ]
  },
  {
   "cell_type": "code",
   "execution_count": null,
   "id": "07cd9b60",
   "metadata": {
    "language_info": {
     "name": "polyglot-notebook"
    },
    "polyglot_notebook": {
     "kernelName": "csharp"
    }
   },
   "outputs": [
    {
     "name": "stdout",
     "output_type": "stream",
     "text": [
      "Target Encoding applied to 'STA' column.\n",
      "   STA_target_encoded    MinTemp\n",
      "0           22.520407  22.222222\n",
      "1           22.520407  21.666667\n",
      "2           22.520407  22.222222\n",
      "3           22.520407  22.222222\n",
      "4           22.520407  21.666667\n"
     ]
    }
   ],
   "source": [
    "# --- Target Encoding ---\n",
    "# Calculate the mean MinTemp for each station\n",
    "target_map = df.groupby('STA')['MinTemp'].mean()\n",
    "\n",
    "# Map this mean value back to the STA column\n",
    "df['STA_target_encoded'] = df['STA'].map(target_map)\n",
    "\n",
    "# Drop the original STA column\n",
    "df.drop('STA', axis=1, inplace=True)\n",
    "\n",
    "print(\"Target Encoding applied to 'STA' column.\")\n",
    "print(df[['STA_target_encoded', 'MinTemp']].head())"
   ]
  },
  {
   "cell_type": "code",
   "execution_count": null,
   "id": "06334e01",
   "metadata": {
    "language_info": {
     "name": "polyglot-notebook"
    },
    "polyglot_notebook": {
     "kernelName": "csharp"
    }
   },
   "outputs": [
    {
     "name": "stdout",
     "output_type": "stream",
     "text": [
      "--- Processing 'PoorWeather' column with a robust strategy ---\n",
      "\n",
      "'PoorWeather' column cleaned. It is now a binary (0/1) feature.\n",
      "Value counts after cleaning:\n",
      "PoorWeather\n",
      "0    85673\n",
      "1    33367\n",
      "Name: count, dtype: int64\n"
     ]
    }
   ],
   "source": [
    "print(\"--- Processing 'PoorWeather' column with a robust strategy ---\")\n",
    "\n",
    "if 'PoorWeather' in df.columns:\n",
    "    # First, fill NaN with a value that signifies \"no poor weather\", like 0.\n",
    "    df['PoorWeather'] = df['PoorWeather'].fillna(0)\n",
    "    \n",
    "   \n",
    "    # The logic is: if the value is 0, '0', or was originally NaN (now 0), it's 0.\n",
    "    # ANY other value ('1', '1 1', '1000', 1.0, etc.) means there was poor weather, so it becomes 1.\n",
    "    df['PoorWeather'] = df['PoorWeather'].apply(lambda x: 0 if str(x) == '0' else 1)\n",
    "\n",
    "    print(\"\\n'PoorWeather' column cleaned. It is now a binary (0/1) feature.\")\n",
    "    print(\"Value counts after cleaning:\")\n",
    "    print(df['PoorWeather'].value_counts())\n",
    "else:\n",
    "    print(\"'PoorWeather' column not found.\")"
   ]
  },
  {
   "cell_type": "code",
   "execution_count": null,
   "id": "fbb600f0",
   "metadata": {
    "language_info": {
     "name": "polyglot-notebook"
    },
    "polyglot_notebook": {
     "kernelName": "csharp"
    }
   },
   "outputs": [
    {
     "name": "stdout",
     "output_type": "stream",
     "text": [
      "\n",
      "--- Processing 'TSHDSBRSGF' column ---\n",
      "'TSHDSBRSGF' has been converted into a single binary feature 'Has_Weather_Event'.\n",
      "Value counts for new feature:\n",
      "Has_Weather_Event\n",
      "0    84803\n",
      "1    34237\n",
      "Name: count, dtype: int64\n"
     ]
    }
   ],
   "source": [
    "# --- Processing 'TSHDSBRSGF' column using Strategy 1 ---\n",
    "\n",
    "if 'TSHDSBRSGF' in df.columns:\n",
    "    print(\"\\n--- Processing 'TSHDSBRSGF' column ---\")\n",
    "    \n",
    "    # Strategy 1: Create a simple binary feature 'Has_Weather_Event'\n",
    "    # .notna() returns True for non-NaN values and False for NaN values.\n",
    "    # .astype(int) converts True/False to 1/0.\n",
    "    df['Has_Weather_Event'] = df['TSHDSBRSGF'].notna().astype(int)\n",
    "    \n",
    "    # Drop the original complex column\n",
    "    df.drop('TSHDSBRSGF', axis=1, inplace=True)\n",
    "    \n",
    "    print(\"'TSHDSBRSGF' has been converted into a single binary feature 'Has_Weather_Event'.\")\n",
    "    print(\"Value counts for new feature:\")\n",
    "    print(df['Has_Weather_Event'].value_counts())\n",
    "\n",
    "else:\n",
    "    print(\"\\n'TSHDSBRSGF' column not found.\")"
   ]
  },
  {
   "cell_type": "code",
   "execution_count": null,
   "id": "b4fb4256",
   "metadata": {
    "language_info": {
     "name": "polyglot-notebook"
    },
    "polyglot_notebook": {
     "kernelName": "csharp"
    }
   },
   "outputs": [
    {
     "data": {
      "application/vnd.microsoft.datawrangler.viewer.v0+json": {
       "columns": [
        {
         "name": "index",
         "rawType": "int64",
         "type": "integer"
        },
        {
         "name": "MaxTemp",
         "rawType": "float64",
         "type": "float"
        },
        {
         "name": "MinTemp",
         "rawType": "float64",
         "type": "float"
        },
        {
         "name": "PoorWeather",
         "rawType": "int64",
         "type": "integer"
        },
        {
         "name": "PRCP",
         "rawType": "float64",
         "type": "float"
        },
        {
         "name": "MAX",
         "rawType": "float64",
         "type": "float"
        },
        {
         "name": "MIN",
         "rawType": "float64",
         "type": "float"
        },
        {
         "name": "MEA",
         "rawType": "float64",
         "type": "float"
        },
        {
         "name": "SNF",
         "rawType": "float64",
         "type": "float"
        },
        {
         "name": "SND",
         "rawType": "float64",
         "type": "float"
        },
        {
         "name": "month_sin",
         "rawType": "float64",
         "type": "float"
        },
        {
         "name": "month_cos",
         "rawType": "float64",
         "type": "float"
        },
        {
         "name": "day_of_year_sin",
         "rawType": "float64",
         "type": "float"
        },
        {
         "name": "day_of_year_cos",
         "rawType": "float64",
         "type": "float"
        },
        {
         "name": "STA_target_encoded",
         "rawType": "float64",
         "type": "float"
        },
        {
         "name": "Has_Weather_Event",
         "rawType": "int64",
         "type": "integer"
        }
       ],
       "ref": "5b3a6133-e8a6-43b2-a967-69adb397e11a",
       "rows": [
        [
         "0",
         "25.55555556",
         "22.22222222",
         "0",
         "0.04",
         "78.0",
         "72.0",
         "75.0",
         "0.0",
         "0.0",
         "-0.4999999999999997",
         "-0.8660254037844388",
         "0.01075130776352193",
         "-0.9999422030204416",
         "22.52040718312014",
         "0"
        ],
        [
         "1",
         "28.88888889",
         "21.66666667",
         "0",
         "0.0",
         "84.0",
         "71.0",
         "78.0",
         "0.0",
         "0.0",
         "-0.4999999999999997",
         "-0.8660254037844388",
         "-0.00645086419810515",
         "-0.9999791929590823",
         "22.52040718312014",
         "0"
        ],
        [
         "2",
         "26.11111111",
         "22.22222222",
         "0",
         "0.1",
         "79.0",
         "72.0",
         "76.0",
         "0.0",
         "0.0",
         "-0.4999999999999997",
         "-0.8660254037844388",
         "-0.023651127245231586",
         "-0.9997202729664083",
         "22.52040718312014",
         "0"
        ],
        [
         "3",
         "26.66666667",
         "22.22222222",
         "0",
         "0.1",
         "80.0",
         "72.0",
         "76.0",
         "0.0",
         "0.0",
         "-0.4999999999999997",
         "-0.8660254037844388",
         "-0.04084439154329611",
         "-0.9991655196610109",
         "22.52040718312014",
         "0"
        ],
        [
         "4",
         "26.66666667",
         "21.66666667",
         "0",
         "0.0",
         "80.0",
         "71.0",
         "76.0",
         "0.0",
         "0.0",
         "-0.4999999999999997",
         "-0.8660254037844388",
         "-0.05802556932878035",
         "-0.9983150972033183",
         "22.52040718312014",
         "0"
        ]
       ],
       "shape": {
        "columns": 15,
        "rows": 5
       }
      },
      "text/html": [
       "<div>\n",
       "<style scoped>\n",
       "    .dataframe tbody tr th:only-of-type {\n",
       "        vertical-align: middle;\n",
       "    }\n",
       "\n",
       "    .dataframe tbody tr th {\n",
       "        vertical-align: top;\n",
       "    }\n",
       "\n",
       "    .dataframe thead th {\n",
       "        text-align: right;\n",
       "    }\n",
       "</style>\n",
       "<table border=\"1\" class=\"dataframe\">\n",
       "  <thead>\n",
       "    <tr style=\"text-align: right;\">\n",
       "      <th></th>\n",
       "      <th>MaxTemp</th>\n",
       "      <th>MinTemp</th>\n",
       "      <th>PoorWeather</th>\n",
       "      <th>PRCP</th>\n",
       "      <th>MAX</th>\n",
       "      <th>MIN</th>\n",
       "      <th>MEA</th>\n",
       "      <th>SNF</th>\n",
       "      <th>SND</th>\n",
       "      <th>month_sin</th>\n",
       "      <th>month_cos</th>\n",
       "      <th>day_of_year_sin</th>\n",
       "      <th>day_of_year_cos</th>\n",
       "      <th>STA_target_encoded</th>\n",
       "      <th>Has_Weather_Event</th>\n",
       "    </tr>\n",
       "  </thead>\n",
       "  <tbody>\n",
       "    <tr>\n",
       "      <th>0</th>\n",
       "      <td>25.555556</td>\n",
       "      <td>22.222222</td>\n",
       "      <td>0</td>\n",
       "      <td>0.04</td>\n",
       "      <td>78.0</td>\n",
       "      <td>72.0</td>\n",
       "      <td>75.0</td>\n",
       "      <td>0.0</td>\n",
       "      <td>0.0</td>\n",
       "      <td>-0.5</td>\n",
       "      <td>-0.866025</td>\n",
       "      <td>0.010751</td>\n",
       "      <td>-0.999942</td>\n",
       "      <td>22.520407</td>\n",
       "      <td>0</td>\n",
       "    </tr>\n",
       "    <tr>\n",
       "      <th>1</th>\n",
       "      <td>28.888889</td>\n",
       "      <td>21.666667</td>\n",
       "      <td>0</td>\n",
       "      <td>0.00</td>\n",
       "      <td>84.0</td>\n",
       "      <td>71.0</td>\n",
       "      <td>78.0</td>\n",
       "      <td>0.0</td>\n",
       "      <td>0.0</td>\n",
       "      <td>-0.5</td>\n",
       "      <td>-0.866025</td>\n",
       "      <td>-0.006451</td>\n",
       "      <td>-0.999979</td>\n",
       "      <td>22.520407</td>\n",
       "      <td>0</td>\n",
       "    </tr>\n",
       "    <tr>\n",
       "      <th>2</th>\n",
       "      <td>26.111111</td>\n",
       "      <td>22.222222</td>\n",
       "      <td>0</td>\n",
       "      <td>0.10</td>\n",
       "      <td>79.0</td>\n",
       "      <td>72.0</td>\n",
       "      <td>76.0</td>\n",
       "      <td>0.0</td>\n",
       "      <td>0.0</td>\n",
       "      <td>-0.5</td>\n",
       "      <td>-0.866025</td>\n",
       "      <td>-0.023651</td>\n",
       "      <td>-0.999720</td>\n",
       "      <td>22.520407</td>\n",
       "      <td>0</td>\n",
       "    </tr>\n",
       "    <tr>\n",
       "      <th>3</th>\n",
       "      <td>26.666667</td>\n",
       "      <td>22.222222</td>\n",
       "      <td>0</td>\n",
       "      <td>0.10</td>\n",
       "      <td>80.0</td>\n",
       "      <td>72.0</td>\n",
       "      <td>76.0</td>\n",
       "      <td>0.0</td>\n",
       "      <td>0.0</td>\n",
       "      <td>-0.5</td>\n",
       "      <td>-0.866025</td>\n",
       "      <td>-0.040844</td>\n",
       "      <td>-0.999166</td>\n",
       "      <td>22.520407</td>\n",
       "      <td>0</td>\n",
       "    </tr>\n",
       "    <tr>\n",
       "      <th>4</th>\n",
       "      <td>26.666667</td>\n",
       "      <td>21.666667</td>\n",
       "      <td>0</td>\n",
       "      <td>0.00</td>\n",
       "      <td>80.0</td>\n",
       "      <td>71.0</td>\n",
       "      <td>76.0</td>\n",
       "      <td>0.0</td>\n",
       "      <td>0.0</td>\n",
       "      <td>-0.5</td>\n",
       "      <td>-0.866025</td>\n",
       "      <td>-0.058026</td>\n",
       "      <td>-0.998315</td>\n",
       "      <td>22.520407</td>\n",
       "      <td>0</td>\n",
       "    </tr>\n",
       "  </tbody>\n",
       "</table>\n",
       "</div>"
      ],
      "text/plain": [
       "     MaxTemp    MinTemp  PoorWeather  PRCP   MAX   MIN   MEA  SNF  SND  \\\n",
       "0  25.555556  22.222222            0  0.04  78.0  72.0  75.0  0.0  0.0   \n",
       "1  28.888889  21.666667            0  0.00  84.0  71.0  78.0  0.0  0.0   \n",
       "2  26.111111  22.222222            0  0.10  79.0  72.0  76.0  0.0  0.0   \n",
       "3  26.666667  22.222222            0  0.10  80.0  72.0  76.0  0.0  0.0   \n",
       "4  26.666667  21.666667            0  0.00  80.0  71.0  76.0  0.0  0.0   \n",
       "\n",
       "   month_sin  month_cos  day_of_year_sin  day_of_year_cos  STA_target_encoded  \\\n",
       "0       -0.5  -0.866025         0.010751        -0.999942           22.520407   \n",
       "1       -0.5  -0.866025        -0.006451        -0.999979           22.520407   \n",
       "2       -0.5  -0.866025        -0.023651        -0.999720           22.520407   \n",
       "3       -0.5  -0.866025        -0.040844        -0.999166           22.520407   \n",
       "4       -0.5  -0.866025        -0.058026        -0.998315           22.520407   \n",
       "\n",
       "   Has_Weather_Event  \n",
       "0                  0  \n",
       "1                  0  \n",
       "2                  0  \n",
       "3                  0  \n",
       "4                  0  "
      ]
     },
     "execution_count": 47,
     "metadata": {},
     "output_type": "execute_result"
    }
   ],
   "source": [
    "df.head()"
   ]
  },
  {
   "cell_type": "code",
   "execution_count": null,
   "id": "c3e8bff3",
   "metadata": {
    "language_info": {
     "name": "polyglot-notebook"
    },
    "polyglot_notebook": {
     "kernelName": "csharp"
    }
   },
   "outputs": [],
   "source": [
    "# --- Because columns 'MAX', 'MIN', 'MEA' similar with MaxTemp are no longer needed ---\n",
    "df.drop(columns=['MAX', 'MIN', 'MEA'], inplace=True)"
   ]
  },
  {
   "cell_type": "code",
   "execution_count": null,
   "id": "591788df",
   "metadata": {
    "language_info": {
     "name": "polyglot-notebook"
    },
    "polyglot_notebook": {
     "kernelName": "csharp"
    }
   },
   "outputs": [
    {
     "name": "stdout",
     "output_type": "stream",
     "text": [
      "\n",
      "Cleaned DataFrame saved to /workspaces/2025-Phase-2/data-science/2. Machine Learning Project/Cleaned_Weather_Data.csv\n",
      "\n",
      "First few rows of the cleaned DataFrame:\n",
      "     MaxTemp    MinTemp  PoorWeather  PRCP  SNF  SND  month_sin  month_cos  \\\n",
      "0  25.555556  22.222222            0  0.04  0.0  0.0       -0.5  -0.866025   \n",
      "1  28.888889  21.666667            0  0.00  0.0  0.0       -0.5  -0.866025   \n",
      "2  26.111111  22.222222            0  0.10  0.0  0.0       -0.5  -0.866025   \n",
      "3  26.666667  22.222222            0  0.10  0.0  0.0       -0.5  -0.866025   \n",
      "4  26.666667  21.666667            0  0.00  0.0  0.0       -0.5  -0.866025   \n",
      "\n",
      "   day_of_year_sin  day_of_year_cos  STA_target_encoded  Has_Weather_Event  \n",
      "0         0.010751        -0.999942           22.520407                  0  \n",
      "1        -0.006451        -0.999979           22.520407                  0  \n",
      "2        -0.023651        -0.999720           22.520407                  0  \n",
      "3        -0.040844        -0.999166           22.520407                  0  \n",
      "4        -0.058026        -0.998315           22.520407                  0  \n"
     ]
    }
   ],
   "source": [
    "# Save the cleaned DataFrame to a new CSV file\n",
    "output_filepath = '/workspaces/2025-Phase-2/data-science/2. Machine Learning Project/Cleaned_Weather_Data.csv'\n",
    "df.to_csv(output_filepath, index=False)\n",
    "print(f\"\\nCleaned DataFrame saved to {output_filepath}\")\n",
    "# Display the first few rows of the cleaned DataFrame\n",
    "print(\"\\nFirst few rows of the cleaned DataFrame:\")\n",
    "print(df.head())\n"
   ]
  },
  {
   "cell_type": "markdown",
   "id": "6a3ab152",
   "metadata": {},
   "source": [
    "## 3. Select the feature(s) for the model, and explain the reason"
   ]
  },
  {
   "cell_type": "code",
   "execution_count": null,
   "id": "5696ae4f",
   "metadata": {
    "language_info": {
     "name": "polyglot-notebook"
    },
    "polyglot_notebook": {
     "kernelName": "csharp"
    }
   },
   "outputs": [],
   "source": [
    "# write your answer here"
   ]
  },
  {
   "cell_type": "markdown",
   "id": "bdf56321",
   "metadata": {},
   "source": [
    "I picked this final set of features to build the best possible model for predicting the minimum temperature (MinTemp). Here’s why each one was chosen:\n",
    "- MinTemp (The Target):\n",
    "This is simply the answer we want the model to predict.\n",
    "- MaxTemp (The Best Clue):\n",
    "The day's maximum temperature is the single best clue for guessing the minimum temperature. They are strongly related.\n",
    "month_sin, month_cos, day_of_year_sin, day_of_year_cos (The Calendar):\n",
    "These four features tell the model about the time of year. They help it understand seasons, so it knows that January is cold and July is hot in a cyclical way. This is smarter than just using \"Month = 1\" or \"Month = 7\".\n",
    "- STA_target_encoded (The Location):\n",
    "Instead of creating 157 separate columns for each weather station (which is too many), we created one smart feature. This feature tells the model the average historical minimum temperature for that specific station. It gives the model a great starting guess, like \"This place is usually cold\" or \"This place is normally warm.\"\n",
    "- PRCP, SNF, SND (Rain and Snow):\n",
    "These features tell the model if it rained or snowed, and if there's snow on the ground. Rain and snow can affect the temperature, so this is useful information. We cleaned them up and filled any missing values with 0.\n",
    "- PoorWeather, Has_Weather_Event (The \"Bad Weather\" Flags):\n",
    "These are simple \"Yes/No\" (1/0) flags. They tell the model if something like a thunderstorm or fog happened that day. This helps the model account for unusual weather events.\n",
    "In short, I gave the model the day's high temperature, the time of year, the location's climate, and information about rain, snow, and bad weather. This gives it everything it needs to make a smart prediction."
   ]
  },
  {
   "cell_type": "markdown",
   "id": "a726bcc8",
   "metadata": {},
   "source": [
    "## 4. Split the dataset (80% for training, 20% for testing)"
   ]
  },
  {
   "cell_type": "code",
   "execution_count": 2,
   "id": "d8486b2e",
   "metadata": {
    "language_info": {
     "name": "polyglot-notebook"
    },
    "polyglot_notebook": {
     "kernelName": "csharp"
    }
   },
   "outputs": [
    {
     "data": {
      "application/vnd.microsoft.datawrangler.viewer.v0+json": {
       "columns": [
        {
         "name": "index",
         "rawType": "int64",
         "type": "integer"
        },
        {
         "name": "MaxTemp",
         "rawType": "float64",
         "type": "float"
        },
        {
         "name": "MinTemp",
         "rawType": "float64",
         "type": "float"
        },
        {
         "name": "PoorWeather",
         "rawType": "int64",
         "type": "integer"
        },
        {
         "name": "PRCP",
         "rawType": "float64",
         "type": "float"
        },
        {
         "name": "SNF",
         "rawType": "float64",
         "type": "float"
        },
        {
         "name": "SND",
         "rawType": "float64",
         "type": "float"
        },
        {
         "name": "month_sin",
         "rawType": "float64",
         "type": "float"
        },
        {
         "name": "month_cos",
         "rawType": "float64",
         "type": "float"
        },
        {
         "name": "day_of_year_sin",
         "rawType": "float64",
         "type": "float"
        },
        {
         "name": "day_of_year_cos",
         "rawType": "float64",
         "type": "float"
        },
        {
         "name": "STA_target_encoded",
         "rawType": "float64",
         "type": "float"
        },
        {
         "name": "Has_Weather_Event",
         "rawType": "int64",
         "type": "integer"
        }
       ],
       "ref": "c7507d62-db14-4171-b421-fb111d98afb0",
       "rows": [
        [
         "0",
         "25.55555556",
         "22.22222222",
         "0",
         "0.04",
         "0.0",
         "0.0",
         "-0.4999999999999997",
         "-0.8660254037844388",
         "0.0107513077635219",
         "-0.9999422030204416",
         "22.52040718312014",
         "0"
        ],
        [
         "1",
         "28.88888889",
         "21.66666667",
         "0",
         "0.0",
         "0.0",
         "0.0",
         "-0.4999999999999997",
         "-0.8660254037844388",
         "-0.0064508641981051",
         "-0.9999791929590824",
         "22.52040718312014",
         "0"
        ],
        [
         "2",
         "26.11111111",
         "22.22222222",
         "0",
         "0.1",
         "0.0",
         "0.0",
         "-0.4999999999999997",
         "-0.8660254037844388",
         "-0.0236511272452315",
         "-0.9997202729664084",
         "22.52040718312014",
         "0"
        ],
        [
         "3",
         "26.66666667",
         "22.22222222",
         "0",
         "0.1",
         "0.0",
         "0.0",
         "-0.4999999999999997",
         "-0.8660254037844388",
         "-0.0408443915432961",
         "-0.9991655196610107",
         "22.52040718312014",
         "0"
        ],
        [
         "4",
         "26.66666667",
         "21.66666667",
         "0",
         "0.0",
         "0.0",
         "0.0",
         "-0.4999999999999997",
         "-0.8660254037844388",
         "-0.0580255693287803",
         "-0.9983150972033183",
         "22.52040718312014",
         "0"
        ]
       ],
       "shape": {
        "columns": 12,
        "rows": 5
       }
      },
      "text/html": [
       "<div>\n",
       "<style scoped>\n",
       "    .dataframe tbody tr th:only-of-type {\n",
       "        vertical-align: middle;\n",
       "    }\n",
       "\n",
       "    .dataframe tbody tr th {\n",
       "        vertical-align: top;\n",
       "    }\n",
       "\n",
       "    .dataframe thead th {\n",
       "        text-align: right;\n",
       "    }\n",
       "</style>\n",
       "<table border=\"1\" class=\"dataframe\">\n",
       "  <thead>\n",
       "    <tr style=\"text-align: right;\">\n",
       "      <th></th>\n",
       "      <th>MaxTemp</th>\n",
       "      <th>MinTemp</th>\n",
       "      <th>PoorWeather</th>\n",
       "      <th>PRCP</th>\n",
       "      <th>SNF</th>\n",
       "      <th>SND</th>\n",
       "      <th>month_sin</th>\n",
       "      <th>month_cos</th>\n",
       "      <th>day_of_year_sin</th>\n",
       "      <th>day_of_year_cos</th>\n",
       "      <th>STA_target_encoded</th>\n",
       "      <th>Has_Weather_Event</th>\n",
       "    </tr>\n",
       "  </thead>\n",
       "  <tbody>\n",
       "    <tr>\n",
       "      <th>0</th>\n",
       "      <td>25.555556</td>\n",
       "      <td>22.222222</td>\n",
       "      <td>0</td>\n",
       "      <td>0.04</td>\n",
       "      <td>0.0</td>\n",
       "      <td>0.0</td>\n",
       "      <td>-0.5</td>\n",
       "      <td>-0.866025</td>\n",
       "      <td>0.010751</td>\n",
       "      <td>-0.999942</td>\n",
       "      <td>22.520407</td>\n",
       "      <td>0</td>\n",
       "    </tr>\n",
       "    <tr>\n",
       "      <th>1</th>\n",
       "      <td>28.888889</td>\n",
       "      <td>21.666667</td>\n",
       "      <td>0</td>\n",
       "      <td>0.00</td>\n",
       "      <td>0.0</td>\n",
       "      <td>0.0</td>\n",
       "      <td>-0.5</td>\n",
       "      <td>-0.866025</td>\n",
       "      <td>-0.006451</td>\n",
       "      <td>-0.999979</td>\n",
       "      <td>22.520407</td>\n",
       "      <td>0</td>\n",
       "    </tr>\n",
       "    <tr>\n",
       "      <th>2</th>\n",
       "      <td>26.111111</td>\n",
       "      <td>22.222222</td>\n",
       "      <td>0</td>\n",
       "      <td>0.10</td>\n",
       "      <td>0.0</td>\n",
       "      <td>0.0</td>\n",
       "      <td>-0.5</td>\n",
       "      <td>-0.866025</td>\n",
       "      <td>-0.023651</td>\n",
       "      <td>-0.999720</td>\n",
       "      <td>22.520407</td>\n",
       "      <td>0</td>\n",
       "    </tr>\n",
       "    <tr>\n",
       "      <th>3</th>\n",
       "      <td>26.666667</td>\n",
       "      <td>22.222222</td>\n",
       "      <td>0</td>\n",
       "      <td>0.10</td>\n",
       "      <td>0.0</td>\n",
       "      <td>0.0</td>\n",
       "      <td>-0.5</td>\n",
       "      <td>-0.866025</td>\n",
       "      <td>-0.040844</td>\n",
       "      <td>-0.999166</td>\n",
       "      <td>22.520407</td>\n",
       "      <td>0</td>\n",
       "    </tr>\n",
       "    <tr>\n",
       "      <th>4</th>\n",
       "      <td>26.666667</td>\n",
       "      <td>21.666667</td>\n",
       "      <td>0</td>\n",
       "      <td>0.00</td>\n",
       "      <td>0.0</td>\n",
       "      <td>0.0</td>\n",
       "      <td>-0.5</td>\n",
       "      <td>-0.866025</td>\n",
       "      <td>-0.058026</td>\n",
       "      <td>-0.998315</td>\n",
       "      <td>22.520407</td>\n",
       "      <td>0</td>\n",
       "    </tr>\n",
       "  </tbody>\n",
       "</table>\n",
       "</div>"
      ],
      "text/plain": [
       "     MaxTemp    MinTemp  PoorWeather  PRCP  SNF  SND  month_sin  month_cos  \\\n",
       "0  25.555556  22.222222            0  0.04  0.0  0.0       -0.5  -0.866025   \n",
       "1  28.888889  21.666667            0  0.00  0.0  0.0       -0.5  -0.866025   \n",
       "2  26.111111  22.222222            0  0.10  0.0  0.0       -0.5  -0.866025   \n",
       "3  26.666667  22.222222            0  0.10  0.0  0.0       -0.5  -0.866025   \n",
       "4  26.666667  21.666667            0  0.00  0.0  0.0       -0.5  -0.866025   \n",
       "\n",
       "   day_of_year_sin  day_of_year_cos  STA_target_encoded  Has_Weather_Event  \n",
       "0         0.010751        -0.999942           22.520407                  0  \n",
       "1        -0.006451        -0.999979           22.520407                  0  \n",
       "2        -0.023651        -0.999720           22.520407                  0  \n",
       "3        -0.040844        -0.999166           22.520407                  0  \n",
       "4        -0.058026        -0.998315           22.520407                  0  "
      ]
     },
     "execution_count": 2,
     "metadata": {},
     "output_type": "execute_result"
    }
   ],
   "source": [
    "filepath = '/workspaces/2025-Phase-2/data-science/2. Machine Learning Project/Cleaned_Weather_Data.csv'\n",
    "df_model = pd.read_csv(filepath)\n",
    "# Display the first few rows of the cleaned DataFrame\n",
    "df_model.head()"
   ]
  },
  {
   "cell_type": "code",
   "execution_count": null,
   "id": "d15bcff0",
   "metadata": {},
   "outputs": [
    {
     "name": "stdout",
     "output_type": "stream",
     "text": [
      "Shape of X: (119040, 11), Shape of y: (119040,)\n"
     ]
    }
   ],
   "source": [
    "from sklearn.model_selection import train_test_split\n",
    "\n",
    "# target variable 'y' is 'MinTemp'\n",
    "y = df_model['MinTemp']\n",
    "\n",
    "# Features 'X' are all columns except 'MinTemp'\n",
    "X = df_model.drop(columns=['MinTemp'])\n",
    "\n",
    "# print the shape of X and y\n",
    "print(f\"Shape of X: {X.shape}, Shape of y: {y.shape}\")"
   ]
  },
  {
   "cell_type": "code",
   "execution_count": 4,
   "id": "0b139e85",
   "metadata": {},
   "outputs": [
    {
     "name": "stdout",
     "output_type": "stream",
     "text": [
      "Training set shape: (95232, 11), (95232,)\n",
      "Testing set shape: (23808, 11), (23808,)\n"
     ]
    }
   ],
   "source": [
    "# Split the dataset into training and testing sets\n",
    "X_train, X_test, y_train, y_test = train_test_split(X, y, test_size=0.2, random_state=42)\n",
    "# Print the shapes of the training and testing sets\n",
    "print(f\"Training set shape: {X_train.shape}, {y_train.shape}\")\n",
    "print(f\"Testing set shape: {X_test.shape}, {y_test.shape}\")"
   ]
  },
  {
   "cell_type": "markdown",
   "id": "81d5a4da",
   "metadata": {},
   "source": [
    "## 5. Choose the algorithm, train and test the model"
   ]
  },
  {
   "cell_type": "code",
   "execution_count": 5,
   "id": "04b47504",
   "metadata": {
    "language_info": {
     "name": "polyglot-notebook"
    },
    "polyglot_notebook": {
     "kernelName": "csharp"
    }
   },
   "outputs": [],
   "source": [
    "from sklearn.linear_model import LinearRegression\n",
    "from sklearn.ensemble import RandomForestRegressor, GradientBoostingRegressor\n",
    "from sklearn.metrics import mean_squared_error, r2_score\n",
    "import xgboost as xgb\n",
    "import lightgbm as lgb\n",
    "import numpy as np\n",
    "import time "
   ]
  },
  {
   "cell_type": "code",
   "execution_count": 6,
   "id": "a209c673",
   "metadata": {},
   "outputs": [],
   "source": [
    "# Initialize the models\n",
    "# Create an instance of each model with appropriate parameters\n",
    "models = {\n",
    "    \"Linear Regression\": LinearRegression(),\n",
    "    \"Random Forest\": RandomForestRegressor(n_estimators=100, random_state=42, n_jobs=-1),\n",
    "    \"Gradient Boosting\": GradientBoostingRegressor(n_estimators=100, random_state=42),\n",
    "    \"XGBoost\": xgb.XGBRegressor(random_state=42, n_jobs=-1),\n",
    "    \"LightGBM\": lgb.LGBMRegressor(random_state=42, n_jobs=-1)\n",
    "}\n",
    "\n",
    "# Dictionary to store the results\n",
    "results = {}"
   ]
  },
  {
   "cell_type": "code",
   "execution_count": 7,
   "id": "400bc2ac",
   "metadata": {},
   "outputs": [
    {
     "name": "stdout",
     "output_type": "stream",
     "text": [
      "--- Starting Model Training and Evaluation ---\n",
      "\n",
      "Training Linear Regression...\n",
      "Linear Regression -> RMSE: 3.0029, R²: 0.8689, Time: 0.40s\n",
      "\n",
      "Training Random Forest...\n",
      "Random Forest -> RMSE: 1.7882, R²: 0.9535, Time: 100.02s\n",
      "\n",
      "Training Gradient Boosting...\n",
      "Gradient Boosting -> RMSE: 2.4107, R²: 0.9155, Time: 37.43s\n",
      "\n",
      "Training XGBoost...\n",
      "XGBoost -> RMSE: 1.8125, R²: 0.9522, Time: 8.90s\n",
      "\n",
      "Training LightGBM...\n",
      "[LightGBM] [Info] Auto-choosing row-wise multi-threading, the overhead of testing was 0.028603 seconds.\n",
      "You can set `force_row_wise=true` to remove the overhead.\n",
      "And if memory is not enough, you can set `force_col_wise=true`.\n",
      "[LightGBM] [Info] Total Bins 1063\n",
      "[LightGBM] [Info] Number of data points in the train set: 95232, number of used features: 10\n",
      "[LightGBM] [Info] Start training from score 17.774237\n",
      "LightGBM -> RMSE: 1.9959, R²: 0.9421, Time: 7.80s\n"
     ]
    }
   ],
   "source": [
    "# train and evaluate each model\n",
    "print(\"--- Starting Model Training and Evaluation ---\")\n",
    "for name, model in models.items():\n",
    "    print(f\"\\nTraining {name}...\")\n",
    "    \n",
    "    start_time = time.time()\n",
    "    model.fit(X_train, y_train)\n",
    "    training_time = time.time() - start_time\n",
    "    \n",
    "    y_pred = model.predict(X_test)\n",
    "    \n",
    "    rmse = np.sqrt(mean_squared_error(y_test, y_pred))\n",
    "    r2 = r2_score(y_test, y_pred)\n",
    "    \n",
    "    # Store results in the dictionary\n",
    "    results[name] = [rmse, r2, training_time]\n",
    "    \n",
    "    print(f\"{name} -> RMSE: {rmse:.4f}, R²: {r2:.4f}, Time: {training_time:.2f}s\")"
   ]
  },
  {
   "cell_type": "markdown",
   "id": "f872ee29",
   "metadata": {},
   "source": [
    "## 6. Evaluate and Visualize model Performance"
   ]
  },
  {
   "cell_type": "code",
   "execution_count": 8,
   "id": "5533d7f7",
   "metadata": {
    "language_info": {
     "name": "polyglot-notebook"
    },
    "polyglot_notebook": {
     "kernelName": "csharp"
    }
   },
   "outputs": [
    {
     "name": "stdout",
     "output_type": "stream",
     "text": [
      "\n",
      "\n",
      "--- Model Comparison Summary ---\n",
      "                       RMSE  R-squared  Training Time (s)\n",
      "Random Forest      1.788169   0.953518         100.022188\n",
      "XGBoost            1.812486   0.952246           8.902776\n",
      "LightGBM           1.995940   0.942089           7.795361\n",
      "Gradient Boosting  2.410666   0.915523          37.434626\n",
      "Linear Regression  3.002883   0.868919           0.404107\n"
     ]
    }
   ],
   "source": [
    "# Compare the results\n",
    "results_df = pd.DataFrame.from_dict(\n",
    "    results, \n",
    "    orient='index', \n",
    "    columns=['RMSE', 'R-squared', 'Training Time (s)']\n",
    ").sort_values(by='RMSE')\n",
    "\n",
    "print(\"\\n\\n--- Model Comparison Summary ---\")\n",
    "print(results_df)"
   ]
  },
  {
   "cell_type": "code",
   "execution_count": 12,
   "id": "1e7d437a",
   "metadata": {},
   "outputs": [
    {
     "data": {
      "image/png": "[encoded data removed]",
      "text/plain": [
       "<Figure size 1500x700 with 2 Axes>"
      ]
     },
     "metadata": {},
     "output_type": "display_data"
    }
   ],
   "source": [
    "# Visualize the results\n",
    "fig, axes = plt.subplots(1, 2, figsize=(15, 7))\n",
    "sns.set_theme(style=\"whitegrid\")\n",
    "fig.suptitle('Model Performance Comparison', fontsize=20)\n",
    "\n",
    "# Plot 1: RMSE Comparison (Corrected)\n",
    "sns.barplot(x=results_df.index, y=results_df['RMSE'], hue=results_df.index,\n",
    "            ax=axes[0], palette='viridis', legend=False)\n",
    "axes[0].set_title('Root Mean Squared Error (Lower is Better)')\n",
    "axes[0].set_ylabel('RMSE')\n",
    "axes[0].tick_params(axis='x', rotation=45)\n",
    "\n",
    "# Plot 2: Training Time Comparison (Corrected)\n",
    "sns.barplot(x=results_df.index, y=results_df['Training Time (s)'], hue=results_df.index,\n",
    "            ax=axes[1], palette='plasma', legend=False)\n",
    "axes[1].set_title('Training Time (s) (Lower is Better)')\n",
    "axes[1].set_ylabel('Time (seconds)')\n",
    "axes[1].tick_params(axis='x', rotation=45)\n",
    "\n",
    "plt.tight_layout(rect=[0, 0.03, 1, 0.95])\n",
    "plt.show()"
   ]
  },
  {
   "cell_type": "markdown",
   "id": "33c3436b",
   "metadata": {},
   "source": [
    "## 7. What is the R² value and RMSE of the model? How these values indicate the model performance?"
   ]
  },
  {
   "cell_type": "code",
   "execution_count": null,
   "id": "d38410be",
   "metadata": {
    "language_info": {
     "name": "polyglot-notebook"
    },
    "polyglot_notebook": {
     "kernelName": "csharp"
    }
   },
   "outputs": [],
   "source": [
    "# write your answer here"
   ]
  },
  {
   "cell_type": "markdown",
   "id": "1064b922",
   "metadata": {},
   "source": [
    "### 1. The best model of the R² and RMSE\n",
    "Random Forest model is the best performer in terms of accuracy.\n",
    "- RMSE (Root Mean Squared Error): 1.788\n",
    "- R² (R-squared): 0.954 (or 95.4%)\n",
    "\n",
    "### 2. The Random Forest model's performance\n",
    "- The model's min temperature predictions are only off by about 1.79 degress Celsius. For weather forecasting is a low error.\n",
    "- This model can explain 95.4% of the variation in the minimum temperature. Also the features are effective at predicting the outcome, and the model has captured the underlying patterns in the data."
   ]
  },
  {
   "cell_type": "markdown",
   "id": "37493b66",
   "metadata": {},
   "source": [
    "## 8. Discuss the model performance based on the plot"
   ]
  },
  {
   "cell_type": "code",
   "execution_count": null,
   "id": "e1849e70",
   "metadata": {
    "language_info": {
     "name": "polyglot-notebook"
    },
    "polyglot_notebook": {
     "kernelName": "csharp"
    }
   },
   "outputs": [],
   "source": [
    "# write your answer here"
   ]
  },
  {
   "cell_type": "markdown",
   "id": "3ebb9658",
   "metadata": {},
   "source": [
    "### Chart 1: Prediction Error (RMSE)\n",
    "- Winner: Random Forest has the lowest error bar, made the best predictions.\n",
    "- Very Close Second: XGBoost is just behind it, as very good.\n",
    "- LightGBM and Gradient Boosting also did very well, interestingly Linear Regression is not too bad.\n",
    "\n",
    "### Chart 2: Training Speed\n",
    "- LightGBM and XGBoost are the clear winners in speed. They were over 10 times faster than Random Forest.\n",
    "\n",
    "In conclusion, for absolute best accuracy without thinking about waiting time, Random Forest is the champion. If need model is both very accurate and fast, XGBoost is the best overall choice."
   ]
  }
 ],
 "metadata": {
  "kernelspec": {
   "display_name": "Python 3",
   "language": "python",
   "name": "python3"
  },
  "language_info": {
   "codemirror_mode": {
    "name": "ipython",
    "version": 3
   },
   "file_extension": ".py",
   "mimetype": "text/x-python",
   "name": "python",
   "nbconvert_exporter": "python",
   "pygments_lexer": "ipython3",
   "version": "3.12.1"
  },
  "polyglot_notebook": {
   "kernelInfo": {
    "defaultKernelName": "csharp",
    "items": [
     {
      "aliases": [],
      "name": "csharp"
     }
    ]
   }
  }
 },
 "nbformat": 4,
 "nbformat_minor": 5
}
