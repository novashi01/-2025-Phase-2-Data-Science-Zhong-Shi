{
 "cells": [
  {
   "cell_type": "markdown",
   "id": "2249078461bec40c",
   "metadata": {
    "collapsed": false
   },
   "source": [
    "## Step 0. Folder Structure\n",
    "```\n",
    "3. Deep Learning Project/\n",
    "├── dataset_split/\n",
    "│   ├── train/\n",
    "│   │   ├── african_elephant (780 images)\n",
    "│   │   ├── airliner (780 images)\n",
    "│   │   └── ... (8 more folders)\n",
    "│   ├── val/\n",
    "│   │   ├── african_elephant (260 images)\n",
    "│   │   ├── airliner (260 images)\n",
    "│   │   └── ... (8 more folders)\n",
    "│   └── test (2600 images)\n",
    "├── data_preprocessed/\n",
    "│   ├── labels_train.pt\n",
    "│   ├── labels_val.pt\n",
    "│   ├── tensor_test.pt\n",
    "│   ├── tensor_train.pt\n",
    "│   └── tensor_val.pt\n",
    "├── models/\n",
    "│   ├── resnet18_checkpoint.pkl\n",
    "│   └── resnet34_checkpoint.pkl\n",
    "├── src/\n",
    "│   └── part3.ipynb\n",
    "├── src_datasplit/\n",
    "│   └── data_split.ipynb\n",
    "├── MSA.yaml\n",
    "├── README.md\n",
    "└── IEEE_Report_Template.docx\n",
    "```\n"
   ]
  },
  {
   "cell_type": "code",
   "execution_count": null,
   "id": "feff9f82a794ed57",
   "metadata": {
    "ExecuteTime": {
     "end_time": "2025-05-10T03:43:05.563885Z",
     "start_time": "2025-05-10T03:43:05.550616Z"
    },
    "collapsed": false
   },
   "outputs": [],
   "source": [
    "# Import the libraries.\n",
    "from typing import Tuple, List\n",
    "import os\n",
    "import cv2\n",
    "from tqdm import tqdm\n",
    "import numpy as np\n",
    "import torch\n",
    "import torchvision\n",
    "import torch.nn as nn\n",
    "import torch.nn.functional as F\n",
    "import copy\n",
    "import matplotlib.pyplot as plt\n",
    "import csv"
   ]
  },
  {
   "cell_type": "markdown",
   "id": "129404feccd45358",
   "metadata": {
    "collapsed": false
   },
   "source": [
    "## Step 1 Preprocessing\n",
    "1. Load images and labels from folders into lists.\n",
    "2. Resize the images.\n",
    "3. Convert the image data type as float32 and limit the range in [0, 1].\n",
    "4. Convert data from NHWC to NCHW and creat a PyTorch tensor from it.\n",
    "5. Per-channel standardization of the dataset using training set statistics (mean and std computed independently for each color channel).\n",
    "6. Saving the pre-processed sets as .pt files in the correct directory.\n",
    "7. Load the pre-processed sets from .pt files. "
   ]
  },
  {
   "cell_type": "code",
   "execution_count": 2,
   "id": "initial_id",
   "metadata": {
    "ExecuteTime": {
     "end_time": "2025-05-10T03:38:13.117713Z",
     "start_time": "2025-05-10T03:38:13.110009Z"
    },
    "collapsed": true
   },
   "outputs": [],
   "source": [
    "def image_loader(set_dir: str) -> Tuple[List[np.ndarray], List[str]]:\n",
    "    \"\"\"\n",
    "    Load all images from a dataset directory (train/val/test) into memory.\n",
    "    For train/val: loads images and labels in correct order.\n",
    "    For test: loads images in filename order, labels is empty.\n",
    "    \"\"\"\n",
    "    images = []\n",
    "    labels = []\n",
    "    # Check if subfolders exist (train/val) or just images (test)\n",
    "    if any(os.path.isdir(os.path.join(set_dir, d)) for d in os.listdir(set_dir)):\n",
    "        # train/val: subfolders are class names\n",
    "        class_names = sorted(os.listdir(set_dir))\n",
    "        for class_name in class_names:\n",
    "            class_path = os.path.join(set_dir, class_name)\n",
    "            if not os.path.isdir(class_path):\n",
    "                continue\n",
    "            img_files = sorted(os.listdir(class_path))\n",
    "            for img_file in img_files:\n",
    "                img_path = os.path.join(class_path, img_file)\n",
    "                img = cv2.imread(img_path)\n",
    "                if img is not None:\n",
    "                    images.append(img)\n",
    "                    labels.append(class_name)\n",
    "    else:\n",
    "        # test: images directly in set_dir, sorted by filename\n",
    "        img_files = sorted(os.listdir(set_dir), key=lambda x: int(os.path.splitext(x)[0]))\n",
    "        for img_file in img_files:\n",
    "            img_path = os.path.join(set_dir, img_file)\n",
    "            img = cv2.imread(img_path)\n",
    "            if img is not None:\n",
    "                images.append(img)\n",
    "        labels = []\n",
    "    return images, labels"
   ]
  },
  {
   "cell_type": "code",
   "execution_count": null,
   "id": "e9151a560c344fe2",
   "metadata": {
    "ExecuteTime": {
     "end_time": "2025-05-10T03:38:13.472357Z",
     "start_time": "2025-05-10T03:38:13.460924Z"
    },
    "collapsed": false
   },
   "outputs": [],
   "source": [
    "# 2. Resize images.\n",
    "def img_resize(images: List[np.ndarray], target_size: int = 224) -> np.ndarray:\n",
    "    \"\"\"\n",
    "    Resize images with the shortest edge to target_size and perform center cropping to square dimensions.\n",
    "    \n",
    "    Args:\n",
    "        images: List of input images in BGR format (OpenCV default) with shape (H, W, C)\n",
    "        target_size: Desired output size (both width and height after cropping). Default 224.\n",
    "        \n",
    "    Returns:\n",
    "        Stacked numpy array of processed images with shape (N, target_size, target_size, 3)\n",
    "        where N is the number of input images\n",
    "        \n",
    "    Raises:\n",
    "        ValueError: If input images have inconsistent channels or invalid dimensions\n",
    "        \n",
    "    Notes:\n",
    "        - Preserves original aspect ratio during resizing\n",
    "        - Performs center cropping to exact square dimensions\n",
    "        - Maintains uint8 dtype unless conversion forces float32\n",
    "        \n",
    "    Example:\n",
    "        >>> imgs = [cv2.imread('test.jpg')]  # List of BGR images\n",
    "        >>> processed = img_resize(imgs)\n",
    "        >>> processed.shape  # (1, 224, 224, 3)\n",
    "    \"\"\"\n",
    "    if not images:\n",
    "        return np.array([])\n",
    "\n",
    "    processed_images = []\n",
    "    for img in images:\n",
    "        h, w = img.shape[:2]\n",
    "        # Scale the image while maintaining aspect ratio\n",
    "        if h < w:\n",
    "            new_h = target_size\n",
    "            new_w = int(w * target_size / h)\n",
    "        else:\n",
    "            new_w = target_size\n",
    "            new_h = int(h * target_size / w)\n",
    "        resized = cv2.resize(img, (new_w, new_h), interpolation=cv2.INTER_AREA)\n",
    "        # Center crop to target_size\n",
    "        start_x = (new_w - target_size) // 2\n",
    "        start_y = (new_h - target_size) // 2\n",
    "        cropped = resized[start_y:start_y+target_size, start_x:start_x+target_size]\n",
    "        processed_images.append(cropped)\n",
    "    return np.stack(processed_images)\n"
   ]
  },
  {
   "cell_type": "code",
   "execution_count": 4,
   "id": "bd1862b268144556",
   "metadata": {
    "ExecuteTime": {
     "end_time": "2025-05-10T03:38:39.249145Z",
     "start_time": "2025-05-10T03:38:14.305937Z"
    },
    "collapsed": false
   },
   "outputs": [],
   "source": [
    "# Load images\n",
    "\n",
    "images_train, labels_train = image_loader(\"../dataset_split/train\")\n",
    "images_val, labels_val = image_loader(\"../dataset_split/val\")\n",
    "images_test, _ = image_loader(\"../dataset_split/test\")"
   ]
  },
  {
   "cell_type": "code",
   "execution_count": 5,
   "id": "1975435fea13d751",
   "metadata": {
    "ExecuteTime": {
     "end_time": "2025-05-10T03:39:17.095684Z",
     "start_time": "2025-05-10T03:38:57.883480Z"
    },
    "collapsed": false
   },
   "outputs": [],
   "source": [
    "# Resize the images\n",
    "\n",
    "images_train = img_resize(images_train, 224)\n",
    "images_val = img_resize(images_val, 224)\n",
    "images_test = img_resize(images_test, 224)"
   ]
  },
  {
   "cell_type": "code",
   "execution_count": null,
   "id": "bd71fcddecfefdbf",
   "metadata": {
    "ExecuteTime": {
     "end_time": "2025-05-10T03:39:20.788788Z",
     "start_time": "2025-05-10T03:39:17.097418Z"
    },
    "collapsed": false
   },
   "outputs": [],
   "source": [
    "# 3. Convert the image data type as float32 and limit the range in [0, 1].\n",
    "\n",
    "images_train = images_train.astype(np.float32) / 255.0\n",
    "images_val = images_val.astype(np.float32) / 255.0\n",
    "images_test = images_test.astype(np.float32) / 255.0"
   ]
  },
  {
   "cell_type": "code",
   "execution_count": null,
   "id": "1938cec6018a8176",
   "metadata": {
    "ExecuteTime": {
     "end_time": "2025-05-10T03:39:21.156559Z",
     "start_time": "2025-05-10T03:39:20.789492Z"
    },
    "collapsed": false
   },
   "outputs": [],
   "source": [
    "# 4. Convert data from NHWC to NCHW and creat a PyTorch tensor from it.\n",
    "\n",
    "tensor_train = torch.from_numpy(np.transpose(images_train, (0, 3, 1, 2)))\n",
    "tensor_val = torch.from_numpy(np.transpose(images_val, (0, 3, 1, 2)))\n",
    "tensor_test = torch.from_numpy(np.transpose(images_test, (0, 3, 1, 2)))"
   ]
  },
  {
   "cell_type": "code",
   "execution_count": null,
   "id": "d584e1b61e015747",
   "metadata": {
    "ExecuteTime": {
     "end_time": "2025-05-10T03:39:32.523629Z",
     "start_time": "2025-05-10T03:39:21.158863Z"
    },
    "collapsed": false
   },
   "outputs": [],
   "source": [
    "# 5. Per-channel standardization of the dataset using training set statistics (mean and std computed independently for each color channel).\n",
    "\n",
    "# Calculate mean and std for each channel using the training set\n",
    "train_mean = tensor_train.mean(dim=(0, 2, 3), keepdim=True)\n",
    "train_std = tensor_train.std(dim=(0, 2, 3), keepdim=True)\n",
    "\n",
    "# Normalize the tensors using the computed mean and std\n",
    "tensor_train = (tensor_train - train_mean) / train_std\n",
    "tensor_val = (tensor_val - train_mean) / train_std\n",
    "tensor_test = (tensor_test - train_mean) / train_std"
   ]
  },
  {
   "cell_type": "code",
   "execution_count": null,
   "id": "9f7a684ba9e6561c",
   "metadata": {
    "ExecuteTime": {
     "end_time": "2025-05-10T03:39:41.944582Z",
     "start_time": "2025-05-10T03:39:32.524747Z"
    },
    "collapsed": false
   },
   "outputs": [],
   "source": [
    "# 6. Save the pre-processed sets as .pt files.\n",
    "import pickle\n",
    "\n",
    "save_dir = os.path.abspath(os.path.join(os.getcwd(), '../data_preprocessed'))\n",
    "os.makedirs(save_dir, exist_ok=True)\n",
    "\n",
    "# 6.1 Save the tensor_train, tensor_val, and tensor_test as tensor_train.pt, tensor_val.pt, and tensor_test.pt, respectively.\n",
    "torch.save(tensor_train, os.path.join(save_dir, 'tensor_train.pt'))\n",
    "torch.save(tensor_val, os.path.join(save_dir, 'tensor_val.pt'))\n",
    "torch.save(tensor_test, os.path.join(save_dir, 'tensor_test.pt'))\n",
    "\n",
    "# 6.2 Create a list to map index to label and a dictionary to map label to index.\n",
    "unique_labels = sorted(set(labels_train))\n",
    "label_to_index = {label: idx for idx, label in enumerate(unique_labels)}\n",
    "index_to_label = {idx: label for label, idx in label_to_index.items()}\n",
    "\n",
    "# 6.3 Map the labels to index.\n",
    "labels_train_index = torch.tensor([label_to_index[l] for l in labels_train], dtype=torch.long)\n",
    "labels_val_index = torch.tensor([label_to_index[l] for l in labels_val], dtype=torch.long)\n",
    "\n",
    "# 6.4 Save the index, label_to_index, and index_to_label.\n",
    "torch.save(labels_train_index, os.path.join(save_dir, 'labels_train.pt'))\n",
    "torch.save(labels_val_index, os.path.join(save_dir, 'labels_val.pt'))\n",
    "with open(os.path.join(save_dir, 'label_to_index.pkl'), 'wb') as f:\n",
    "    pickle.dump(label_to_index, f)\n",
    "with open(os.path.join(save_dir, 'index_to_label.pkl'), 'wb') as f:\n",
    "    pickle.dump(index_to_label, f)\n"
   ]
  },
  {
   "cell_type": "code",
   "execution_count": null,
   "id": "a3a5a646027a826",
   "metadata": {
    "ExecuteTime": {
     "end_time": "2025-05-10T03:39:45.192760Z",
     "start_time": "2025-05-10T03:39:41.946771Z"
    },
    "collapsed": false
   },
   "outputs": [
    {
     "name": "stdout",
     "output_type": "stream",
     "text": [
      "Train set: 7800 samples, shape: torch.Size([7800, 3, 224, 224])\n",
      "Val set: 2600 samples, shape: torch.Size([2600, 3, 224, 224])\n",
      "Test set: 2600 samples, shape: torch.Size([2600, 3, 224, 224])\n",
      "Train labels: 7800\n",
      "Val labels: 2600\n"
     ]
    }
   ],
   "source": [
    "# 7. Load the pre-processed sets from .pt files. The data can be used directly in future without pre-processing once more by loading from the folder.\n",
    "save_dir = os.path.abspath(os.path.join(os.getcwd(), '../data_preprocessed'))\n",
    "\n",
    "tensor_train = torch.load(os.path.join(save_dir, 'tensor_train.pt'), weights_only=True)\n",
    "tensor_val = torch.load(os.path.join(save_dir, 'tensor_val.pt'), weights_only=True)\n",
    "tensor_test = torch.load(os.path.join(save_dir, 'tensor_test.pt'), weights_only=True)\n",
    "\n",
    "labels_train_index = torch.load(os.path.join(save_dir, 'labels_train.pt'), weights_only=True)\n",
    "labels_val_index = torch.load(os.path.join(save_dir, 'labels_val.pt'), weights_only=True)\n",
    "\n",
    "with open(os.path.join(save_dir, 'label_to_index.pkl'), 'rb') as f:\n",
    "    label_to_index = pickle.load(f)\n",
    "with open(os.path.join(save_dir, 'index_to_label.pkl'), 'rb') as f:\n",
    "    index_to_label = pickle.load(f)\n",
    "\n",
    "print(f\"Train set: {tensor_train.shape[0]} samples, shape: {tensor_train.shape}\")\n",
    "print(f\"Val set: {tensor_val.shape[0]} samples, shape: {tensor_val.shape}\")\n",
    "print(f\"Test set: {tensor_test.shape[0]} samples, shape: {tensor_test.shape}\")\n",
    "print(f\"Train labels: {labels_train_index.shape[0]}\")\n",
    "print(f\"Val labels: {labels_val_index.shape[0]}\")"
   ]
  },
  {
   "cell_type": "markdown",
   "id": "f5cb7cfa317410ff",
   "metadata": {
    "collapsed": false
   },
   "source": [
    "# Step 2 Train the teacher model (ResNet34)\n",
    "1. Set hyperparameters for the training process.\n",
    "2. Create a pretrained ResNet34.\n",
    "3. Define the optimizer, loss function, etc.\n",
    "4. Train ResNet34 and save the best-performing parameters to 'resnet34_checkpoint.pkl'.\n",
    "5. Plot the loss and accuracy curves."
   ]
  },
  {
   "cell_type": "code",
   "execution_count": 14,
   "id": "745979a1b12465eb",
   "metadata": {
    "ExecuteTime": {
     "end_time": "2025-05-10T01:43:51.705549Z",
     "start_time": "2025-05-10T01:43:51.663106Z"
    },
    "collapsed": false
   },
   "outputs": [
    {
     "name": "stdout",
     "output_type": "stream",
     "text": [
      "tensor(10)\n",
      "torch.Size([7800, 3, 224, 224])\n",
      "torch.Size([2600, 3, 224, 224])\n",
      "torch.Size([2600, 3, 224, 224])\n",
      "torch.Size([7800])\n",
      "torch.Size([2600])\n"
     ]
    }
   ],
   "source": [
    "# Verify data shapes\n",
    "\n",
    "num_classes = max(labels_train_index) + 1\n",
    "print(num_classes)\n",
    "print(tensor_train.shape)\n",
    "print(tensor_val.shape)\n",
    "print(tensor_test.shape)\n",
    "print(labels_train_index.shape)\n",
    "print(labels_val_index.shape)"
   ]
  },
  {
   "cell_type": "code",
   "execution_count": null,
   "id": "507aa43e1a3701b5",
   "metadata": {
    "ExecuteTime": {
     "end_time": "2025-05-10T01:43:52.604546Z",
     "start_time": "2025-05-10T01:43:52.600245Z"
    },
    "collapsed": false
   },
   "outputs": [],
   "source": [
    "# Optimized hyperparameters\n",
    "MAX_EPOCH = 20         \n",
    "INIT_LR = 0.001        # Initial learning rate\n",
    "BATCH_SIZE = 128       # Batch size: 128 fits well for 11GB VRAM \n",
    "NUM_WORKERS = 4        # Number of DataLoader workers \n",
    "PIN_MEMORY = True      # Pin memory for faster GPU transfer\n",
    "\n",
    "# Specify the training device (automatically detects GPU if available)\n",
    "device = torch.device(\"cuda\" if torch.cuda.is_available() else \"cpu\")"
   ]
  },
  {
   "cell_type": "code",
   "execution_count": null,
   "id": "c8b9bf9ed5ae5cf9",
   "metadata": {
    "ExecuteTime": {
     "end_time": "2025-05-10T01:43:55.541802Z",
     "start_time": "2025-05-10T01:43:55.291383Z"
    },
    "collapsed": false
   },
   "outputs": [
    {
     "name": "stderr",
     "output_type": "stream",
     "text": [
      "Downloading: \"https://download.pytorch.org/models/resnet34-b627a593.pth\" to C:\\Users\\novas/.cache\\torch\\hub\\checkpoints\\resnet34-b627a593.pth\n",
      "100%|██████████| 83.3M/83.3M [00:01<00:00, 62.3MB/s]\n",
      "\n"
     ]
    }
   ],
   "source": [
    "# 2. Create a pretrained ResNet34.\n",
    "\n",
    "# 2.1 Use torchvision to create a pretrained ResNet34.\n",
    "resnet34 = torchvision.models.resnet34(weights=torchvision.models.ResNet34_Weights.IMAGENET1K_V1)  # Pretrained on ImageNet\n",
    "\n",
    "# 2.2 Modify the output layer so that the model aligns with this project.\n",
    "in_features = resnet34.fc.in_features\n",
    "resnet34.fc = nn.Linear(in_features, num_classes)  # num_classes from your dataset\n",
    "# (Optional: add dropout if overfitting, e.g., resnet34.fc = nn.Sequential(nn.Dropout(0.5), nn.Linear(in_features, num_classes)))\n",
    "\n",
    "# 2.3 Move the model to selected device.\n",
    "resnet34 = resnet34.to(device)\n"
   ]
  },
  {
   "cell_type": "code",
   "execution_count": null,
   "id": "70de5ac59beb12d",
   "metadata": {
    "ExecuteTime": {
     "end_time": "2025-05-10T01:43:56.555839Z",
     "start_time": "2025-05-10T01:43:56.542721Z"
    },
    "collapsed": false
   },
   "outputs": [],
   "source": [
    "# 3. Define the optimizer, loss function, etc.\n",
    "# Adam optimizer is robust for most cases; weight_decay helps regularization.\n",
    "optimizer = torch.optim.Adam(resnet34.parameters(), lr=INIT_LR, weight_decay=1e-4)\n",
    "criterion = nn.CrossEntropyLoss()  # For multi-class classification"
   ]
  },
  {
   "cell_type": "code",
   "execution_count": null,
   "id": "65a797debcc531db",
   "metadata": {
    "collapsed": false
   },
   "outputs": [
    {
     "name": "stderr",
     "output_type": "stream",
     "text": [
      "Epoch 1/20 [Train]:   0%|          | 0/61 [00:00<?, ?it/s]"
     ]
    },
    {
     "name": "stderr",
     "output_type": "stream",
     "text": [
      "Epoch 1/20 [Train]: 100%|██████████| 61/61 [00:17<00:00,  3.46it/s]\n",
      "Epoch 1/20 [Train]: 100%|██████████| 61/61 [00:17<00:00,  3.46it/s]\n",
      "Epoch 1/20 [Val]: 100%|██████████| 21/21 [00:03<00:00,  5.43it/s]\n",
      "\n"
     ]
    },
    {
     "name": "stdout",
     "output_type": "stream",
     "text": [
      "Epoch 1/20 | Train Loss: 0.2353 Acc: 0.9290 | Val Loss: 0.4277 Acc: 0.8704\n"
     ]
    },
    {
     "name": "stderr",
     "output_type": "stream",
     "text": [
      "Epoch 2/20 [Train]: 100%|██████████| 61/61 [00:17<00:00,  3.50it/s]\n",
      "Epoch 2/20 [Train]: 100%|██████████| 61/61 [00:17<00:00,  3.50it/s]\n",
      "Epoch 2/20 [Val]: 100%|██████████| 21/21 [00:04<00:00,  5.21it/s]\n",
      "Epoch 2/20 [Val]: 100%|██████████| 21/21 [00:04<00:00,  5.21it/s]\n"
     ]
    },
    {
     "name": "stdout",
     "output_type": "stream",
     "text": [
      "Epoch 2/20 | Train Loss: 0.1824 Acc: 0.9437 | Val Loss: 0.5833 Acc: 0.8177\n"
     ]
    },
    {
     "name": "stderr",
     "output_type": "stream",
     "text": [
      "Epoch 3/20 [Train]: 100%|██████████| 61/61 [00:17<00:00,  3.54it/s]\n",
      "Epoch 3/20 [Train]: 100%|██████████| 61/61 [00:17<00:00,  3.54it/s]\n",
      "Epoch 3/20 [Val]: 100%|██████████| 21/21 [00:04<00:00,  5.22it/s]\n",
      "\n"
     ]
    },
    {
     "name": "stdout",
     "output_type": "stream",
     "text": [
      "Epoch 3/20 | Train Loss: 0.1303 Acc: 0.9586 | Val Loss: 0.4757 Acc: 0.8746\n"
     ]
    },
    {
     "name": "stderr",
     "output_type": "stream",
     "text": [
      "Epoch 4/20 [Train]: 100%|██████████| 61/61 [00:17<00:00,  3.51it/s]\n",
      "Epoch 4/20 [Train]: 100%|██████████| 61/61 [00:17<00:00,  3.51it/s]\n",
      "Epoch 4/20 [Val]: 100%|██████████| 21/21 [00:04<00:00,  5.11it/s]\n",
      "\n"
     ]
    },
    {
     "name": "stdout",
     "output_type": "stream",
     "text": [
      "Epoch 4/20 | Train Loss: 0.1264 Acc: 0.9582 | Val Loss: 0.3572 Acc: 0.8908\n"
     ]
    },
    {
     "name": "stderr",
     "output_type": "stream",
     "text": [
      "Epoch 5/20 [Train]: 100%|██████████| 61/61 [00:17<00:00,  3.53it/s]\n",
      "Epoch 5/20 [Train]: 100%|██████████| 61/61 [00:17<00:00,  3.53it/s]\n",
      "Epoch 5/20 [Val]: 100%|██████████| 21/21 [00:04<00:00,  5.21it/s]\n",
      "\n"
     ]
    },
    {
     "name": "stdout",
     "output_type": "stream",
     "text": [
      "Epoch 5/20 | Train Loss: 0.1081 Acc: 0.9691 | Val Loss: 0.3618 Acc: 0.8946\n"
     ]
    },
    {
     "name": "stderr",
     "output_type": "stream",
     "text": [
      "Epoch 6/20 [Train]: 100%|██████████| 61/61 [00:17<00:00,  3.50it/s]\n",
      "Epoch 6/20 [Train]: 100%|██████████| 61/61 [00:17<00:00,  3.50it/s]\n",
      "Epoch 6/20 [Val]: 100%|██████████| 21/21 [00:03<00:00,  5.28it/s]\n",
      "Epoch 6/20 [Val]: 100%|██████████| 21/21 [00:03<00:00,  5.28it/s]\n"
     ]
    },
    {
     "name": "stdout",
     "output_type": "stream",
     "text": [
      "Epoch 6/20 | Train Loss: 0.0951 Acc: 0.9677 | Val Loss: 0.4507 Acc: 0.8692\n"
     ]
    },
    {
     "name": "stderr",
     "output_type": "stream",
     "text": [
      "Epoch 7/20 [Train]: 100%|██████████| 61/61 [00:17<00:00,  3.50it/s]\n",
      "Epoch 7/20 [Train]: 100%|██████████| 61/61 [00:17<00:00,  3.50it/s]\n",
      "Epoch 7/20 [Val]: 100%|██████████| 21/21 [00:04<00:00,  5.11it/s]\n",
      "\n"
     ]
    },
    {
     "name": "stdout",
     "output_type": "stream",
     "text": [
      "Epoch 7/20 | Train Loss: 0.0586 Acc: 0.9810 | Val Loss: 0.3101 Acc: 0.9100\n"
     ]
    },
    {
     "name": "stderr",
     "output_type": "stream",
     "text": [
      "Epoch 8/20 [Train]: 100%|██████████| 61/61 [00:17<00:00,  3.48it/s]\n",
      "Epoch 8/20 [Train]: 100%|██████████| 61/61 [00:17<00:00,  3.48it/s]\n",
      "Epoch 8/20 [Val]: 100%|██████████| 21/21 [00:04<00:00,  5.15it/s]\n",
      "Epoch 8/20 [Val]: 100%|██████████| 21/21 [00:04<00:00,  5.15it/s]\n"
     ]
    },
    {
     "name": "stdout",
     "output_type": "stream",
     "text": [
      "Epoch 8/20 | Train Loss: 0.0659 Acc: 0.9791 | Val Loss: 0.5554 Acc: 0.8654\n"
     ]
    },
    {
     "name": "stderr",
     "output_type": "stream",
     "text": [
      "Epoch 9/20 [Train]: 100%|██████████| 61/61 [00:17<00:00,  3.49it/s]\n",
      "Epoch 9/20 [Train]: 100%|██████████| 61/61 [00:17<00:00,  3.49it/s]\n",
      "Epoch 9/20 [Val]: 100%|██████████| 21/21 [00:03<00:00,  5.36it/s]\n",
      "Epoch 9/20 [Val]: 100%|██████████| 21/21 [00:03<00:00,  5.36it/s]\n"
     ]
    },
    {
     "name": "stdout",
     "output_type": "stream",
     "text": [
      "Epoch 9/20 | Train Loss: 0.0586 Acc: 0.9827 | Val Loss: 0.4385 Acc: 0.8792\n"
     ]
    },
    {
     "name": "stderr",
     "output_type": "stream",
     "text": [
      "Epoch 10/20 [Train]: 100%|██████████| 61/61 [00:17<00:00,  3.51it/s]\n",
      "Epoch 10/20 [Train]: 100%|██████████| 61/61 [00:17<00:00,  3.51it/s]\n",
      "Epoch 10/20 [Val]: 100%|██████████| 21/21 [00:03<00:00,  5.35it/s]\n",
      "Epoch 10/20 [Val]: 100%|██████████| 21/21 [00:03<00:00,  5.35it/s]\n"
     ]
    },
    {
     "name": "stdout",
     "output_type": "stream",
     "text": [
      "Epoch 10/20 | Train Loss: 0.0579 Acc: 0.9805 | Val Loss: 0.6557 Acc: 0.8446\n"
     ]
    },
    {
     "name": "stderr",
     "output_type": "stream",
     "text": [
      "Epoch 11/20 [Train]: 100%|██████████| 61/61 [00:17<00:00,  3.51it/s]\n",
      "Epoch 11/20 [Train]: 100%|██████████| 61/61 [00:17<00:00,  3.51it/s]\n",
      "Epoch 11/20 [Val]: 100%|██████████| 21/21 [00:04<00:00,  5.19it/s]\n",
      "Epoch 11/20 [Val]: 100%|██████████| 21/21 [00:04<00:00,  5.19it/s]\n"
     ]
    },
    {
     "name": "stdout",
     "output_type": "stream",
     "text": [
      "Epoch 11/20 | Train Loss: 0.0527 Acc: 0.9838 | Val Loss: 0.5406 Acc: 0.8592\n"
     ]
    },
    {
     "name": "stderr",
     "output_type": "stream",
     "text": [
      "Epoch 12/20 [Train]: 100%|██████████| 61/61 [00:17<00:00,  3.51it/s]\n",
      "Epoch 12/20 [Train]: 100%|██████████| 61/61 [00:17<00:00,  3.51it/s]\n",
      "Epoch 12/20 [Val]: 100%|██████████| 21/21 [00:03<00:00,  5.25it/s]\n",
      "Epoch 12/20 [Val]: 100%|██████████| 21/21 [00:03<00:00,  5.25it/s]\n"
     ]
    },
    {
     "name": "stdout",
     "output_type": "stream",
     "text": [
      "Epoch 12/20 | Train Loss: 0.0669 Acc: 0.9778 | Val Loss: 0.6132 Acc: 0.8665\n"
     ]
    },
    {
     "name": "stderr",
     "output_type": "stream",
     "text": [
      "Epoch 13/20 [Train]: 100%|██████████| 61/61 [00:17<00:00,  3.47it/s]\n",
      "Epoch 13/20 [Train]: 100%|██████████| 61/61 [00:17<00:00,  3.47it/s]\n",
      "Epoch 13/20 [Val]: 100%|██████████| 21/21 [00:04<00:00,  4.93it/s]\n",
      "Epoch 13/20 [Val]: 100%|██████████| 21/21 [00:04<00:00,  4.93it/s]\n"
     ]
    },
    {
     "name": "stdout",
     "output_type": "stream",
     "text": [
      "Epoch 13/20 | Train Loss: 0.0682 Acc: 0.9803 | Val Loss: 0.4708 Acc: 0.8785\n"
     ]
    },
    {
     "name": "stderr",
     "output_type": "stream",
     "text": [
      "Epoch 14/20 [Train]: 100%|██████████| 61/61 [00:17<00:00,  3.48it/s]\n",
      "Epoch 14/20 [Train]: 100%|██████████| 61/61 [00:17<00:00,  3.48it/s]\n",
      "Epoch 14/20 [Val]: 100%|██████████| 21/21 [00:04<00:00,  5.23it/s]\n",
      "Epoch 14/20 [Val]: 100%|██████████| 21/21 [00:04<00:00,  5.23it/s]\n"
     ]
    },
    {
     "name": "stdout",
     "output_type": "stream",
     "text": [
      "Epoch 14/20 | Train Loss: 0.0378 Acc: 0.9890 | Val Loss: 0.3570 Acc: 0.9062\n"
     ]
    },
    {
     "name": "stderr",
     "output_type": "stream",
     "text": [
      "Epoch 15/20 [Train]: 100%|██████████| 61/61 [00:17<00:00,  3.47it/s]\n",
      "Epoch 15/20 [Train]: 100%|██████████| 61/61 [00:17<00:00,  3.47it/s]\n",
      "Epoch 15/20 [Val]: 100%|██████████| 21/21 [00:04<00:00,  5.21it/s]\n",
      "Epoch 15/20 [Val]: 100%|██████████| 21/21 [00:04<00:00,  5.21it/s]\n"
     ]
    },
    {
     "name": "stdout",
     "output_type": "stream",
     "text": [
      "Epoch 15/20 | Train Loss: 0.0471 Acc: 0.9862 | Val Loss: 0.6525 Acc: 0.8608\n"
     ]
    },
    {
     "name": "stderr",
     "output_type": "stream",
     "text": [
      "Epoch 16/20 [Train]: 100%|██████████| 61/61 [00:17<00:00,  3.46it/s]\n",
      "Epoch 16/20 [Train]: 100%|██████████| 61/61 [00:17<00:00,  3.46it/s]\n",
      "Epoch 16/20 [Val]: 100%|██████████| 21/21 [00:04<00:00,  5.16it/s]\n",
      "Epoch 16/20 [Val]: 100%|██████████| 21/21 [00:04<00:00,  5.16it/s]\n"
     ]
    },
    {
     "name": "stdout",
     "output_type": "stream",
     "text": [
      "Epoch 16/20 | Train Loss: 0.0470 Acc: 0.9853 | Val Loss: 0.4967 Acc: 0.8877\n"
     ]
    },
    {
     "name": "stderr",
     "output_type": "stream",
     "text": [
      "Epoch 17/20 [Train]: 100%|██████████| 61/61 [00:17<00:00,  3.51it/s]\n",
      "Epoch 17/20 [Train]: 100%|██████████| 61/61 [00:17<00:00,  3.51it/s]\n",
      "Epoch 17/20 [Val]: 100%|██████████| 21/21 [00:04<00:00,  5.21it/s]\n",
      "Epoch 17/20 [Val]: 100%|██████████| 21/21 [00:04<00:00,  5.21it/s]\n"
     ]
    },
    {
     "name": "stdout",
     "output_type": "stream",
     "text": [
      "Epoch 17/20 | Train Loss: 0.0804 Acc: 0.9762 | Val Loss: 0.4663 Acc: 0.8719\n"
     ]
    },
    {
     "name": "stderr",
     "output_type": "stream",
     "text": [
      "Epoch 18/20 [Train]: 100%|██████████| 61/61 [00:17<00:00,  3.50it/s]\n",
      "Epoch 18/20 [Train]: 100%|██████████| 61/61 [00:17<00:00,  3.50it/s]\n",
      "Epoch 18/20 [Val]: 100%|██████████| 21/21 [00:04<00:00,  5.19it/s]\n",
      "Epoch 18/20 [Val]: 100%|██████████| 21/21 [00:04<00:00,  5.19it/s]\n"
     ]
    },
    {
     "name": "stdout",
     "output_type": "stream",
     "text": [
      "Epoch 18/20 | Train Loss: 0.0491 Acc: 0.9844 | Val Loss: 0.4305 Acc: 0.8881\n"
     ]
    },
    {
     "name": "stderr",
     "output_type": "stream",
     "text": [
      "Epoch 19/20 [Train]: 100%|██████████| 61/61 [00:17<00:00,  3.50it/s]\n",
      "Epoch 19/20 [Train]: 100%|██████████| 61/61 [00:17<00:00,  3.50it/s]\n",
      "Epoch 19/20 [Val]: 100%|██████████| 21/21 [00:04<00:00,  5.22it/s]\n",
      "Epoch 19/20 [Val]: 100%|██████████| 21/21 [00:04<00:00,  5.22it/s]\n"
     ]
    },
    {
     "name": "stdout",
     "output_type": "stream",
     "text": [
      "Epoch 19/20 | Train Loss: 0.0568 Acc: 0.9817 | Val Loss: 0.3804 Acc: 0.8977\n"
     ]
    },
    {
     "name": "stderr",
     "output_type": "stream",
     "text": [
      "Epoch 20/20 [Train]: 100%|██████████| 61/61 [00:17<00:00,  3.47it/s]\n",
      "Epoch 20/20 [Train]: 100%|██████████| 61/61 [00:17<00:00,  3.47it/s]\n",
      "Epoch 20/20 [Val]: 100%|██████████| 21/21 [00:04<00:00,  5.04it/s]"
     ]
    },
    {
     "name": "stdout",
     "output_type": "stream",
     "text": [
      "Epoch 20/20 | Train Loss: 0.0369 Acc: 0.9895 | Val Loss: 0.2683 Acc: 0.9235\n"
     ]
    },
    {
     "name": "stderr",
     "output_type": "stream",
     "text": [
      "\n"
     ]
    },
    {
     "data": {
      "text/plain": [
       "<All keys matched successfully>"
      ]
     },
     "execution_count": 19,
     "metadata": {},
     "output_type": "execute_result"
    }
   ],
   "source": [
    "# 4. Train ResNet34 and save the best-performing parameters to 'resnet34_checkpoint.pkl'.\n",
    "from torch.utils.data import TensorDataset, DataLoader\n",
    "\n",
    "\n",
    "# Prepare datasets and dataloaders\n",
    "train_dataset = TensorDataset(tensor_train, labels_train_index)\n",
    "val_dataset = TensorDataset(tensor_val, labels_val_index)\n",
    "\n",
    "train_loader = DataLoader(train_dataset, batch_size=BATCH_SIZE, shuffle=True, num_workers=NUM_WORKERS, pin_memory=PIN_MEMORY)\n",
    "val_loader = DataLoader(val_dataset, batch_size=BATCH_SIZE, shuffle=False, num_workers=NUM_WORKERS, pin_memory=PIN_MEMORY)\n",
    "\n",
    "train_accs_resnet34, train_losses_resnet34, val_accs_resnet34, val_losses_resnet34 = [], [], [], []\n",
    "best_val_acc = 0.0\n",
    "best_model_wts = copy.deepcopy(resnet34.state_dict())\n",
    "\n",
    "# Ensure models directory exists\n",
    "models_dir = os.path.abspath(os.path.join(os.getcwd(), '../models'))\n",
    "os.makedirs(models_dir, exist_ok=True)\n",
    "\n",
    "for epoch in range(MAX_EPOCH):\n",
    "    resnet34.train()\n",
    "    running_loss = 0.0\n",
    "    running_corrects = 0\n",
    "    total = 0\n",
    "    for inputs, labels in tqdm(train_loader, desc=f\"Epoch {epoch+1}/{MAX_EPOCH} [Train]\"):\n",
    "        inputs, labels = inputs.to(device), labels.to(device)\n",
    "        optimizer.zero_grad()\n",
    "        outputs = resnet34(inputs)\n",
    "        loss = criterion(outputs, labels)\n",
    "        loss.backward()\n",
    "        optimizer.step()\n",
    "        running_loss += loss.item() * inputs.size(0)\n",
    "        _, preds = torch.max(outputs, 1)\n",
    "        running_corrects += (preds == labels).sum().item()\n",
    "        total += labels.size(0)\n",
    "    epoch_loss = running_loss / total\n",
    "    epoch_acc = running_corrects / total\n",
    "    train_losses_resnet34.append(epoch_loss)\n",
    "    train_accs_resnet34.append(epoch_acc)\n",
    "\n",
    "    # Validation\n",
    "    resnet34.eval()\n",
    "    val_loss = 0.0\n",
    "    val_corrects = 0\n",
    "    val_total = 0\n",
    "    with torch.no_grad():\n",
    "        for inputs, labels in tqdm(val_loader, desc=f\"Epoch {epoch+1}/{MAX_EPOCH} [Val]\"):\n",
    "            inputs, labels = inputs.to(device), labels.to(device)\n",
    "            outputs = resnet34(inputs)\n",
    "            loss = criterion(outputs, labels)\n",
    "            val_loss += loss.item() * inputs.size(0)\n",
    "            _, preds = torch.max(outputs, 1)\n",
    "            val_corrects += (preds == labels).sum().item()\n",
    "            val_total += labels.size(0)\n",
    "    val_epoch_loss = val_loss / val_total\n",
    "    val_epoch_acc = val_corrects / val_total\n",
    "    val_losses_resnet34.append(val_epoch_loss)\n",
    "    val_accs_resnet34.append(val_epoch_acc)\n",
    "\n",
    "    print(f\"Epoch {epoch+1}/{MAX_EPOCH} | Train Loss: {epoch_loss:.4f} Acc: {epoch_acc:.4f} | Val Loss: {val_epoch_loss:.4f} Acc: {val_epoch_acc:.4f}\")\n",
    "\n",
    "    # Save best model\n",
    "    if val_epoch_acc > best_val_acc:\n",
    "        best_val_acc = val_epoch_acc\n",
    "        best_model_wts = copy.deepcopy(resnet34.state_dict())\n",
    "        torch.save(best_model_wts, os.path.join(models_dir, 'resnet34_checkpoint.pkl'))\n",
    "# After training, load best weights\n",
    "resnet34.load_state_dict(best_model_wts)\n"
   ]
  },
  {
   "cell_type": "code",
   "execution_count": null,
   "id": "bb5a3089891cf4a3",
   "metadata": {
    "collapsed": false
   },
   "outputs": [
    {
     "data": {
      "image/png": "[encoded data removed]",
      "text/plain": [
       "<Figure size 1200x500 with 2 Axes>"
      ]
     },
     "metadata": {},
     "output_type": "display_data"
    }
   ],
   "source": [
    "# 5. Plot the loss and accuracy curves.\n",
    "plt.figure(figsize=(12, 5))\n",
    "plt.subplot(1, 2, 1)\n",
    "plt.plot(train_losses_resnet34, label='Train Loss')\n",
    "plt.plot(val_losses_resnet34, label='Val Loss')\n",
    "plt.xlabel('Epoch')\n",
    "plt.ylabel('Loss')\n",
    "plt.title('ResNet34 Loss Curve')\n",
    "plt.legend()\n",
    "\n",
    "plt.subplot(1, 2, 2)\n",
    "plt.plot(train_accs_resnet34, label='Train Acc')\n",
    "plt.plot(val_accs_resnet34, label='Val Acc')\n",
    "plt.xlabel('Epoch')\n",
    "plt.ylabel('Accuracy')\n",
    "plt.title('ResNet34 Accuracy Curve')\n",
    "plt.legend()\n",
    "\n",
    "plt.tight_layout()\n",
    "plt.show()\n"
   ]
  },
  {
   "cell_type": "markdown",
   "id": "897fa4102b57deab",
   "metadata": {
    "collapsed": false
   },
   "source": [
    "# Step 3 Train the student model (ResNet18)\n",
    "1. Set hyperparameters for the distillation process.\n",
    "2. Create a NON-PRETRAINED ResNet18 and move the model to selected device.\n",
    "3. Load the saved ResNet34 and move the model to selected device.\n",
    "4. Define the optimizer, loss function, etc.\n",
    "5. Train ResNet18 and save the best-performing parameters to 'resnet18_checkpoint.pkl'.\n",
    "6. Plot the loss and accuracy curves."
   ]
  },
  {
   "cell_type": "code",
   "execution_count": 31,
   "id": "68482456ab9410f8",
   "metadata": {
    "ExecuteTime": {
     "end_time": "2025-05-10T01:57:38.370616Z",
     "start_time": "2025-05-10T01:57:38.341026Z"
    },
    "collapsed": false
   },
   "outputs": [
    {
     "name": "stdout",
     "output_type": "stream",
     "text": [
      "tensor(10)\n",
      "torch.Size([7800, 3, 224, 224])\n",
      "torch.Size([2600, 3, 224, 224])\n",
      "torch.Size([2600, 3, 224, 224])\n",
      "torch.Size([7800])\n",
      "torch.Size([2600])\n"
     ]
    }
   ],
   "source": [
    "# Verify data shapes\n",
    "\n",
    "num_classes = max(labels_train_index) + 1\n",
    "print(num_classes)\n",
    "print(tensor_train.shape)\n",
    "print(tensor_val.shape)\n",
    "print(tensor_test.shape)\n",
    "print(labels_train_index.shape)\n",
    "print(labels_val_index.shape)"
   ]
  },
  {
   "cell_type": "code",
   "execution_count": null,
   "id": "36a405975e022459",
   "metadata": {
    "ExecuteTime": {
     "end_time": "2025-05-10T01:57:39.329470Z",
     "start_time": "2025-05-10T01:57:39.294551Z"
    },
    "collapsed": false
   },
   "outputs": [],
   "source": [
    "# 1. Set hyperparameters for the distillation process. \n",
    "MAX_EPOCH = 60  \n",
    "INIT_LR = 0.0005  \n",
    "BATCH_SIZE = 128  \n",
    "NUM_WORKERS = 8  \n",
    "PIN_MEMORY = True  \n",
    "TEMPERATURE = 3.0  \n",
    "LOSS_RATIO = 0.5   \n",
    "WEIGHT_DECAY = 5e-4\n",
    "EARLY_STOPPING_PATIENCE = 10  # Early stopping tolerance\n",
    "\n",
    "device = torch.device(\"cuda\" if torch.cuda.is_available() else \"cpu\")"
   ]
  },
  {
   "cell_type": "code",
   "execution_count": null,
   "id": "e7d2325836c2cf7d",
   "metadata": {
    "ExecuteTime": {
     "end_time": "2025-05-10T01:57:43.030265Z",
     "start_time": "2025-05-10T01:57:42.861042Z"
    },
    "collapsed": false
   },
   "outputs": [],
   "source": [
    "# 2. Create a NON-PRETRAINED ResNet18 and move the model to selected device.\n",
    "resnet18 = torchvision.models.resnet18(weights=None)\n",
    "in_features = resnet18.fc.in_features\n",
    "resnet18.fc = nn.Linear(in_features, num_classes)\n",
    "resnet18 = resnet18.to(device)"
   ]
  },
  {
   "cell_type": "code",
   "execution_count": 34,
   "id": "b8092f5d5acce972",
   "metadata": {
    "collapsed": false
   },
   "outputs": [
    {
     "name": "stderr",
     "output_type": "stream",
     "text": [
      "C:\\Users\\novas\\AppData\\Local\\Temp\\ipykernel_13360\\3064006315.py:10: FutureWarning: You are using `torch.load` with `weights_only=False` (the current default value), which uses the default pickle module implicitly. It is possible to construct malicious pickle data which will execute arbitrary code during unpickling (See https://github.com/pytorch/pytorch/blob/main/SECURITY.md#untrusted-models for more details). In a future release, the default value for `weights_only` will be flipped to `True`. This limits the functions that could be executed during unpickling. Arbitrary objects will no longer be allowed to be loaded via this mode unless they are explicitly allowlisted by the user via `torch.serialization.add_safe_globals`. We recommend you start setting `weights_only=True` for any use case where you don't have full control of the loaded file. Please open an issue on GitHub for any issues related to this experimental feature.\n",
      "  resnet34.load_state_dict(torch.load(os.path.join(models_dir, 'resnet34_checkpoint.pkl'), map_location=device))\n"
     ]
    },
    {
     "data": {
      "text/plain": [
       "ResNet(\n",
       "  (conv1): Conv2d(3, 64, kernel_size=(7, 7), stride=(2, 2), padding=(3, 3), bias=False)\n",
       "  (bn1): BatchNorm2d(64, eps=1e-05, momentum=0.1, affine=True, track_running_stats=True)\n",
       "  (relu): ReLU(inplace=True)\n",
       "  (maxpool): MaxPool2d(kernel_size=3, stride=2, padding=1, dilation=1, ceil_mode=False)\n",
       "  (layer1): Sequential(\n",
       "    (0): BasicBlock(\n",
       "      (conv1): Conv2d(64, 64, kernel_size=(3, 3), stride=(1, 1), padding=(1, 1), bias=False)\n",
       "      (bn1): BatchNorm2d(64, eps=1e-05, momentum=0.1, affine=True, track_running_stats=True)\n",
       "      (relu): ReLU(inplace=True)\n",
       "      (conv2): Conv2d(64, 64, kernel_size=(3, 3), stride=(1, 1), padding=(1, 1), bias=False)\n",
       "      (bn2): BatchNorm2d(64, eps=1e-05, momentum=0.1, affine=True, track_running_stats=True)\n",
       "    )\n",
       "    (1): BasicBlock(\n",
       "      (conv1): Conv2d(64, 64, kernel_size=(3, 3), stride=(1, 1), padding=(1, 1), bias=False)\n",
       "      (bn1): BatchNorm2d(64, eps=1e-05, momentum=0.1, affine=True, track_running_stats=True)\n",
       "      (relu): ReLU(inplace=True)\n",
       "      (conv2): Conv2d(64, 64, kernel_size=(3, 3), stride=(1, 1), padding=(1, 1), bias=False)\n",
       "      (bn2): BatchNorm2d(64, eps=1e-05, momentum=0.1, affine=True, track_running_stats=True)\n",
       "    )\n",
       "    (2): BasicBlock(\n",
       "      (conv1): Conv2d(64, 64, kernel_size=(3, 3), stride=(1, 1), padding=(1, 1), bias=False)\n",
       "      (bn1): BatchNorm2d(64, eps=1e-05, momentum=0.1, affine=True, track_running_stats=True)\n",
       "      (relu): ReLU(inplace=True)\n",
       "      (conv2): Conv2d(64, 64, kernel_size=(3, 3), stride=(1, 1), padding=(1, 1), bias=False)\n",
       "      (bn2): BatchNorm2d(64, eps=1e-05, momentum=0.1, affine=True, track_running_stats=True)\n",
       "    )\n",
       "  )\n",
       "  (layer2): Sequential(\n",
       "    (0): BasicBlock(\n",
       "      (conv1): Conv2d(64, 128, kernel_size=(3, 3), stride=(2, 2), padding=(1, 1), bias=False)\n",
       "      (bn1): BatchNorm2d(128, eps=1e-05, momentum=0.1, affine=True, track_running_stats=True)\n",
       "      (relu): ReLU(inplace=True)\n",
       "      (conv2): Conv2d(128, 128, kernel_size=(3, 3), stride=(1, 1), padding=(1, 1), bias=False)\n",
       "      (bn2): BatchNorm2d(128, eps=1e-05, momentum=0.1, affine=True, track_running_stats=True)\n",
       "      (downsample): Sequential(\n",
       "        (0): Conv2d(64, 128, kernel_size=(1, 1), stride=(2, 2), bias=False)\n",
       "        (1): BatchNorm2d(128, eps=1e-05, momentum=0.1, affine=True, track_running_stats=True)\n",
       "      )\n",
       "    )\n",
       "    (1): BasicBlock(\n",
       "      (conv1): Conv2d(128, 128, kernel_size=(3, 3), stride=(1, 1), padding=(1, 1), bias=False)\n",
       "      (bn1): BatchNorm2d(128, eps=1e-05, momentum=0.1, affine=True, track_running_stats=True)\n",
       "      (relu): ReLU(inplace=True)\n",
       "      (conv2): Conv2d(128, 128, kernel_size=(3, 3), stride=(1, 1), padding=(1, 1), bias=False)\n",
       "      (bn2): BatchNorm2d(128, eps=1e-05, momentum=0.1, affine=True, track_running_stats=True)\n",
       "    )\n",
       "    (2): BasicBlock(\n",
       "      (conv1): Conv2d(128, 128, kernel_size=(3, 3), stride=(1, 1), padding=(1, 1), bias=False)\n",
       "      (bn1): BatchNorm2d(128, eps=1e-05, momentum=0.1, affine=True, track_running_stats=True)\n",
       "      (relu): ReLU(inplace=True)\n",
       "      (conv2): Conv2d(128, 128, kernel_size=(3, 3), stride=(1, 1), padding=(1, 1), bias=False)\n",
       "      (bn2): BatchNorm2d(128, eps=1e-05, momentum=0.1, affine=True, track_running_stats=True)\n",
       "    )\n",
       "    (3): BasicBlock(\n",
       "      (conv1): Conv2d(128, 128, kernel_size=(3, 3), stride=(1, 1), padding=(1, 1), bias=False)\n",
       "      (bn1): BatchNorm2d(128, eps=1e-05, momentum=0.1, affine=True, track_running_stats=True)\n",
       "      (relu): ReLU(inplace=True)\n",
       "      (conv2): Conv2d(128, 128, kernel_size=(3, 3), stride=(1, 1), padding=(1, 1), bias=False)\n",
       "      (bn2): BatchNorm2d(128, eps=1e-05, momentum=0.1, affine=True, track_running_stats=True)\n",
       "    )\n",
       "  )\n",
       "  (layer3): Sequential(\n",
       "    (0): BasicBlock(\n",
       "      (conv1): Conv2d(128, 256, kernel_size=(3, 3), stride=(2, 2), padding=(1, 1), bias=False)\n",
       "      (bn1): BatchNorm2d(256, eps=1e-05, momentum=0.1, affine=True, track_running_stats=True)\n",
       "      (relu): ReLU(inplace=True)\n",
       "      (conv2): Conv2d(256, 256, kernel_size=(3, 3), stride=(1, 1), padding=(1, 1), bias=False)\n",
       "      (bn2): BatchNorm2d(256, eps=1e-05, momentum=0.1, affine=True, track_running_stats=True)\n",
       "      (downsample): Sequential(\n",
       "        (0): Conv2d(128, 256, kernel_size=(1, 1), stride=(2, 2), bias=False)\n",
       "        (1): BatchNorm2d(256, eps=1e-05, momentum=0.1, affine=True, track_running_stats=True)\n",
       "      )\n",
       "    )\n",
       "    (1): BasicBlock(\n",
       "      (conv1): Conv2d(256, 256, kernel_size=(3, 3), stride=(1, 1), padding=(1, 1), bias=False)\n",
       "      (bn1): BatchNorm2d(256, eps=1e-05, momentum=0.1, affine=True, track_running_stats=True)\n",
       "      (relu): ReLU(inplace=True)\n",
       "      (conv2): Conv2d(256, 256, kernel_size=(3, 3), stride=(1, 1), padding=(1, 1), bias=False)\n",
       "      (bn2): BatchNorm2d(256, eps=1e-05, momentum=0.1, affine=True, track_running_stats=True)\n",
       "    )\n",
       "    (2): BasicBlock(\n",
       "      (conv1): Conv2d(256, 256, kernel_size=(3, 3), stride=(1, 1), padding=(1, 1), bias=False)\n",
       "      (bn1): BatchNorm2d(256, eps=1e-05, momentum=0.1, affine=True, track_running_stats=True)\n",
       "      (relu): ReLU(inplace=True)\n",
       "      (conv2): Conv2d(256, 256, kernel_size=(3, 3), stride=(1, 1), padding=(1, 1), bias=False)\n",
       "      (bn2): BatchNorm2d(256, eps=1e-05, momentum=0.1, affine=True, track_running_stats=True)\n",
       "    )\n",
       "    (3): BasicBlock(\n",
       "      (conv1): Conv2d(256, 256, kernel_size=(3, 3), stride=(1, 1), padding=(1, 1), bias=False)\n",
       "      (bn1): BatchNorm2d(256, eps=1e-05, momentum=0.1, affine=True, track_running_stats=True)\n",
       "      (relu): ReLU(inplace=True)\n",
       "      (conv2): Conv2d(256, 256, kernel_size=(3, 3), stride=(1, 1), padding=(1, 1), bias=False)\n",
       "      (bn2): BatchNorm2d(256, eps=1e-05, momentum=0.1, affine=True, track_running_stats=True)\n",
       "    )\n",
       "    (4): BasicBlock(\n",
       "      (conv1): Conv2d(256, 256, kernel_size=(3, 3), stride=(1, 1), padding=(1, 1), bias=False)\n",
       "      (bn1): BatchNorm2d(256, eps=1e-05, momentum=0.1, affine=True, track_running_stats=True)\n",
       "      (relu): ReLU(inplace=True)\n",
       "      (conv2): Conv2d(256, 256, kernel_size=(3, 3), stride=(1, 1), padding=(1, 1), bias=False)\n",
       "      (bn2): BatchNorm2d(256, eps=1e-05, momentum=0.1, affine=True, track_running_stats=True)\n",
       "    )\n",
       "    (5): BasicBlock(\n",
       "      (conv1): Conv2d(256, 256, kernel_size=(3, 3), stride=(1, 1), padding=(1, 1), bias=False)\n",
       "      (bn1): BatchNorm2d(256, eps=1e-05, momentum=0.1, affine=True, track_running_stats=True)\n",
       "      (relu): ReLU(inplace=True)\n",
       "      (conv2): Conv2d(256, 256, kernel_size=(3, 3), stride=(1, 1), padding=(1, 1), bias=False)\n",
       "      (bn2): BatchNorm2d(256, eps=1e-05, momentum=0.1, affine=True, track_running_stats=True)\n",
       "    )\n",
       "  )\n",
       "  (layer4): Sequential(\n",
       "    (0): BasicBlock(\n",
       "      (conv1): Conv2d(256, 512, kernel_size=(3, 3), stride=(2, 2), padding=(1, 1), bias=False)\n",
       "      (bn1): BatchNorm2d(512, eps=1e-05, momentum=0.1, affine=True, track_running_stats=True)\n",
       "      (relu): ReLU(inplace=True)\n",
       "      (conv2): Conv2d(512, 512, kernel_size=(3, 3), stride=(1, 1), padding=(1, 1), bias=False)\n",
       "      (bn2): BatchNorm2d(512, eps=1e-05, momentum=0.1, affine=True, track_running_stats=True)\n",
       "      (downsample): Sequential(\n",
       "        (0): Conv2d(256, 512, kernel_size=(1, 1), stride=(2, 2), bias=False)\n",
       "        (1): BatchNorm2d(512, eps=1e-05, momentum=0.1, affine=True, track_running_stats=True)\n",
       "      )\n",
       "    )\n",
       "    (1): BasicBlock(\n",
       "      (conv1): Conv2d(512, 512, kernel_size=(3, 3), stride=(1, 1), padding=(1, 1), bias=False)\n",
       "      (bn1): BatchNorm2d(512, eps=1e-05, momentum=0.1, affine=True, track_running_stats=True)\n",
       "      (relu): ReLU(inplace=True)\n",
       "      (conv2): Conv2d(512, 512, kernel_size=(3, 3), stride=(1, 1), padding=(1, 1), bias=False)\n",
       "      (bn2): BatchNorm2d(512, eps=1e-05, momentum=0.1, affine=True, track_running_stats=True)\n",
       "    )\n",
       "    (2): BasicBlock(\n",
       "      (conv1): Conv2d(512, 512, kernel_size=(3, 3), stride=(1, 1), padding=(1, 1), bias=False)\n",
       "      (bn1): BatchNorm2d(512, eps=1e-05, momentum=0.1, affine=True, track_running_stats=True)\n",
       "      (relu): ReLU(inplace=True)\n",
       "      (conv2): Conv2d(512, 512, kernel_size=(3, 3), stride=(1, 1), padding=(1, 1), bias=False)\n",
       "      (bn2): BatchNorm2d(512, eps=1e-05, momentum=0.1, affine=True, track_running_stats=True)\n",
       "    )\n",
       "  )\n",
       "  (avgpool): AdaptiveAvgPool2d(output_size=(1, 1))\n",
       "  (fc): Linear(in_features=512, out_features=10, bias=True)\n",
       ")"
      ]
     },
     "execution_count": 34,
     "metadata": {},
     "output_type": "execute_result"
    }
   ],
   "source": [
    "# Assuming num_classes and device are defined earlier in the code\n",
    "num_classes = 10  # Example: set number of classes\n",
    "device = torch.device(\"cuda\" if torch.cuda.is_available() else \"cpu\")\n",
    "\n",
    "# 3. Load the saved ResNet34 and move the model to selected device.\n",
    "resnet34 = torchvision.models.resnet34(weights=None)\n",
    "in_features = resnet34.fc.in_features\n",
    "resnet34.fc = nn.Linear(in_features, num_classes)\n",
    "models_dir = os.path.abspath(os.path.join(os.getcwd(), '../models'))\n",
    "resnet34.load_state_dict(torch.load(os.path.join(models_dir, 'resnet34_checkpoint.pkl'), map_location=device))\n",
    "resnet34 = resnet34.to(device)\n",
    "resnet34.eval()  # Teacher model in eval mode"
   ]
  },
  {
   "cell_type": "code",
   "execution_count": null,
   "id": "f312a04da1e5ddf6",
   "metadata": {
    "ExecuteTime": {
     "end_time": "2025-05-10T01:57:49.170629Z",
     "start_time": "2025-05-10T01:57:49.152278Z"
    },
    "collapsed": false
   },
   "outputs": [
    {
     "name": "stderr",
     "output_type": "stream",
     "text": [
      "c:\\Users\\novas\\miniconda3\\envs\\MSA\\lib\\site-packages\\torch\\optim\\lr_scheduler.py:62: UserWarning: The verbose parameter is deprecated. Please use get_last_lr() to access the learning rate.\n",
      "  warnings.warn(\n"
     ]
    }
   ],
   "source": [
    "# 4. Define the optimizer, loss function, etc.\n",
    "from torch.optim.lr_scheduler import ReduceLROnPlateau\n",
    "\n",
    "optimizer = torch.optim.Adam(resnet18.parameters(), lr=INIT_LR, weight_decay=WEIGHT_DECAY)\n",
    "ce_loss = nn.CrossEntropyLoss()\n",
    "kl_loss = nn.KLDivLoss(reduction='batchmean')  # For distillation\n",
    "scheduler = ReduceLROnPlateau(optimizer, mode='min', factor=0.5, patience=5, verbose=True)"
   ]
  },
  {
   "cell_type": "code",
   "execution_count": 36,
   "id": "3c17f3f9eb662cef",
   "metadata": {
    "collapsed": false
   },
   "outputs": [
    {
     "name": "stderr",
     "output_type": "stream",
     "text": [
      "Epoch 1/60 [Train]: 100%|██████████| 61/61 [00:17<00:00,  3.59it/s]\n",
      "Epoch 1/60 [Train]: 100%|██████████| 61/61 [00:17<00:00,  3.59it/s]\n",
      "Epoch 1/60 [Val]: 100%|██████████| 21/21 [00:04<00:00,  4.77it/s]\n",
      "\n"
     ]
    },
    {
     "name": "stdout",
     "output_type": "stream",
     "text": [
      "Epoch 1/60 | Train Loss: 5.1873 Acc: 0.5371 | Val Loss: 2.6843 Acc: 0.5435\n"
     ]
    },
    {
     "name": "stderr",
     "output_type": "stream",
     "text": [
      "Epoch 2/60 [Train]: 100%|██████████| 61/61 [00:16<00:00,  3.59it/s]\n",
      "Epoch 2/60 [Train]: 100%|██████████| 61/61 [00:16<00:00,  3.59it/s]\n",
      "Epoch 2/60 [Val]: 100%|██████████| 21/21 [00:04<00:00,  4.68it/s]\n",
      "\n"
     ]
    },
    {
     "name": "stdout",
     "output_type": "stream",
     "text": [
      "Epoch 2/60 | Train Loss: 3.4116 Acc: 0.6973 | Val Loss: 1.3618 Acc: 0.6892\n"
     ]
    },
    {
     "name": "stderr",
     "output_type": "stream",
     "text": [
      "Epoch 3/60 [Train]: 100%|██████████| 61/61 [00:16<00:00,  3.61it/s]\n",
      "Epoch 3/60 [Train]: 100%|██████████| 61/61 [00:16<00:00,  3.61it/s]\n",
      "Epoch 3/60 [Val]: 100%|██████████| 21/21 [00:04<00:00,  4.68it/s]\n",
      "Epoch 3/60 [Val]: 100%|██████████| 21/21 [00:04<00:00,  4.68it/s]\n"
     ]
    },
    {
     "name": "stdout",
     "output_type": "stream",
     "text": [
      "Epoch 3/60 | Train Loss: 2.7615 Acc: 0.7545 | Val Loss: 1.6224 Acc: 0.6669\n"
     ]
    },
    {
     "name": "stderr",
     "output_type": "stream",
     "text": [
      "Epoch 4/60 [Train]: 100%|██████████| 61/61 [00:16<00:00,  3.62it/s]\n",
      "Epoch 4/60 [Train]: 100%|██████████| 61/61 [00:16<00:00,  3.62it/s]\n",
      "Epoch 4/60 [Val]: 100%|██████████| 21/21 [00:04<00:00,  4.81it/s]\n",
      "\n"
     ]
    },
    {
     "name": "stdout",
     "output_type": "stream",
     "text": [
      "Epoch 4/60 | Train Loss: 2.2766 Acc: 0.7923 | Val Loss: 1.1399 Acc: 0.7223\n"
     ]
    },
    {
     "name": "stderr",
     "output_type": "stream",
     "text": [
      "Epoch 5/60 [Train]: 100%|██████████| 61/61 [00:16<00:00,  3.62it/s]\n",
      "Epoch 5/60 [Train]: 100%|██████████| 61/61 [00:16<00:00,  3.62it/s]\n",
      "Epoch 5/60 [Val]: 100%|██████████| 21/21 [00:04<00:00,  4.82it/s]\n",
      "\n"
     ]
    },
    {
     "name": "stdout",
     "output_type": "stream",
     "text": [
      "Epoch 5/60 | Train Loss: 1.9747 Acc: 0.8195 | Val Loss: 1.1078 Acc: 0.7377\n"
     ]
    },
    {
     "name": "stderr",
     "output_type": "stream",
     "text": [
      "Epoch 6/60 [Train]: 100%|██████████| 61/61 [00:17<00:00,  3.43it/s]\n",
      "Epoch 6/60 [Train]: 100%|██████████| 61/61 [00:17<00:00,  3.43it/s]\n",
      "Epoch 6/60 [Val]: 100%|██████████| 21/21 [00:04<00:00,  4.53it/s]\n",
      "\n"
     ]
    },
    {
     "name": "stdout",
     "output_type": "stream",
     "text": [
      "Epoch 6/60 | Train Loss: 1.7388 Acc: 0.8378 | Val Loss: 0.8743 Acc: 0.7954\n"
     ]
    },
    {
     "name": "stderr",
     "output_type": "stream",
     "text": [
      "Epoch 7/60 [Train]: 100%|██████████| 61/61 [00:18<00:00,  3.37it/s]\n",
      "Epoch 7/60 [Train]: 100%|██████████| 61/61 [00:18<00:00,  3.37it/s]\n",
      "Epoch 7/60 [Val]: 100%|██████████| 21/21 [00:04<00:00,  4.48it/s]\n",
      "Epoch 7/60 [Val]: 100%|██████████| 21/21 [00:04<00:00,  4.48it/s]\n"
     ]
    },
    {
     "name": "stdout",
     "output_type": "stream",
     "text": [
      "Epoch 7/60 | Train Loss: 1.5042 Acc: 0.8601 | Val Loss: 1.2175 Acc: 0.7173\n"
     ]
    },
    {
     "name": "stderr",
     "output_type": "stream",
     "text": [
      "Epoch 8/60 [Train]: 100%|██████████| 61/61 [00:18<00:00,  3.28it/s]\n",
      "Epoch 8/60 [Train]: 100%|██████████| 61/61 [00:18<00:00,  3.28it/s]\n",
      "Epoch 8/60 [Val]: 100%|██████████| 21/21 [00:04<00:00,  4.67it/s]\n",
      "Epoch 8/60 [Val]: 100%|██████████| 21/21 [00:04<00:00,  4.67it/s]\n"
     ]
    },
    {
     "name": "stdout",
     "output_type": "stream",
     "text": [
      "Epoch 8/60 | Train Loss: 1.2510 Acc: 0.8891 | Val Loss: 1.0795 Acc: 0.7762\n"
     ]
    },
    {
     "name": "stderr",
     "output_type": "stream",
     "text": [
      "Epoch 9/60 [Train]: 100%|██████████| 61/61 [00:18<00:00,  3.32it/s]\n",
      "Epoch 9/60 [Train]: 100%|██████████| 61/61 [00:18<00:00,  3.32it/s]\n",
      "Epoch 9/60 [Val]: 100%|██████████| 21/21 [00:04<00:00,  4.84it/s]\n",
      "Epoch 9/60 [Val]: 100%|██████████| 21/21 [00:04<00:00,  4.84it/s]\n"
     ]
    },
    {
     "name": "stdout",
     "output_type": "stream",
     "text": [
      "Epoch 9/60 | Train Loss: 1.1095 Acc: 0.9013 | Val Loss: 1.5734 Acc: 0.6965\n"
     ]
    },
    {
     "name": "stderr",
     "output_type": "stream",
     "text": [
      "Epoch 10/60 [Train]: 100%|██████████| 61/61 [00:18<00:00,  3.34it/s]\n",
      "Epoch 10/60 [Train]: 100%|██████████| 61/61 [00:18<00:00,  3.34it/s]\n",
      "Epoch 10/60 [Val]: 100%|██████████| 21/21 [00:04<00:00,  4.51it/s]\n",
      "Epoch 10/60 [Val]: 100%|██████████| 21/21 [00:04<00:00,  4.51it/s]\n"
     ]
    },
    {
     "name": "stdout",
     "output_type": "stream",
     "text": [
      "Epoch 10/60 | Train Loss: 0.9636 Acc: 0.9178 | Val Loss: 1.2354 Acc: 0.7542\n"
     ]
    },
    {
     "name": "stderr",
     "output_type": "stream",
     "text": [
      "Epoch 11/60 [Train]: 100%|██████████| 61/61 [00:18<00:00,  3.31it/s]\n",
      "Epoch 11/60 [Train]: 100%|██████████| 61/61 [00:18<00:00,  3.31it/s]\n",
      "Epoch 11/60 [Val]: 100%|██████████| 21/21 [00:04<00:00,  4.56it/s]\n",
      "Epoch 11/60 [Val]: 100%|██████████| 21/21 [00:04<00:00,  4.56it/s]\n"
     ]
    },
    {
     "name": "stdout",
     "output_type": "stream",
     "text": [
      "Epoch 11/60 | Train Loss: 0.8982 Acc: 0.9235 | Val Loss: 1.2928 Acc: 0.7615\n"
     ]
    },
    {
     "name": "stderr",
     "output_type": "stream",
     "text": [
      "Epoch 12/60 [Train]: 100%|██████████| 61/61 [00:18<00:00,  3.23it/s]\n",
      "Epoch 12/60 [Train]: 100%|██████████| 61/61 [00:18<00:00,  3.23it/s]\n",
      "Epoch 12/60 [Val]: 100%|██████████| 21/21 [00:04<00:00,  4.53it/s]\n",
      "Epoch 12/60 [Val]: 100%|██████████| 21/21 [00:04<00:00,  4.53it/s]\n"
     ]
    },
    {
     "name": "stdout",
     "output_type": "stream",
     "text": [
      "Epoch 12/60 | Train Loss: 0.7281 Acc: 0.9427 | Val Loss: 1.8803 Acc: 0.7258\n"
     ]
    },
    {
     "name": "stderr",
     "output_type": "stream",
     "text": [
      "Epoch 13/60 [Train]: 100%|██████████| 61/61 [00:18<00:00,  3.38it/s]\n",
      "Epoch 13/60 [Train]: 100%|██████████| 61/61 [00:18<00:00,  3.38it/s]\n",
      "Epoch 13/60 [Val]: 100%|██████████| 21/21 [00:04<00:00,  4.68it/s]\n",
      "\n"
     ]
    },
    {
     "name": "stdout",
     "output_type": "stream",
     "text": [
      "Epoch 13/60 | Train Loss: 0.4077 Acc: 0.9758 | Val Loss: 0.6699 Acc: 0.8442\n"
     ]
    },
    {
     "name": "stderr",
     "output_type": "stream",
     "text": [
      "Epoch 14/60 [Train]: 100%|██████████| 61/61 [00:18<00:00,  3.36it/s]\n",
      "Epoch 14/60 [Train]: 100%|██████████| 61/61 [00:18<00:00,  3.36it/s]\n",
      "Epoch 14/60 [Val]: 100%|██████████| 21/21 [00:04<00:00,  4.82it/s]\n",
      "\n"
     ]
    },
    {
     "name": "stdout",
     "output_type": "stream",
     "text": [
      "Epoch 14/60 | Train Loss: 0.2884 Acc: 0.9877 | Val Loss: 0.6194 Acc: 0.8569\n"
     ]
    },
    {
     "name": "stderr",
     "output_type": "stream",
     "text": [
      "Epoch 15/60 [Train]: 100%|██████████| 61/61 [00:18<00:00,  3.24it/s]\n",
      "Epoch 15/60 [Train]: 100%|██████████| 61/61 [00:18<00:00,  3.24it/s]\n",
      "Epoch 15/60 [Val]: 100%|██████████| 21/21 [00:04<00:00,  4.42it/s]\n",
      "Epoch 15/60 [Val]: 100%|██████████| 21/21 [00:04<00:00,  4.42it/s]\n"
     ]
    },
    {
     "name": "stdout",
     "output_type": "stream",
     "text": [
      "Epoch 15/60 | Train Loss: 0.2308 Acc: 0.9905 | Val Loss: 0.6765 Acc: 0.8435\n"
     ]
    },
    {
     "name": "stderr",
     "output_type": "stream",
     "text": [
      "Epoch 16/60 [Train]: 100%|██████████| 61/61 [00:18<00:00,  3.29it/s]\n",
      "Epoch 16/60 [Train]: 100%|██████████| 61/61 [00:18<00:00,  3.29it/s]\n",
      "Epoch 16/60 [Val]: 100%|██████████| 21/21 [00:04<00:00,  4.59it/s]\n",
      "Epoch 16/60 [Val]: 100%|██████████| 21/21 [00:04<00:00,  4.59it/s]\n"
     ]
    },
    {
     "name": "stdout",
     "output_type": "stream",
     "text": [
      "Epoch 16/60 | Train Loss: 0.1994 Acc: 0.9945 | Val Loss: 0.6629 Acc: 0.8550\n"
     ]
    },
    {
     "name": "stderr",
     "output_type": "stream",
     "text": [
      "Epoch 17/60 [Train]: 100%|██████████| 61/61 [00:18<00:00,  3.27it/s]\n",
      "Epoch 17/60 [Train]: 100%|██████████| 61/61 [00:18<00:00,  3.27it/s]\n",
      "Epoch 17/60 [Val]: 100%|██████████| 21/21 [00:05<00:00,  4.11it/s]\n",
      "Epoch 17/60 [Val]: 100%|██████████| 21/21 [00:05<00:00,  4.11it/s]\n"
     ]
    },
    {
     "name": "stdout",
     "output_type": "stream",
     "text": [
      "Epoch 17/60 | Train Loss: 0.1730 Acc: 0.9950 | Val Loss: 0.7571 Acc: 0.8412\n"
     ]
    },
    {
     "name": "stderr",
     "output_type": "stream",
     "text": [
      "Epoch 18/60 [Train]: 100%|██████████| 61/61 [00:18<00:00,  3.36it/s]\n",
      "Epoch 18/60 [Train]: 100%|██████████| 61/61 [00:18<00:00,  3.36it/s]\n",
      "Epoch 18/60 [Val]: 100%|██████████| 21/21 [00:04<00:00,  4.71it/s]\n",
      "\n"
     ]
    },
    {
     "name": "stdout",
     "output_type": "stream",
     "text": [
      "Epoch 18/60 | Train Loss: 0.1606 Acc: 0.9954 | Val Loss: 0.6160 Acc: 0.8588\n"
     ]
    },
    {
     "name": "stderr",
     "output_type": "stream",
     "text": [
      "Epoch 19/60 [Train]: 100%|██████████| 61/61 [00:18<00:00,  3.37it/s]\n",
      "Epoch 19/60 [Train]: 100%|██████████| 61/61 [00:18<00:00,  3.37it/s]\n",
      "Epoch 19/60 [Val]: 100%|██████████| 21/21 [00:04<00:00,  4.58it/s]\n",
      "Epoch 19/60 [Val]: 100%|██████████| 21/21 [00:04<00:00,  4.58it/s]\n"
     ]
    },
    {
     "name": "stdout",
     "output_type": "stream",
     "text": [
      "Epoch 19/60 | Train Loss: 0.1636 Acc: 0.9969 | Val Loss: 0.7173 Acc: 0.8435\n"
     ]
    },
    {
     "name": "stderr",
     "output_type": "stream",
     "text": [
      "Epoch 20/60 [Train]: 100%|██████████| 61/61 [00:18<00:00,  3.32it/s]\n",
      "Epoch 20/60 [Train]: 100%|██████████| 61/61 [00:18<00:00,  3.32it/s]\n",
      "Epoch 20/60 [Val]: 100%|██████████| 21/21 [00:04<00:00,  4.83it/s]\n",
      "Epoch 20/60 [Val]: 100%|██████████| 21/21 [00:04<00:00,  4.83it/s]\n"
     ]
    },
    {
     "name": "stdout",
     "output_type": "stream",
     "text": [
      "Epoch 20/60 | Train Loss: 0.1717 Acc: 0.9951 | Val Loss: 0.6081 Acc: 0.8569\n"
     ]
    },
    {
     "name": "stderr",
     "output_type": "stream",
     "text": [
      "Epoch 21/60 [Train]: 100%|██████████| 61/61 [00:18<00:00,  3.34it/s]\n",
      "Epoch 21/60 [Train]: 100%|██████████| 61/61 [00:18<00:00,  3.34it/s]\n",
      "Epoch 21/60 [Val]: 100%|██████████| 21/21 [00:04<00:00,  4.56it/s]\n",
      "Epoch 21/60 [Val]: 100%|██████████| 21/21 [00:04<00:00,  4.56it/s]\n"
     ]
    },
    {
     "name": "stdout",
     "output_type": "stream",
     "text": [
      "Epoch 21/60 | Train Loss: 0.1664 Acc: 0.9944 | Val Loss: 0.8434 Acc: 0.8250\n"
     ]
    },
    {
     "name": "stderr",
     "output_type": "stream",
     "text": [
      "Epoch 22/60 [Train]: 100%|██████████| 61/61 [00:18<00:00,  3.28it/s]\n",
      "Epoch 22/60 [Train]: 100%|██████████| 61/61 [00:18<00:00,  3.28it/s]\n",
      "Epoch 22/60 [Val]: 100%|██████████| 21/21 [00:04<00:00,  4.54it/s]\n",
      "Epoch 22/60 [Val]: 100%|██████████| 21/21 [00:04<00:00,  4.54it/s]\n"
     ]
    },
    {
     "name": "stdout",
     "output_type": "stream",
     "text": [
      "Epoch 22/60 | Train Loss: 0.1607 Acc: 0.9945 | Val Loss: 0.7751 Acc: 0.8304\n"
     ]
    },
    {
     "name": "stderr",
     "output_type": "stream",
     "text": [
      "Epoch 23/60 [Train]: 100%|██████████| 61/61 [00:18<00:00,  3.36it/s]\n",
      "Epoch 23/60 [Train]: 100%|██████████| 61/61 [00:18<00:00,  3.36it/s]\n",
      "Epoch 23/60 [Val]: 100%|██████████| 21/21 [00:04<00:00,  4.37it/s]\n",
      "Epoch 23/60 [Val]: 100%|██████████| 21/21 [00:04<00:00,  4.37it/s]\n"
     ]
    },
    {
     "name": "stdout",
     "output_type": "stream",
     "text": [
      "Epoch 23/60 | Train Loss: 0.1427 Acc: 0.9968 | Val Loss: 0.6771 Acc: 0.8381\n"
     ]
    },
    {
     "name": "stderr",
     "output_type": "stream",
     "text": [
      "Epoch 24/60 [Train]: 100%|██████████| 61/61 [00:18<00:00,  3.39it/s]\n",
      "Epoch 24/60 [Train]: 100%|██████████| 61/61 [00:18<00:00,  3.39it/s]\n",
      "Epoch 24/60 [Val]: 100%|██████████| 21/21 [00:04<00:00,  4.50it/s]\n",
      "Epoch 24/60 [Val]: 100%|██████████| 21/21 [00:04<00:00,  4.50it/s]\n"
     ]
    },
    {
     "name": "stdout",
     "output_type": "stream",
     "text": [
      "Epoch 24/60 | Train Loss: 0.1536 Acc: 0.9946 | Val Loss: 0.7381 Acc: 0.8215\n"
     ]
    },
    {
     "name": "stderr",
     "output_type": "stream",
     "text": [
      "Epoch 25/60 [Train]: 100%|██████████| 61/61 [00:18<00:00,  3.24it/s]\n",
      "Epoch 25/60 [Train]: 100%|██████████| 61/61 [00:18<00:00,  3.24it/s]\n",
      "Epoch 25/60 [Val]: 100%|██████████| 21/21 [00:04<00:00,  4.51it/s]\n",
      "Epoch 25/60 [Val]: 100%|██████████| 21/21 [00:04<00:00,  4.51it/s]\n"
     ]
    },
    {
     "name": "stdout",
     "output_type": "stream",
     "text": [
      "Epoch 25/60 | Train Loss: 0.1449 Acc: 0.9968 | Val Loss: 0.8604 Acc: 0.8246\n"
     ]
    },
    {
     "name": "stderr",
     "output_type": "stream",
     "text": [
      "Epoch 26/60 [Train]: 100%|██████████| 61/61 [00:18<00:00,  3.34it/s]\n",
      "Epoch 26/60 [Train]: 100%|██████████| 61/61 [00:18<00:00,  3.34it/s]\n",
      "Epoch 26/60 [Val]: 100%|██████████| 21/21 [00:04<00:00,  4.28it/s]\n",
      "Epoch 26/60 [Val]: 100%|██████████| 21/21 [00:04<00:00,  4.28it/s]\n"
     ]
    },
    {
     "name": "stdout",
     "output_type": "stream",
     "text": [
      "Epoch 26/60 | Train Loss: 0.1417 Acc: 0.9950 | Val Loss: 0.8629 Acc: 0.8304\n"
     ]
    },
    {
     "name": "stderr",
     "output_type": "stream",
     "text": [
      "Epoch 27/60 [Train]: 100%|██████████| 61/61 [00:17<00:00,  3.47it/s]\n",
      "Epoch 27/60 [Train]: 100%|██████████| 61/61 [00:17<00:00,  3.47it/s]\n",
      "Epoch 27/60 [Val]: 100%|██████████| 21/21 [00:04<00:00,  4.70it/s]\n",
      "\n"
     ]
    },
    {
     "name": "stdout",
     "output_type": "stream",
     "text": [
      "Epoch 27/60 | Train Loss: 0.1201 Acc: 0.9971 | Val Loss: 0.5612 Acc: 0.8615\n"
     ]
    },
    {
     "name": "stderr",
     "output_type": "stream",
     "text": [
      "Epoch 28/60 [Train]: 100%|██████████| 61/61 [00:17<00:00,  3.46it/s]\n",
      "Epoch 28/60 [Train]: 100%|██████████| 61/61 [00:17<00:00,  3.46it/s]\n",
      "Epoch 28/60 [Val]: 100%|██████████| 21/21 [00:04<00:00,  4.53it/s]\n",
      "Epoch 28/60 [Val]: 100%|██████████| 21/21 [00:04<00:00,  4.53it/s]\n"
     ]
    },
    {
     "name": "stdout",
     "output_type": "stream",
     "text": [
      "Epoch 28/60 | Train Loss: 0.0991 Acc: 0.9988 | Val Loss: 0.5778 Acc: 0.8615\n"
     ]
    },
    {
     "name": "stderr",
     "output_type": "stream",
     "text": [
      "Epoch 29/60 [Train]: 100%|██████████| 61/61 [00:18<00:00,  3.28it/s]\n",
      "Epoch 29/60 [Train]: 100%|██████████| 61/61 [00:18<00:00,  3.28it/s]\n",
      "Epoch 29/60 [Val]: 100%|██████████| 21/21 [00:04<00:00,  4.71it/s]\n",
      "\n"
     ]
    },
    {
     "name": "stdout",
     "output_type": "stream",
     "text": [
      "Epoch 29/60 | Train Loss: 0.0945 Acc: 0.9987 | Val Loss: 0.5730 Acc: 0.8619\n"
     ]
    },
    {
     "name": "stderr",
     "output_type": "stream",
     "text": [
      "Epoch 30/60 [Train]: 100%|██████████| 61/61 [00:18<00:00,  3.31it/s]\n",
      "Epoch 30/60 [Train]: 100%|██████████| 61/61 [00:18<00:00,  3.31it/s]\n",
      "Epoch 30/60 [Val]: 100%|██████████| 21/21 [00:04<00:00,  4.65it/s]\n",
      "Epoch 30/60 [Val]: 100%|██████████| 21/21 [00:04<00:00,  4.65it/s]\n"
     ]
    },
    {
     "name": "stdout",
     "output_type": "stream",
     "text": [
      "Epoch 30/60 | Train Loss: 0.0956 Acc: 0.9977 | Val Loss: 0.5709 Acc: 0.8596\n"
     ]
    },
    {
     "name": "stderr",
     "output_type": "stream",
     "text": [
      "Epoch 31/60 [Train]: 100%|██████████| 61/61 [00:18<00:00,  3.38it/s]\n",
      "Epoch 31/60 [Train]: 100%|██████████| 61/61 [00:18<00:00,  3.38it/s]\n",
      "Epoch 31/60 [Val]: 100%|██████████| 21/21 [00:04<00:00,  4.32it/s]\n",
      "\n"
     ]
    },
    {
     "name": "stdout",
     "output_type": "stream",
     "text": [
      "Epoch 31/60 | Train Loss: 0.0967 Acc: 0.9987 | Val Loss: 0.5653 Acc: 0.8662\n"
     ]
    },
    {
     "name": "stderr",
     "output_type": "stream",
     "text": [
      "Epoch 32/60 [Train]: 100%|██████████| 61/61 [00:18<00:00,  3.26it/s]\n",
      "Epoch 32/60 [Train]: 100%|██████████| 61/61 [00:18<00:00,  3.26it/s]\n",
      "Epoch 32/60 [Val]: 100%|██████████| 21/21 [00:04<00:00,  4.44it/s]\n",
      "Epoch 32/60 [Val]: 100%|██████████| 21/21 [00:04<00:00,  4.44it/s]\n"
     ]
    },
    {
     "name": "stdout",
     "output_type": "stream",
     "text": [
      "Epoch 32/60 | Train Loss: 0.0932 Acc: 0.9976 | Val Loss: 0.6463 Acc: 0.8454\n"
     ]
    },
    {
     "name": "stderr",
     "output_type": "stream",
     "text": [
      "Epoch 33/60 [Train]: 100%|██████████| 61/61 [00:18<00:00,  3.28it/s]\n",
      "Epoch 33/60 [Train]: 100%|██████████| 61/61 [00:18<00:00,  3.28it/s]\n",
      "Epoch 33/60 [Val]: 100%|██████████| 21/21 [00:04<00:00,  4.39it/s]\n",
      "\n"
     ]
    },
    {
     "name": "stdout",
     "output_type": "stream",
     "text": [
      "Epoch 33/60 | Train Loss: 0.0850 Acc: 0.9990 | Val Loss: 0.5606 Acc: 0.8681\n"
     ]
    },
    {
     "name": "stderr",
     "output_type": "stream",
     "text": [
      "Epoch 34/60 [Train]: 100%|██████████| 61/61 [00:18<00:00,  3.26it/s]\n",
      "Epoch 34/60 [Train]: 100%|██████████| 61/61 [00:18<00:00,  3.26it/s]\n",
      "Epoch 34/60 [Val]: 100%|██████████| 21/21 [00:04<00:00,  4.54it/s]\n",
      "Epoch 34/60 [Val]: 100%|██████████| 21/21 [00:04<00:00,  4.54it/s]\n"
     ]
    },
    {
     "name": "stdout",
     "output_type": "stream",
     "text": [
      "Epoch 34/60 | Train Loss: 0.0871 Acc: 0.9978 | Val Loss: 0.5948 Acc: 0.8585\n"
     ]
    },
    {
     "name": "stderr",
     "output_type": "stream",
     "text": [
      "Epoch 35/60 [Train]: 100%|██████████| 61/61 [00:18<00:00,  3.30it/s]\n",
      "Epoch 35/60 [Train]: 100%|██████████| 61/61 [00:18<00:00,  3.30it/s]\n",
      "Epoch 35/60 [Val]: 100%|██████████| 21/21 [00:04<00:00,  4.59it/s]\n",
      "Epoch 35/60 [Val]: 100%|██████████| 21/21 [00:04<00:00,  4.59it/s]\n"
     ]
    },
    {
     "name": "stdout",
     "output_type": "stream",
     "text": [
      "Epoch 35/60 | Train Loss: 0.0831 Acc: 0.9985 | Val Loss: 0.5520 Acc: 0.8654\n"
     ]
    },
    {
     "name": "stderr",
     "output_type": "stream",
     "text": [
      "Epoch 36/60 [Train]: 100%|██████████| 61/61 [00:18<00:00,  3.37it/s]\n",
      "Epoch 36/60 [Train]: 100%|██████████| 61/61 [00:18<00:00,  3.37it/s]\n",
      "Epoch 36/60 [Val]: 100%|██████████| 21/21 [00:04<00:00,  4.57it/s]\n",
      "Epoch 36/60 [Val]: 100%|██████████| 21/21 [00:04<00:00,  4.57it/s]\n"
     ]
    },
    {
     "name": "stdout",
     "output_type": "stream",
     "text": [
      "Epoch 36/60 | Train Loss: 0.0863 Acc: 0.9978 | Val Loss: 0.5731 Acc: 0.8650\n"
     ]
    },
    {
     "name": "stderr",
     "output_type": "stream",
     "text": [
      "Epoch 37/60 [Train]: 100%|██████████| 61/61 [00:18<00:00,  3.33it/s]\n",
      "Epoch 37/60 [Train]: 100%|██████████| 61/61 [00:18<00:00,  3.33it/s]\n",
      "Epoch 37/60 [Val]: 100%|██████████| 21/21 [00:04<00:00,  4.25it/s]\n",
      "Epoch 37/60 [Val]: 100%|██████████| 21/21 [00:04<00:00,  4.25it/s]\n"
     ]
    },
    {
     "name": "stdout",
     "output_type": "stream",
     "text": [
      "Epoch 37/60 | Train Loss: 0.0892 Acc: 0.9983 | Val Loss: 0.6123 Acc: 0.8623\n"
     ]
    },
    {
     "name": "stderr",
     "output_type": "stream",
     "text": [
      "Epoch 38/60 [Train]: 100%|██████████| 61/61 [00:18<00:00,  3.31it/s]\n",
      "Epoch 38/60 [Train]: 100%|██████████| 61/61 [00:18<00:00,  3.31it/s]\n",
      "Epoch 38/60 [Val]: 100%|██████████| 21/21 [00:04<00:00,  4.82it/s]\n",
      "Epoch 38/60 [Val]: 100%|██████████| 21/21 [00:04<00:00,  4.82it/s]\n"
     ]
    },
    {
     "name": "stdout",
     "output_type": "stream",
     "text": [
      "Epoch 38/60 | Train Loss: 0.0912 Acc: 0.9969 | Val Loss: 0.5819 Acc: 0.8642\n"
     ]
    },
    {
     "name": "stderr",
     "output_type": "stream",
     "text": [
      "Epoch 39/60 [Train]: 100%|██████████| 61/61 [00:18<00:00,  3.32it/s]\n",
      "Epoch 39/60 [Train]: 100%|██████████| 61/61 [00:18<00:00,  3.32it/s]\n",
      "Epoch 39/60 [Val]: 100%|██████████| 21/21 [00:04<00:00,  4.69it/s]\n",
      "Epoch 39/60 [Val]: 100%|██████████| 21/21 [00:04<00:00,  4.69it/s]\n"
     ]
    },
    {
     "name": "stdout",
     "output_type": "stream",
     "text": [
      "Epoch 39/60 | Train Loss: 0.0917 Acc: 0.9982 | Val Loss: 0.5889 Acc: 0.8585\n"
     ]
    },
    {
     "name": "stderr",
     "output_type": "stream",
     "text": [
      "Epoch 40/60 [Train]: 100%|██████████| 61/61 [00:18<00:00,  3.28it/s]\n",
      "Epoch 40/60 [Train]: 100%|██████████| 61/61 [00:18<00:00,  3.28it/s]\n",
      "Epoch 40/60 [Val]: 100%|██████████| 21/21 [00:04<00:00,  4.54it/s]\n",
      "Epoch 40/60 [Val]: 100%|██████████| 21/21 [00:04<00:00,  4.54it/s]\n"
     ]
    },
    {
     "name": "stdout",
     "output_type": "stream",
     "text": [
      "Epoch 40/60 | Train Loss: 0.0877 Acc: 0.9981 | Val Loss: 0.5919 Acc: 0.8558\n"
     ]
    },
    {
     "name": "stderr",
     "output_type": "stream",
     "text": [
      "Epoch 41/60 [Train]: 100%|██████████| 61/61 [00:18<00:00,  3.36it/s]\n",
      "Epoch 41/60 [Train]: 100%|██████████| 61/61 [00:18<00:00,  3.36it/s]\n",
      "Epoch 41/60 [Val]: 100%|██████████| 21/21 [00:04<00:00,  4.49it/s]\n",
      "Epoch 41/60 [Val]: 100%|██████████| 21/21 [00:04<00:00,  4.49it/s]\n"
     ]
    },
    {
     "name": "stdout",
     "output_type": "stream",
     "text": [
      "Epoch 41/60 | Train Loss: 0.0958 Acc: 0.9979 | Val Loss: 0.6490 Acc: 0.8523\n"
     ]
    },
    {
     "name": "stderr",
     "output_type": "stream",
     "text": [
      "Epoch 42/60 [Train]: 100%|██████████| 61/61 [00:18<00:00,  3.33it/s]\n",
      "Epoch 42/60 [Train]: 100%|██████████| 61/61 [00:18<00:00,  3.33it/s]\n",
      "Epoch 42/60 [Val]: 100%|██████████| 21/21 [00:04<00:00,  4.66it/s]\n",
      "Epoch 42/60 [Val]: 100%|██████████| 21/21 [00:04<00:00,  4.66it/s]\n"
     ]
    },
    {
     "name": "stdout",
     "output_type": "stream",
     "text": [
      "Epoch 42/60 | Train Loss: 0.0754 Acc: 0.9987 | Val Loss: 0.5605 Acc: 0.8646\n"
     ]
    },
    {
     "name": "stderr",
     "output_type": "stream",
     "text": [
      "Epoch 43/60 [Train]: 100%|██████████| 61/61 [00:18<00:00,  3.33it/s]\n",
      "Epoch 43/60 [Train]: 100%|██████████| 61/61 [00:18<00:00,  3.33it/s]\n",
      "Epoch 43/60 [Val]: 100%|██████████| 21/21 [00:04<00:00,  4.47it/s]"
     ]
    },
    {
     "name": "stdout",
     "output_type": "stream",
     "text": [
      "Epoch 43/60 | Train Loss: 0.0655 Acc: 0.9988 | Val Loss: 0.5333 Acc: 0.8662\n",
      "Early stopping triggered at epoch 43.\n",
      "Best val acc: 0.8681 at epoch 33\n"
     ]
    },
    {
     "name": "stderr",
     "output_type": "stream",
     "text": [
      "\n"
     ]
    }
   ],
   "source": [
    "# 5. Train ResNet18 and save the best-performing parameters to 'resnet18_checkpoint.pkl'. (优化版)\n",
    "# Knowledge distillation training loop\n",
    "from torch.utils.data import TensorDataset, DataLoader\n",
    "import numpy as np\n",
    "train_dataset = TensorDataset(tensor_train, labels_train_index)\n",
    "val_dataset = TensorDataset(tensor_val, labels_val_index)\n",
    "\n",
    "train_loader = DataLoader(train_dataset, batch_size=BATCH_SIZE, shuffle=True, num_workers=NUM_WORKERS, pin_memory=PIN_MEMORY)\n",
    "val_loader = DataLoader(val_dataset, batch_size=BATCH_SIZE, shuffle=False, num_workers=NUM_WORKERS, pin_memory=PIN_MEMORY)\n",
    "\n",
    "train_accs_resnet18, train_losses_resnet18, val_accs_resnet18, val_losses_resnet18 = [], [], [], []\n",
    "best_val_acc = 0.0\n",
    "best_model_wts = copy.deepcopy(resnet18.state_dict())\n",
    "best_epoch = 0\n",
    "early_stopping_counter = 0\n",
    "min_val_loss = np.inf\n",
    "\n",
    "for epoch in range(MAX_EPOCH):\n",
    "    resnet18.train()\n",
    "    running_loss = 0.0\n",
    "    running_corrects = 0\n",
    "    total = 0\n",
    "    for inputs, labels in tqdm(train_loader, desc=f\"Epoch {epoch+1}/{MAX_EPOCH} [Train]\"):\n",
    "        inputs, labels = inputs.to(device), labels.to(device)\n",
    "        optimizer.zero_grad()\n",
    "        # Student forward\n",
    "        student_logits = resnet18(inputs)\n",
    "        # Teacher forward (no grad)\n",
    "        with torch.no_grad():\n",
    "            teacher_logits = resnet34(inputs)\n",
    "        # Distillation loss (KLDiv with softmax/temperature)\n",
    "        log_student_soft = F.log_softmax(student_logits / TEMPERATURE, dim=1)\n",
    "        teacher_soft = F.softmax(teacher_logits / TEMPERATURE, dim=1)\n",
    "        loss_kd = kl_loss(log_student_soft, teacher_soft) * (TEMPERATURE ** 2)\n",
    "        # Standard CE loss\n",
    "        loss_ce = ce_loss(student_logits, labels)\n",
    "        # Total loss\n",
    "        loss = LOSS_RATIO * loss_kd + (1 - LOSS_RATIO) * loss_ce\n",
    "        loss.backward()\n",
    "        optimizer.step()\n",
    "        running_loss += loss.item() * inputs.size(0)\n",
    "        _, preds = torch.max(student_logits, 1)\n",
    "        running_corrects += (preds == labels).sum().item()\n",
    "        total += labels.size(0)\n",
    "    epoch_loss = running_loss / total\n",
    "    epoch_acc = running_corrects / total\n",
    "    train_losses_resnet18.append(epoch_loss)\n",
    "    train_accs_resnet18.append(epoch_acc)\n",
    "\n",
    "    # Validation\n",
    "    resnet18.eval()\n",
    "    val_loss = 0.0\n",
    "    val_corrects = 0\n",
    "    val_total = 0\n",
    "    with torch.no_grad():\n",
    "        for inputs, labels in tqdm(val_loader, desc=f\"Epoch {epoch+1}/{MAX_EPOCH} [Val]\"):\n",
    "            inputs, labels = inputs.to(device), labels.to(device)\n",
    "            student_logits = resnet18(inputs)\n",
    "            loss = ce_loss(student_logits, labels)\n",
    "            val_loss += loss.item() * inputs.size(0)\n",
    "            _, preds = torch.max(student_logits, 1)\n",
    "            val_corrects += (preds == labels).sum().item()\n",
    "            val_total += labels.size(0)\n",
    "    val_epoch_loss = val_loss / val_total\n",
    "    val_epoch_acc = val_corrects / val_total\n",
    "    val_losses_resnet18.append(val_epoch_loss)\n",
    "    val_accs_resnet18.append(val_epoch_acc)\n",
    "\n",
    "    print(f\"Epoch {epoch+1}/{MAX_EPOCH} | Train Loss: {epoch_loss:.4f} Acc: {epoch_acc:.4f} | Val Loss: {val_epoch_loss:.4f} Acc: {val_epoch_acc:.4f}\")\n",
    "\n",
    "    # 学习率调度\n",
    "    scheduler.step(val_epoch_loss)\n",
    "\n",
    "    # Save best model\n",
    "    if val_epoch_acc > best_val_acc:\n",
    "        best_val_acc = val_epoch_acc\n",
    "        best_model_wts = copy.deepcopy(resnet18.state_dict())\n",
    "        best_epoch = epoch\n",
    "        torch.save(best_model_wts, os.path.join(models_dir, 'resnet18_checkpoint.pkl'))\n",
    "        early_stopping_counter = 0\n",
    "    else:\n",
    "        early_stopping_counter += 1\n",
    "\n",
    "    # Early stopping\n",
    "    if val_epoch_loss < min_val_loss:\n",
    "        min_val_loss = val_epoch_loss\n",
    "    if early_stopping_counter >= EARLY_STOPPING_PATIENCE:\n",
    "        print(f\"Early stopping triggered at epoch {epoch+1}.\")\n",
    "        break\n",
    "\n",
    "# After training, load best weights\n",
    "resnet18.load_state_dict(best_model_wts)\n",
    "print(f\"Best val acc: {best_val_acc:.4f} at epoch {best_epoch+1}\")\n"
   ]
  },
  {
   "cell_type": "code",
   "execution_count": null,
   "id": "260396b6b143a422",
   "metadata": {
    "ExecuteTime": {
     "end_time": "2025-05-10T03:04:33.157515Z",
     "start_time": "2025-05-10T03:04:32.960493Z"
    },
    "collapsed": false
   },
   "outputs": [
    {
     "data": {
      "image/png": "[encoded data removed]",
      "text/plain": [
       "<Figure size 1200x500 with 2 Axes>"
      ]
     },
     "metadata": {},
     "output_type": "display_data"
    }
   ],
   "source": [
    "# 6. Plot the loss and accuracy curves.\n",
    "plt.figure(figsize=(12, 5))\n",
    "plt.subplot(1, 2, 1)\n",
    "plt.plot(train_losses_resnet18, label='Train Loss')\n",
    "plt.plot(val_losses_resnet18, label='Val Loss')\n",
    "plt.xlabel('Epoch')\n",
    "plt.ylabel('Loss')\n",
    "plt.title('ResNet18 (Student) Loss Curve')\n",
    "plt.legend()\n",
    "plt.ylim(bottom=0)\n",
    "\n",
    "plt.subplot(1, 2, 2)\n",
    "plt.plot(train_accs_resnet18, label='Train Acc')\n",
    "plt.plot(val_accs_resnet18, label='Val Acc')\n",
    "plt.xlabel('Epoch')\n",
    "plt.ylabel('Accuracy')\n",
    "plt.title('ResNet18 (Student) Accuracy Curve')\n",
    "plt.legend()\n",
    "plt.ylim(bottom=0, top=1)\n",
    "\n",
    "plt.tight_layout()\n",
    "plt.show()\n",
    "\n"
   ]
  },
  {
   "cell_type": "markdown",
   "id": "730790a6c4e96912",
   "metadata": {
    "collapsed": false
   },
   "source": [
    "# Step 4 Predict labels in the testing set\n",
    "1. Load the saved ResNet18 and move it to the selected device.\n",
    "2. Do prediction using the images in the testing set.\n",
    "3. Write the results into the CSV file for submission."
   ]
  },
  {
   "cell_type": "code",
   "execution_count": null,
   "id": "d2a8f6f703b42a0a",
   "metadata": {
    "collapsed": false
   },
   "outputs": [
    {
     "name": "stderr",
     "output_type": "stream",
     "text": [
      "C:\\Users\\novas\\AppData\\Local\\Temp\\ipykernel_13360\\1480213778.py:9: FutureWarning: You are using `torch.load` with `weights_only=False` (the current default value), which uses the default pickle module implicitly. It is possible to construct malicious pickle data which will execute arbitrary code during unpickling (See https://github.com/pytorch/pytorch/blob/main/SECURITY.md#untrusted-models for more details). In a future release, the default value for `weights_only` will be flipped to `True`. This limits the functions that could be executed during unpickling. Arbitrary objects will no longer be allowed to be loaded via this mode unless they are explicitly allowlisted by the user via `torch.serialization.add_safe_globals`. We recommend you start setting `weights_only=True` for any use case where you don't have full control of the loaded file. Please open an issue on GitHub for any issues related to this experimental feature.\n",
      "  resnet18.load_state_dict(torch.load(os.path.join(models_dir, 'resnet18_checkpoint.pkl'), map_location=device))\n"
     ]
    },
    {
     "data": {
      "text/plain": [
       "ResNet(\n",
       "  (conv1): Conv2d(3, 64, kernel_size=(7, 7), stride=(2, 2), padding=(3, 3), bias=False)\n",
       "  (bn1): BatchNorm2d(64, eps=1e-05, momentum=0.1, affine=True, track_running_stats=True)\n",
       "  (relu): ReLU(inplace=True)\n",
       "  (maxpool): MaxPool2d(kernel_size=3, stride=2, padding=1, dilation=1, ceil_mode=False)\n",
       "  (layer1): Sequential(\n",
       "    (0): BasicBlock(\n",
       "      (conv1): Conv2d(64, 64, kernel_size=(3, 3), stride=(1, 1), padding=(1, 1), bias=False)\n",
       "      (bn1): BatchNorm2d(64, eps=1e-05, momentum=0.1, affine=True, track_running_stats=True)\n",
       "      (relu): ReLU(inplace=True)\n",
       "      (conv2): Conv2d(64, 64, kernel_size=(3, 3), stride=(1, 1), padding=(1, 1), bias=False)\n",
       "      (bn2): BatchNorm2d(64, eps=1e-05, momentum=0.1, affine=True, track_running_stats=True)\n",
       "    )\n",
       "    (1): BasicBlock(\n",
       "      (conv1): Conv2d(64, 64, kernel_size=(3, 3), stride=(1, 1), padding=(1, 1), bias=False)\n",
       "      (bn1): BatchNorm2d(64, eps=1e-05, momentum=0.1, affine=True, track_running_stats=True)\n",
       "      (relu): ReLU(inplace=True)\n",
       "      (conv2): Conv2d(64, 64, kernel_size=(3, 3), stride=(1, 1), padding=(1, 1), bias=False)\n",
       "      (bn2): BatchNorm2d(64, eps=1e-05, momentum=0.1, affine=True, track_running_stats=True)\n",
       "    )\n",
       "  )\n",
       "  (layer2): Sequential(\n",
       "    (0): BasicBlock(\n",
       "      (conv1): Conv2d(64, 128, kernel_size=(3, 3), stride=(2, 2), padding=(1, 1), bias=False)\n",
       "      (bn1): BatchNorm2d(128, eps=1e-05, momentum=0.1, affine=True, track_running_stats=True)\n",
       "      (relu): ReLU(inplace=True)\n",
       "      (conv2): Conv2d(128, 128, kernel_size=(3, 3), stride=(1, 1), padding=(1, 1), bias=False)\n",
       "      (bn2): BatchNorm2d(128, eps=1e-05, momentum=0.1, affine=True, track_running_stats=True)\n",
       "      (downsample): Sequential(\n",
       "        (0): Conv2d(64, 128, kernel_size=(1, 1), stride=(2, 2), bias=False)\n",
       "        (1): BatchNorm2d(128, eps=1e-05, momentum=0.1, affine=True, track_running_stats=True)\n",
       "      )\n",
       "    )\n",
       "    (1): BasicBlock(\n",
       "      (conv1): Conv2d(128, 128, kernel_size=(3, 3), stride=(1, 1), padding=(1, 1), bias=False)\n",
       "      (bn1): BatchNorm2d(128, eps=1e-05, momentum=0.1, affine=True, track_running_stats=True)\n",
       "      (relu): ReLU(inplace=True)\n",
       "      (conv2): Conv2d(128, 128, kernel_size=(3, 3), stride=(1, 1), padding=(1, 1), bias=False)\n",
       "      (bn2): BatchNorm2d(128, eps=1e-05, momentum=0.1, affine=True, track_running_stats=True)\n",
       "    )\n",
       "  )\n",
       "  (layer3): Sequential(\n",
       "    (0): BasicBlock(\n",
       "      (conv1): Conv2d(128, 256, kernel_size=(3, 3), stride=(2, 2), padding=(1, 1), bias=False)\n",
       "      (bn1): BatchNorm2d(256, eps=1e-05, momentum=0.1, affine=True, track_running_stats=True)\n",
       "      (relu): ReLU(inplace=True)\n",
       "      (conv2): Conv2d(256, 256, kernel_size=(3, 3), stride=(1, 1), padding=(1, 1), bias=False)\n",
       "      (bn2): BatchNorm2d(256, eps=1e-05, momentum=0.1, affine=True, track_running_stats=True)\n",
       "      (downsample): Sequential(\n",
       "        (0): Conv2d(128, 256, kernel_size=(1, 1), stride=(2, 2), bias=False)\n",
       "        (1): BatchNorm2d(256, eps=1e-05, momentum=0.1, affine=True, track_running_stats=True)\n",
       "      )\n",
       "    )\n",
       "    (1): BasicBlock(\n",
       "      (conv1): Conv2d(256, 256, kernel_size=(3, 3), stride=(1, 1), padding=(1, 1), bias=False)\n",
       "      (bn1): BatchNorm2d(256, eps=1e-05, momentum=0.1, affine=True, track_running_stats=True)\n",
       "      (relu): ReLU(inplace=True)\n",
       "      (conv2): Conv2d(256, 256, kernel_size=(3, 3), stride=(1, 1), padding=(1, 1), bias=False)\n",
       "      (bn2): BatchNorm2d(256, eps=1e-05, momentum=0.1, affine=True, track_running_stats=True)\n",
       "    )\n",
       "  )\n",
       "  (layer4): Sequential(\n",
       "    (0): BasicBlock(\n",
       "      (conv1): Conv2d(256, 512, kernel_size=(3, 3), stride=(2, 2), padding=(1, 1), bias=False)\n",
       "      (bn1): BatchNorm2d(512, eps=1e-05, momentum=0.1, affine=True, track_running_stats=True)\n",
       "      (relu): ReLU(inplace=True)\n",
       "      (conv2): Conv2d(512, 512, kernel_size=(3, 3), stride=(1, 1), padding=(1, 1), bias=False)\n",
       "      (bn2): BatchNorm2d(512, eps=1e-05, momentum=0.1, affine=True, track_running_stats=True)\n",
       "      (downsample): Sequential(\n",
       "        (0): Conv2d(256, 512, kernel_size=(1, 1), stride=(2, 2), bias=False)\n",
       "        (1): BatchNorm2d(512, eps=1e-05, momentum=0.1, affine=True, track_running_stats=True)\n",
       "      )\n",
       "    )\n",
       "    (1): BasicBlock(\n",
       "      (conv1): Conv2d(512, 512, kernel_size=(3, 3), stride=(1, 1), padding=(1, 1), bias=False)\n",
       "      (bn1): BatchNorm2d(512, eps=1e-05, momentum=0.1, affine=True, track_running_stats=True)\n",
       "      (relu): ReLU(inplace=True)\n",
       "      (conv2): Conv2d(512, 512, kernel_size=(3, 3), stride=(1, 1), padding=(1, 1), bias=False)\n",
       "      (bn2): BatchNorm2d(512, eps=1e-05, momentum=0.1, affine=True, track_running_stats=True)\n",
       "    )\n",
       "  )\n",
       "  (avgpool): AdaptiveAvgPool2d(output_size=(1, 1))\n",
       "  (fc): Linear(in_features=512, out_features=10, bias=True)\n",
       ")"
      ]
     },
     "execution_count": 38,
     "metadata": {},
     "output_type": "execute_result"
    }
   ],
   "source": [
    "# 1. Load the saved ResNet18 and move it to the selected device.\n",
    "models_dir = os.path.abspath(os.path.join(os.getcwd(), '../models'))\n",
    "device = torch.device(\"cuda\" if torch.cuda.is_available() else \"cpu\")\n",
    "\n",
    "resnet18 = torchvision.models.resnet18(weights=None)\n",
    "in_features = resnet18.fc.in_features\n",
    "resnet18.fc = nn.Linear(in_features, num_classes)\n",
    "resnet18.load_state_dict(torch.load(os.path.join(models_dir, 'resnet18_checkpoint.pkl'), map_location=device))\n",
    "resnet18 = resnet18.to(device)\n",
    "resnet18.eval()  # Evaluation mode\n"
   ]
  },
  {
   "cell_type": "code",
   "execution_count": null,
   "id": "44ee908450e937e7",
   "metadata": {
    "ExecuteTime": {
     "end_time": "2025-05-10T03:43:20.873625Z",
     "start_time": "2025-05-10T03:43:18.999813Z"
    },
    "collapsed": false
   },
   "outputs": [],
   "source": [
    "# 2. Do prediction using the images in the testing set.\n",
    "from torch.utils.data import DataLoader\n",
    "test_dataset = torch.utils.data.TensorDataset(tensor_test)\n",
    "test_loader = DataLoader(test_dataset, batch_size=BATCH_SIZE, shuffle=False, num_workers=NUM_WORKERS, pin_memory=PIN_MEMORY)\n",
    "predictions = []\n",
    "with torch.no_grad():\n",
    "    for (inputs,) in test_loader:\n",
    "        inputs = inputs.to(device)\n",
    "        outputs = resnet18(inputs)\n",
    "        _, preds = torch.max(outputs, 1)\n",
    "        predictions.extend(preds.cpu().numpy())\n"
   ]
  },
  {
   "cell_type": "code",
   "execution_count": null,
   "id": "bee5ddbde0d132cf",
   "metadata": {
    "collapsed": false
   },
   "outputs": [
    {
     "name": "stdout",
     "output_type": "stream",
     "text": [
      "Submission file saved to: d:\\Projects2025\\2025-Phase-2\\data-science\\3. Deep Learning Project\\submission.csv\n"
     ]
    }
   ],
   "source": [
    "# 3. Write the results into the CSV file for submission.\n",
    "# The CSV file should be in the format of 'file_name' and 'label'.\n",
    "submission_path = os.path.abspath(os.path.join(os.getcwd(), '../submission.csv'))\n",
    "with open(submission_path, 'w', newline='') as csvfile:\n",
    "    writer = csv.writer(csvfile)\n",
    "    writer.writerow(['file_name', 'label'])\n",
    "    for idx, pred in enumerate(predictions):\n",
    "        label = index_to_label[pred]\n",
    "        file_name = f\"{idx}.jpg\"\n",
    "        writer.writerow([file_name, label])\n",
    "print(f\"Submission file saved to: {submission_path}\")\n"
   ]
  }
 ],
 "metadata": {
  "kernelspec": {
   "display_name": "MSA",
   "language": "python",
   "name": "python3"
  },
  "language_info": {
   "codemirror_mode": {
    "name": "ipython",
    "version": 3
   },
   "file_extension": ".py",
   "mimetype": "text/x-python",
   "name": "python",
   "nbconvert_exporter": "python",
   "pygments_lexer": "ipython3",
   "version": "3.10.16"
  }
 },
 "nbformat": 4,
 "nbformat_minor": 5
}
